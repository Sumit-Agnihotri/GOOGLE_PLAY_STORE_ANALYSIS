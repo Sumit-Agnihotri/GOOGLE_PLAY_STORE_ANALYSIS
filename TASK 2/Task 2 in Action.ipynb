{
 "cells": [
  {
   "cell_type": "code",
   "execution_count": 26,
   "id": "3a000326",
   "metadata": {},
   "outputs": [],
   "source": [
    "import numpy as np\n",
    "import pandas as pd\n",
    "import plotly.express as px"
   ]
  },
  {
   "cell_type": "code",
   "execution_count": 27,
   "id": "53cd5a12",
   "metadata": {},
   "outputs": [
    {
     "data": {
      "application/vnd.microsoft.datawrangler.viewer.v0+json": {
       "columns": [
        {
         "name": "index",
         "rawType": "int64",
         "type": "integer"
        },
        {
         "name": "App",
         "rawType": "object",
         "type": "string"
        },
        {
         "name": "Category",
         "rawType": "object",
         "type": "string"
        },
        {
         "name": "Rating",
         "rawType": "float64",
         "type": "float"
        },
        {
         "name": "Reviews",
         "rawType": "object",
         "type": "string"
        },
        {
         "name": "Size",
         "rawType": "object",
         "type": "string"
        },
        {
         "name": "Installs",
         "rawType": "object",
         "type": "string"
        },
        {
         "name": "Type",
         "rawType": "object",
         "type": "unknown"
        },
        {
         "name": "Price",
         "rawType": "object",
         "type": "string"
        },
        {
         "name": "Content Rating",
         "rawType": "object",
         "type": "unknown"
        },
        {
         "name": "Genres",
         "rawType": "object",
         "type": "string"
        },
        {
         "name": "Last Updated",
         "rawType": "object",
         "type": "string"
        },
        {
         "name": "Current Ver",
         "rawType": "object",
         "type": "unknown"
        },
        {
         "name": "Android Ver",
         "rawType": "object",
         "type": "unknown"
        }
       ],
       "ref": "8f955eb6-028e-4f24-9787-ff1371a3d184",
       "rows": [
        [
         "0",
         "Photo Editor & Candy Camera & Grid & ScrapBook",
         "ART_AND_DESIGN",
         "4.1",
         "159",
         "19M",
         "10,000+",
         "Free",
         "0",
         "Everyone",
         "Art & Design",
         "January 7, 2018",
         "1.0.0",
         "4.0.3 and up"
        ],
        [
         "1",
         "Coloring book moana",
         "ART_AND_DESIGN",
         "3.9",
         "967",
         "14M",
         "500,000+",
         "Free",
         "0",
         "Everyone",
         "Art & Design;Pretend Play",
         "January 15, 2018",
         "2.0.0",
         "4.0.3 and up"
        ],
        [
         "2",
         "U Launcher Lite – FREE Live Cool Themes, Hide Apps",
         "ART_AND_DESIGN",
         "4.7",
         "87510",
         "8.7M",
         "5,000,000+",
         "Free",
         "0",
         "Everyone",
         "Art & Design",
         "August 1, 2018",
         "1.2.4",
         "4.0.3 and up"
        ],
        [
         "3",
         "Sketch - Draw & Paint",
         "ART_AND_DESIGN",
         "4.5",
         "215644",
         "25M",
         "50,000,000+",
         "Free",
         "0",
         "Teen",
         "Art & Design",
         "June 8, 2018",
         "Varies with device",
         "4.2 and up"
        ],
        [
         "4",
         "Pixel Draw - Number Art Coloring Book",
         "ART_AND_DESIGN",
         "4.3",
         "967",
         "2.8M",
         "100,000+",
         "Free",
         "0",
         "Everyone",
         "Art & Design;Creativity",
         "June 20, 2018",
         "1.1",
         "4.4 and up"
        ],
        [
         "5",
         "Paper flowers instructions",
         "ART_AND_DESIGN",
         "4.4",
         "167",
         "5.6M",
         "50,000+",
         "Free",
         "0",
         "Everyone",
         "Art & Design",
         "March 26, 2017",
         "1.0",
         "2.3 and up"
        ],
        [
         "6",
         "Smoke Effect Photo Maker - Smoke Editor",
         "ART_AND_DESIGN",
         "3.8",
         "178",
         "19M",
         "50,000+",
         "Free",
         "0",
         "Everyone",
         "Art & Design",
         "April 26, 2018",
         "1.1",
         "4.0.3 and up"
        ],
        [
         "7",
         "Infinite Painter",
         "ART_AND_DESIGN",
         "4.1",
         "36815",
         "29M",
         "1,000,000+",
         "Free",
         "0",
         "Everyone",
         "Art & Design",
         "June 14, 2018",
         "6.1.61.1",
         "4.2 and up"
        ],
        [
         "8",
         "Garden Coloring Book",
         "ART_AND_DESIGN",
         "4.4",
         "13791",
         "33M",
         "1,000,000+",
         "Free",
         "0",
         "Everyone",
         "Art & Design",
         "September 20, 2017",
         "2.9.2",
         "3.0 and up"
        ],
        [
         "9",
         "Kids Paint Free - Drawing Fun",
         "ART_AND_DESIGN",
         "4.7",
         "121",
         "3.1M",
         "10,000+",
         "Free",
         "0",
         "Everyone",
         "Art & Design;Creativity",
         "July 3, 2018",
         "2.8",
         "4.0.3 and up"
        ],
        [
         "10",
         "Text on Photo - Fonteee",
         "ART_AND_DESIGN",
         "4.4",
         "13880",
         "28M",
         "1,000,000+",
         "Free",
         "0",
         "Everyone",
         "Art & Design",
         "October 27, 2017",
         "1.0.4",
         "4.1 and up"
        ],
        [
         "11",
         "Name Art Photo Editor - Focus n Filters",
         "ART_AND_DESIGN",
         "4.4",
         "8788",
         "12M",
         "1,000,000+",
         "Free",
         "0",
         "Everyone",
         "Art & Design",
         "July 31, 2018",
         "1.0.15",
         "4.0 and up"
        ],
        [
         "12",
         "Tattoo Name On My Photo Editor",
         "ART_AND_DESIGN",
         "4.2",
         "44829",
         "20M",
         "10,000,000+",
         "Free",
         "0",
         "Teen",
         "Art & Design",
         "April 2, 2018",
         "3.8",
         "4.1 and up"
        ],
        [
         "13",
         "Mandala Coloring Book",
         "ART_AND_DESIGN",
         "4.6",
         "4326",
         "21M",
         "100,000+",
         "Free",
         "0",
         "Everyone",
         "Art & Design",
         "June 26, 2018",
         "1.0.4",
         "4.4 and up"
        ],
        [
         "14",
         "3D Color Pixel by Number - Sandbox Art Coloring",
         "ART_AND_DESIGN",
         "4.4",
         "1518",
         "37M",
         "100,000+",
         "Free",
         "0",
         "Everyone",
         "Art & Design",
         "August 3, 2018",
         "1.2.3",
         "2.3 and up"
        ],
        [
         "15",
         "Learn To Draw Kawaii Characters",
         "ART_AND_DESIGN",
         "3.2",
         "55",
         "2.7M",
         "5,000+",
         "Free",
         "0",
         "Everyone",
         "Art & Design",
         "June 6, 2018",
         null,
         "4.2 and up"
        ],
        [
         "16",
         "Photo Designer - Write your name with shapes",
         "ART_AND_DESIGN",
         "4.7",
         "3632",
         "5.5M",
         "500,000+",
         "Free",
         "0",
         "Everyone",
         "Art & Design",
         "July 31, 2018",
         "3.1",
         "4.1 and up"
        ],
        [
         "17",
         "350 Diy Room Decor Ideas",
         "ART_AND_DESIGN",
         "4.5",
         "27",
         "17M",
         "10,000+",
         "Free",
         "0",
         "Everyone",
         "Art & Design",
         "November 7, 2017",
         "1.0",
         "2.3 and up"
        ],
        [
         "18",
         "FlipaClip - Cartoon animation",
         "ART_AND_DESIGN",
         "4.3",
         "194216",
         "39M",
         "5,000,000+",
         "Free",
         "0",
         "Everyone",
         "Art & Design",
         "August 3, 2018",
         "2.2.5",
         "4.0.3 and up"
        ],
        [
         "19",
         "ibis Paint X",
         "ART_AND_DESIGN",
         "4.6",
         "224399",
         "31M",
         "10,000,000+",
         "Free",
         "0",
         "Everyone",
         "Art & Design",
         "July 30, 2018",
         "5.5.4",
         "4.1 and up"
        ],
        [
         "20",
         "Logo Maker - Small Business",
         "ART_AND_DESIGN",
         "4.0",
         "450",
         "14M",
         "100,000+",
         "Free",
         "0",
         "Everyone",
         "Art & Design",
         "April 20, 2018",
         "4.0",
         "4.1 and up"
        ],
        [
         "21",
         "Boys Photo Editor - Six Pack & Men's Suit",
         "ART_AND_DESIGN",
         "4.1",
         "654",
         "12M",
         "100,000+",
         "Free",
         "0",
         "Everyone",
         "Art & Design",
         "March 20, 2018",
         "1.1",
         "4.0.3 and up"
        ],
        [
         "22",
         "Superheroes Wallpapers | 4K Backgrounds",
         "ART_AND_DESIGN",
         "4.7",
         "7699",
         "4.2M",
         "500,000+",
         "Free",
         "0",
         "Everyone 10+",
         "Art & Design",
         "July 12, 2018",
         "2.2.6.2",
         "4.0.3 and up"
        ],
        [
         "23",
         "Mcqueen Coloring pages",
         "ART_AND_DESIGN",
         null,
         "61",
         "7.0M",
         "100,000+",
         "Free",
         "0",
         "Everyone",
         "Art & Design;Action & Adventure",
         "March 7, 2018",
         "1.0.0",
         "4.1 and up"
        ],
        [
         "24",
         "HD Mickey Minnie Wallpapers",
         "ART_AND_DESIGN",
         "4.7",
         "118",
         "23M",
         "50,000+",
         "Free",
         "0",
         "Everyone",
         "Art & Design",
         "July 7, 2018",
         "1.1.3",
         "4.1 and up"
        ],
        [
         "25",
         "Harley Quinn wallpapers HD",
         "ART_AND_DESIGN",
         "4.8",
         "192",
         "6.0M",
         "10,000+",
         "Free",
         "0",
         "Everyone",
         "Art & Design",
         "April 25, 2018",
         "1.5",
         "3.0 and up"
        ],
        [
         "26",
         "Colorfit - Drawing & Coloring",
         "ART_AND_DESIGN",
         "4.7",
         "20260",
         "25M",
         "500,000+",
         "Free",
         "0",
         "Everyone",
         "Art & Design;Creativity",
         "October 11, 2017",
         "1.0.8",
         "4.0.3 and up"
        ],
        [
         "27",
         "Animated Photo Editor",
         "ART_AND_DESIGN",
         "4.1",
         "203",
         "6.1M",
         "100,000+",
         "Free",
         "0",
         "Everyone",
         "Art & Design",
         "March 21, 2018",
         "1.03",
         "4.0.3 and up"
        ],
        [
         "28",
         "Pencil Sketch Drawing",
         "ART_AND_DESIGN",
         "3.9",
         "136",
         "4.6M",
         "10,000+",
         "Free",
         "0",
         "Everyone",
         "Art & Design",
         "July 12, 2018",
         "6.0",
         "2.3 and up"
        ],
        [
         "29",
         "Easy Realistic Drawing Tutorial",
         "ART_AND_DESIGN",
         "4.1",
         "223",
         "4.2M",
         "100,000+",
         "Free",
         "0",
         "Everyone",
         "Art & Design",
         "August 22, 2017",
         "1.0",
         "2.3 and up"
        ],
        [
         "30",
         "Pink Silver Bow Keyboard Theme",
         "ART_AND_DESIGN",
         "4.2",
         "1120",
         "9.2M",
         "100,000+",
         "Free",
         "0",
         "Everyone",
         "Art & Design",
         "July 12, 2018",
         "6.7.12.2018",
         "4.0.3 and up"
        ],
        [
         "31",
         "Art Drawing Ideas",
         "ART_AND_DESIGN",
         "4.1",
         "227",
         "5.2M",
         "50,000+",
         "Free",
         "0",
         "Everyone",
         "Art & Design",
         "May 31, 2018",
         "1.2",
         "2.3 and up"
        ],
        [
         "32",
         "Anime Manga Coloring Book",
         "ART_AND_DESIGN",
         "4.5",
         "5035",
         "11M",
         "100,000+",
         "Free",
         "0",
         "Everyone",
         "Art & Design",
         "July 19, 2018",
         "2.20",
         "4.0 and up"
        ],
        [
         "33",
         "Easy Origami Ideas",
         "ART_AND_DESIGN",
         "4.2",
         "1015",
         "11M",
         "100,000+",
         "Free",
         "0",
         "Everyone",
         "Art & Design",
         "January 6, 2018",
         "1.1.0",
         "4.1 and up"
        ],
        [
         "34",
         "I Creative Idea",
         "ART_AND_DESIGN",
         "4.7",
         "353",
         "4.2M",
         "10,000+",
         "Free",
         "0",
         "Teen",
         "Art & Design",
         "April 27, 2018",
         "1.6",
         "4.1 and up"
        ],
        [
         "35",
         "How to draw Ladybug and Cat Noir",
         "ART_AND_DESIGN",
         "3.8",
         "564",
         "9.2M",
         "100,000+",
         "Free",
         "0",
         "Everyone",
         "Art & Design",
         "July 11, 2018",
         "2.1",
         "4.1 and up"
        ],
        [
         "36",
         "UNICORN - Color By Number & Pixel Art Coloring",
         "ART_AND_DESIGN",
         "4.7",
         "8145",
         "24M",
         "500,000+",
         "Free",
         "0",
         "Everyone",
         "Art & Design;Creativity",
         "August 2, 2018",
         "1.0.9",
         "4.4 and up"
        ],
        [
         "37",
         "Floor Plan Creator",
         "ART_AND_DESIGN",
         "4.1",
         "36639",
         "Varies with device",
         "5,000,000+",
         "Free",
         "0",
         "Everyone",
         "Art & Design",
         "July 14, 2018",
         "Varies with device",
         "2.3.3 and up"
        ],
        [
         "38",
         "PIP Camera - PIP Collage Maker",
         "ART_AND_DESIGN",
         "4.7",
         "158",
         "11M",
         "10,000+",
         "Free",
         "0",
         "Everyone",
         "Art & Design",
         "November 29, 2017",
         "1.3",
         "4.0.3 and up"
        ],
        [
         "39",
         "How To Color Disney Princess - Coloring Pages",
         "ART_AND_DESIGN",
         "4.0",
         "591",
         "9.4M",
         "500,000+",
         "Free",
         "0",
         "Everyone",
         "Art & Design",
         "March 31, 2018",
         "1",
         "4.0 and up"
        ],
        [
         "40",
         "Drawing Clothes Fashion Ideas",
         "ART_AND_DESIGN",
         "4.2",
         "117",
         "15M",
         "10,000+",
         "Free",
         "0",
         "Everyone",
         "Art & Design",
         "July 20, 2018",
         "2.0.1",
         "4.0.3 and up"
        ],
        [
         "41",
         "Sad Poetry Photo Frames 2018",
         "ART_AND_DESIGN",
         "4.5",
         "176",
         "10M",
         "100,000+",
         "Free",
         "0",
         "Everyone",
         "Art & Design",
         "April 2, 2018",
         "1.0",
         "4.0.3 and up"
        ],
        [
         "42",
         "Textgram - write on photos",
         "ART_AND_DESIGN",
         "4.4",
         "295221",
         "Varies with device",
         "10,000,000+",
         "Free",
         "0",
         "Everyone",
         "Art & Design",
         "July 30, 2018",
         "Varies with device",
         "Varies with device"
        ],
        [
         "43",
         "Paint Splash!",
         "ART_AND_DESIGN",
         "3.8",
         "2206",
         "1.2M",
         "100,000+",
         "Free",
         "0",
         "Everyone",
         "Art & Design;Creativity",
         "April 15, 2018",
         "1.46",
         "4.1 and up"
        ],
        [
         "44",
         "Popsicle Sticks and Similar DIY Craft Ideas",
         "ART_AND_DESIGN",
         "4.2",
         "26",
         "12M",
         "10,000+",
         "Free",
         "0",
         "Everyone",
         "Art & Design",
         "January 3, 2018",
         "1.0.0",
         "4.1 and up"
        ],
        [
         "45",
         "Canva: Poster, banner, card maker & graphic design",
         "ART_AND_DESIGN",
         "4.7",
         "174531",
         "24M",
         "10,000,000+",
         "Free",
         "0",
         "Everyone",
         "Art & Design",
         "July 31, 2018",
         "1.6.1",
         "4.1 and up"
        ],
        [
         "46",
         "Install images with music to make video without Net - 2018",
         "ART_AND_DESIGN",
         "4.6",
         "1070",
         "26M",
         "100,000+",
         "Free",
         "0",
         "Everyone",
         "Art & Design",
         "November 14, 2017",
         "1.6",
         "4.1 and up"
        ],
        [
         "47",
         "Little Teddy Bear Colouring Book Game",
         "ART_AND_DESIGN",
         "4.2",
         "85",
         "8.0M",
         "100,000+",
         "Free",
         "0",
         "Everyone",
         "Art & Design",
         "December 17, 2017",
         "2.0.0",
         "4.1 and up"
        ],
        [
         "48",
         "How To Draw Food",
         "ART_AND_DESIGN",
         "4.3",
         "845",
         "7.9M",
         "100,000+",
         "Free",
         "0",
         "Everyone",
         "Art & Design",
         "May 28, 2018",
         "1.0",
         "2.3 and up"
        ],
        [
         "49",
         "Monster Truck Stunt 3D 2019",
         "AUTO_AND_VEHICLES",
         "4.2",
         "367",
         "25M",
         "100,000+",
         "Free",
         "0",
         "Everyone",
         "Auto & Vehicles",
         "May 10, 2018",
         "1.0",
         "4.0.3 and up"
        ]
       ],
       "shape": {
        "columns": 13,
        "rows": 10841
       }
      },
      "text/html": [
       "<div>\n",
       "<style scoped>\n",
       "    .dataframe tbody tr th:only-of-type {\n",
       "        vertical-align: middle;\n",
       "    }\n",
       "\n",
       "    .dataframe tbody tr th {\n",
       "        vertical-align: top;\n",
       "    }\n",
       "\n",
       "    .dataframe thead th {\n",
       "        text-align: right;\n",
       "    }\n",
       "</style>\n",
       "<table border=\"1\" class=\"dataframe\">\n",
       "  <thead>\n",
       "    <tr style=\"text-align: right;\">\n",
       "      <th></th>\n",
       "      <th>App</th>\n",
       "      <th>Category</th>\n",
       "      <th>Rating</th>\n",
       "      <th>Reviews</th>\n",
       "      <th>Size</th>\n",
       "      <th>Installs</th>\n",
       "      <th>Type</th>\n",
       "      <th>Price</th>\n",
       "      <th>Content Rating</th>\n",
       "      <th>Genres</th>\n",
       "      <th>Last Updated</th>\n",
       "      <th>Current Ver</th>\n",
       "      <th>Android Ver</th>\n",
       "    </tr>\n",
       "  </thead>\n",
       "  <tbody>\n",
       "    <tr>\n",
       "      <th>0</th>\n",
       "      <td>Photo Editor &amp; Candy Camera &amp; Grid &amp; ScrapBook</td>\n",
       "      <td>ART_AND_DESIGN</td>\n",
       "      <td>4.1</td>\n",
       "      <td>159</td>\n",
       "      <td>19M</td>\n",
       "      <td>10,000+</td>\n",
       "      <td>Free</td>\n",
       "      <td>0</td>\n",
       "      <td>Everyone</td>\n",
       "      <td>Art &amp; Design</td>\n",
       "      <td>January 7, 2018</td>\n",
       "      <td>1.0.0</td>\n",
       "      <td>4.0.3 and up</td>\n",
       "    </tr>\n",
       "    <tr>\n",
       "      <th>1</th>\n",
       "      <td>Coloring book moana</td>\n",
       "      <td>ART_AND_DESIGN</td>\n",
       "      <td>3.9</td>\n",
       "      <td>967</td>\n",
       "      <td>14M</td>\n",
       "      <td>500,000+</td>\n",
       "      <td>Free</td>\n",
       "      <td>0</td>\n",
       "      <td>Everyone</td>\n",
       "      <td>Art &amp; Design;Pretend Play</td>\n",
       "      <td>January 15, 2018</td>\n",
       "      <td>2.0.0</td>\n",
       "      <td>4.0.3 and up</td>\n",
       "    </tr>\n",
       "    <tr>\n",
       "      <th>2</th>\n",
       "      <td>U Launcher Lite – FREE Live Cool Themes, Hide ...</td>\n",
       "      <td>ART_AND_DESIGN</td>\n",
       "      <td>4.7</td>\n",
       "      <td>87510</td>\n",
       "      <td>8.7M</td>\n",
       "      <td>5,000,000+</td>\n",
       "      <td>Free</td>\n",
       "      <td>0</td>\n",
       "      <td>Everyone</td>\n",
       "      <td>Art &amp; Design</td>\n",
       "      <td>August 1, 2018</td>\n",
       "      <td>1.2.4</td>\n",
       "      <td>4.0.3 and up</td>\n",
       "    </tr>\n",
       "    <tr>\n",
       "      <th>3</th>\n",
       "      <td>Sketch - Draw &amp; Paint</td>\n",
       "      <td>ART_AND_DESIGN</td>\n",
       "      <td>4.5</td>\n",
       "      <td>215644</td>\n",
       "      <td>25M</td>\n",
       "      <td>50,000,000+</td>\n",
       "      <td>Free</td>\n",
       "      <td>0</td>\n",
       "      <td>Teen</td>\n",
       "      <td>Art &amp; Design</td>\n",
       "      <td>June 8, 2018</td>\n",
       "      <td>Varies with device</td>\n",
       "      <td>4.2 and up</td>\n",
       "    </tr>\n",
       "    <tr>\n",
       "      <th>4</th>\n",
       "      <td>Pixel Draw - Number Art Coloring Book</td>\n",
       "      <td>ART_AND_DESIGN</td>\n",
       "      <td>4.3</td>\n",
       "      <td>967</td>\n",
       "      <td>2.8M</td>\n",
       "      <td>100,000+</td>\n",
       "      <td>Free</td>\n",
       "      <td>0</td>\n",
       "      <td>Everyone</td>\n",
       "      <td>Art &amp; Design;Creativity</td>\n",
       "      <td>June 20, 2018</td>\n",
       "      <td>1.1</td>\n",
       "      <td>4.4 and up</td>\n",
       "    </tr>\n",
       "    <tr>\n",
       "      <th>...</th>\n",
       "      <td>...</td>\n",
       "      <td>...</td>\n",
       "      <td>...</td>\n",
       "      <td>...</td>\n",
       "      <td>...</td>\n",
       "      <td>...</td>\n",
       "      <td>...</td>\n",
       "      <td>...</td>\n",
       "      <td>...</td>\n",
       "      <td>...</td>\n",
       "      <td>...</td>\n",
       "      <td>...</td>\n",
       "      <td>...</td>\n",
       "    </tr>\n",
       "    <tr>\n",
       "      <th>10836</th>\n",
       "      <td>Sya9a Maroc - FR</td>\n",
       "      <td>FAMILY</td>\n",
       "      <td>4.5</td>\n",
       "      <td>38</td>\n",
       "      <td>53M</td>\n",
       "      <td>5,000+</td>\n",
       "      <td>Free</td>\n",
       "      <td>0</td>\n",
       "      <td>Everyone</td>\n",
       "      <td>Education</td>\n",
       "      <td>July 25, 2017</td>\n",
       "      <td>1.48</td>\n",
       "      <td>4.1 and up</td>\n",
       "    </tr>\n",
       "    <tr>\n",
       "      <th>10837</th>\n",
       "      <td>Fr. Mike Schmitz Audio Teachings</td>\n",
       "      <td>FAMILY</td>\n",
       "      <td>5.0</td>\n",
       "      <td>4</td>\n",
       "      <td>3.6M</td>\n",
       "      <td>100+</td>\n",
       "      <td>Free</td>\n",
       "      <td>0</td>\n",
       "      <td>Everyone</td>\n",
       "      <td>Education</td>\n",
       "      <td>July 6, 2018</td>\n",
       "      <td>1.0</td>\n",
       "      <td>4.1 and up</td>\n",
       "    </tr>\n",
       "    <tr>\n",
       "      <th>10838</th>\n",
       "      <td>Parkinson Exercices FR</td>\n",
       "      <td>MEDICAL</td>\n",
       "      <td>NaN</td>\n",
       "      <td>3</td>\n",
       "      <td>9.5M</td>\n",
       "      <td>1,000+</td>\n",
       "      <td>Free</td>\n",
       "      <td>0</td>\n",
       "      <td>Everyone</td>\n",
       "      <td>Medical</td>\n",
       "      <td>January 20, 2017</td>\n",
       "      <td>1.0</td>\n",
       "      <td>2.2 and up</td>\n",
       "    </tr>\n",
       "    <tr>\n",
       "      <th>10839</th>\n",
       "      <td>The SCP Foundation DB fr nn5n</td>\n",
       "      <td>BOOKS_AND_REFERENCE</td>\n",
       "      <td>4.5</td>\n",
       "      <td>114</td>\n",
       "      <td>Varies with device</td>\n",
       "      <td>1,000+</td>\n",
       "      <td>Free</td>\n",
       "      <td>0</td>\n",
       "      <td>Mature 17+</td>\n",
       "      <td>Books &amp; Reference</td>\n",
       "      <td>January 19, 2015</td>\n",
       "      <td>Varies with device</td>\n",
       "      <td>Varies with device</td>\n",
       "    </tr>\n",
       "    <tr>\n",
       "      <th>10840</th>\n",
       "      <td>iHoroscope - 2018 Daily Horoscope &amp; Astrology</td>\n",
       "      <td>LIFESTYLE</td>\n",
       "      <td>4.5</td>\n",
       "      <td>398307</td>\n",
       "      <td>19M</td>\n",
       "      <td>10,000,000+</td>\n",
       "      <td>Free</td>\n",
       "      <td>0</td>\n",
       "      <td>Everyone</td>\n",
       "      <td>Lifestyle</td>\n",
       "      <td>July 25, 2018</td>\n",
       "      <td>Varies with device</td>\n",
       "      <td>Varies with device</td>\n",
       "    </tr>\n",
       "  </tbody>\n",
       "</table>\n",
       "<p>10841 rows × 13 columns</p>\n",
       "</div>"
      ],
      "text/plain": [
       "                                                     App             Category  \\\n",
       "0         Photo Editor & Candy Camera & Grid & ScrapBook       ART_AND_DESIGN   \n",
       "1                                    Coloring book moana       ART_AND_DESIGN   \n",
       "2      U Launcher Lite – FREE Live Cool Themes, Hide ...       ART_AND_DESIGN   \n",
       "3                                  Sketch - Draw & Paint       ART_AND_DESIGN   \n",
       "4                  Pixel Draw - Number Art Coloring Book       ART_AND_DESIGN   \n",
       "...                                                  ...                  ...   \n",
       "10836                                   Sya9a Maroc - FR               FAMILY   \n",
       "10837                   Fr. Mike Schmitz Audio Teachings               FAMILY   \n",
       "10838                             Parkinson Exercices FR              MEDICAL   \n",
       "10839                      The SCP Foundation DB fr nn5n  BOOKS_AND_REFERENCE   \n",
       "10840      iHoroscope - 2018 Daily Horoscope & Astrology            LIFESTYLE   \n",
       "\n",
       "       Rating Reviews                Size     Installs  Type Price  \\\n",
       "0         4.1     159                 19M      10,000+  Free     0   \n",
       "1         3.9     967                 14M     500,000+  Free     0   \n",
       "2         4.7   87510                8.7M   5,000,000+  Free     0   \n",
       "3         4.5  215644                 25M  50,000,000+  Free     0   \n",
       "4         4.3     967                2.8M     100,000+  Free     0   \n",
       "...       ...     ...                 ...          ...   ...   ...   \n",
       "10836     4.5      38                 53M       5,000+  Free     0   \n",
       "10837     5.0       4                3.6M         100+  Free     0   \n",
       "10838     NaN       3                9.5M       1,000+  Free     0   \n",
       "10839     4.5     114  Varies with device       1,000+  Free     0   \n",
       "10840     4.5  398307                 19M  10,000,000+  Free     0   \n",
       "\n",
       "      Content Rating                     Genres      Last Updated  \\\n",
       "0           Everyone               Art & Design   January 7, 2018   \n",
       "1           Everyone  Art & Design;Pretend Play  January 15, 2018   \n",
       "2           Everyone               Art & Design    August 1, 2018   \n",
       "3               Teen               Art & Design      June 8, 2018   \n",
       "4           Everyone    Art & Design;Creativity     June 20, 2018   \n",
       "...              ...                        ...               ...   \n",
       "10836       Everyone                  Education     July 25, 2017   \n",
       "10837       Everyone                  Education      July 6, 2018   \n",
       "10838       Everyone                    Medical  January 20, 2017   \n",
       "10839     Mature 17+          Books & Reference  January 19, 2015   \n",
       "10840       Everyone                  Lifestyle     July 25, 2018   \n",
       "\n",
       "              Current Ver         Android Ver  \n",
       "0                   1.0.0        4.0.3 and up  \n",
       "1                   2.0.0        4.0.3 and up  \n",
       "2                   1.2.4        4.0.3 and up  \n",
       "3      Varies with device          4.2 and up  \n",
       "4                     1.1          4.4 and up  \n",
       "...                   ...                 ...  \n",
       "10836                1.48          4.1 and up  \n",
       "10837                 1.0          4.1 and up  \n",
       "10838                 1.0          2.2 and up  \n",
       "10839  Varies with device  Varies with device  \n",
       "10840  Varies with device  Varies with device  \n",
       "\n",
       "[10841 rows x 13 columns]"
      ]
     },
     "execution_count": 27,
     "metadata": {},
     "output_type": "execute_result"
    }
   ],
   "source": [
    "dataset = pd.read_csv(\"D:/GOOGLE_PLAY_STORE_ANALYSIS/Play Store Data.csv\")\n",
    "dataset"
   ]
  },
  {
   "cell_type": "code",
   "execution_count": 28,
   "id": "17712983",
   "metadata": {},
   "outputs": [
    {
     "name": "stdout",
     "output_type": "stream",
     "text": [
      "<class 'pandas.core.frame.DataFrame'>\n",
      "RangeIndex: 10841 entries, 0 to 10840\n",
      "Data columns (total 13 columns):\n",
      " #   Column          Non-Null Count  Dtype  \n",
      "---  ------          --------------  -----  \n",
      " 0   App             10841 non-null  object \n",
      " 1   Category        10841 non-null  object \n",
      " 2   Rating          9367 non-null   float64\n",
      " 3   Reviews         10841 non-null  object \n",
      " 4   Size            10841 non-null  object \n",
      " 5   Installs        10841 non-null  object \n",
      " 6   Type            10840 non-null  object \n",
      " 7   Price           10841 non-null  object \n",
      " 8   Content Rating  10840 non-null  object \n",
      " 9   Genres          10841 non-null  object \n",
      " 10  Last Updated    10841 non-null  object \n",
      " 11  Current Ver     10833 non-null  object \n",
      " 12  Android Ver     10838 non-null  object \n",
      "dtypes: float64(1), object(12)\n",
      "memory usage: 1.1+ MB\n"
     ]
    }
   ],
   "source": [
    "dataset.info()"
   ]
  },
  {
   "cell_type": "code",
   "execution_count": 29,
   "id": "b7dcf811",
   "metadata": {},
   "outputs": [
    {
     "data": {
      "application/vnd.microsoft.datawrangler.viewer.v0+json": {
       "columns": [
        {
         "name": "index",
         "rawType": "object",
         "type": "string"
        },
        {
         "name": "Rating",
         "rawType": "float64",
         "type": "float"
        }
       ],
       "ref": "566a24fb-3e96-467b-b553-8836388865dd",
       "rows": [
        [
         "count",
         "9367.0"
        ],
        [
         "mean",
         "4.193338315362443"
        ],
        [
         "std",
         "0.5374313031477587"
        ],
        [
         "min",
         "1.0"
        ],
        [
         "25%",
         "4.0"
        ],
        [
         "50%",
         "4.3"
        ],
        [
         "75%",
         "4.5"
        ],
        [
         "max",
         "19.0"
        ]
       ],
       "shape": {
        "columns": 1,
        "rows": 8
       }
      },
      "text/html": [
       "<div>\n",
       "<style scoped>\n",
       "    .dataframe tbody tr th:only-of-type {\n",
       "        vertical-align: middle;\n",
       "    }\n",
       "\n",
       "    .dataframe tbody tr th {\n",
       "        vertical-align: top;\n",
       "    }\n",
       "\n",
       "    .dataframe thead th {\n",
       "        text-align: right;\n",
       "    }\n",
       "</style>\n",
       "<table border=\"1\" class=\"dataframe\">\n",
       "  <thead>\n",
       "    <tr style=\"text-align: right;\">\n",
       "      <th></th>\n",
       "      <th>Rating</th>\n",
       "    </tr>\n",
       "  </thead>\n",
       "  <tbody>\n",
       "    <tr>\n",
       "      <th>count</th>\n",
       "      <td>9367.000000</td>\n",
       "    </tr>\n",
       "    <tr>\n",
       "      <th>mean</th>\n",
       "      <td>4.193338</td>\n",
       "    </tr>\n",
       "    <tr>\n",
       "      <th>std</th>\n",
       "      <td>0.537431</td>\n",
       "    </tr>\n",
       "    <tr>\n",
       "      <th>min</th>\n",
       "      <td>1.000000</td>\n",
       "    </tr>\n",
       "    <tr>\n",
       "      <th>25%</th>\n",
       "      <td>4.000000</td>\n",
       "    </tr>\n",
       "    <tr>\n",
       "      <th>50%</th>\n",
       "      <td>4.300000</td>\n",
       "    </tr>\n",
       "    <tr>\n",
       "      <th>75%</th>\n",
       "      <td>4.500000</td>\n",
       "    </tr>\n",
       "    <tr>\n",
       "      <th>max</th>\n",
       "      <td>19.000000</td>\n",
       "    </tr>\n",
       "  </tbody>\n",
       "</table>\n",
       "</div>"
      ],
      "text/plain": [
       "            Rating\n",
       "count  9367.000000\n",
       "mean      4.193338\n",
       "std       0.537431\n",
       "min       1.000000\n",
       "25%       4.000000\n",
       "50%       4.300000\n",
       "75%       4.500000\n",
       "max      19.000000"
      ]
     },
     "execution_count": 29,
     "metadata": {},
     "output_type": "execute_result"
    }
   ],
   "source": [
    "dataset.describe()"
   ]
  },
  {
   "cell_type": "code",
   "execution_count": 30,
   "id": "29ac69d2",
   "metadata": {},
   "outputs": [
    {
     "name": "stdout",
     "output_type": "stream",
     "text": [
      "0    19.0\n",
      "1    14.0\n",
      "2     8.7\n",
      "3    25.0\n",
      "4     2.8\n",
      "Name: Size_MB, dtype: float64\n"
     ]
    }
   ],
   "source": [
    "dataset[\"Size\"] = dataset[\"Size\"].astype(str) # Convert Size to string for processing\n",
    "\n",
    "def size_to_mb(x):\n",
    "    if \"M\" in x:\n",
    "        return float(x.replace(\"M\", \"\")) # Convert MB to float\n",
    "    elif \"k\" in x:\n",
    "        return float(x.replace(\"k\", \"\")) / 1024 # Convert KB to MB\n",
    "    else:\n",
    "        return np.nan\n",
    "\n",
    "dataset[\"Size_MB\"] = dataset[\"Size\"].apply(size_to_mb) # Convert Size to MB\n",
    "print(dataset[\"Size_MB\"].head())"
   ]
  },
  {
   "cell_type": "code",
   "execution_count": 31,
   "id": "e18e03a6",
   "metadata": {},
   "outputs": [],
   "source": [
    "dataset[\"Installs\"] = dataset[\"Installs\"].str.replace(\"[+,]\", \"\", regex=True) # It removes '+' and ',' from Installs"
   ]
  },
  {
   "cell_type": "code",
   "execution_count": 32,
   "id": "ab7c1608",
   "metadata": {},
   "outputs": [],
   "source": [
    "dataset[\"Installs\"] = pd.to_numeric(dataset[\"Installs\"], errors=\"coerce\") # Convert Installs to numeric"
   ]
  },
  {
   "cell_type": "code",
   "execution_count": 33,
   "id": "fe739614",
   "metadata": {},
   "outputs": [
    {
     "data": {
      "application/vnd.microsoft.datawrangler.viewer.v0+json": {
       "columns": [
        {
         "name": "index",
         "rawType": "int64",
         "type": "integer"
        },
        {
         "name": "App",
         "rawType": "object",
         "type": "string"
        },
        {
         "name": "Category",
         "rawType": "object",
         "type": "string"
        },
        {
         "name": "Rating",
         "rawType": "float64",
         "type": "float"
        },
        {
         "name": "Reviews",
         "rawType": "object",
         "type": "string"
        },
        {
         "name": "Size",
         "rawType": "object",
         "type": "string"
        },
        {
         "name": "Installs",
         "rawType": "float64",
         "type": "float"
        },
        {
         "name": "Type",
         "rawType": "object",
         "type": "unknown"
        },
        {
         "name": "Price",
         "rawType": "object",
         "type": "string"
        },
        {
         "name": "Content Rating",
         "rawType": "object",
         "type": "unknown"
        },
        {
         "name": "Genres",
         "rawType": "object",
         "type": "string"
        },
        {
         "name": "Last Updated",
         "rawType": "object",
         "type": "string"
        },
        {
         "name": "Current Ver",
         "rawType": "object",
         "type": "unknown"
        },
        {
         "name": "Android Ver",
         "rawType": "object",
         "type": "unknown"
        },
        {
         "name": "Size_MB",
         "rawType": "float64",
         "type": "float"
        }
       ],
       "ref": "13f18462-346d-4ee9-8ee8-d569b5c3a6fe",
       "rows": [
        [
         "0",
         "Photo Editor & Candy Camera & Grid & ScrapBook",
         "ART_AND_DESIGN",
         "4.1",
         "159",
         "19M",
         "10000.0",
         "Free",
         "0",
         "Everyone",
         "Art & Design",
         "January 7, 2018",
         "1.0.0",
         "4.0.3 and up",
         "19.0"
        ],
        [
         "1",
         "Coloring book moana",
         "ART_AND_DESIGN",
         "3.9",
         "967",
         "14M",
         "500000.0",
         "Free",
         "0",
         "Everyone",
         "Art & Design;Pretend Play",
         "January 15, 2018",
         "2.0.0",
         "4.0.3 and up",
         "14.0"
        ],
        [
         "2",
         "U Launcher Lite – FREE Live Cool Themes, Hide Apps",
         "ART_AND_DESIGN",
         "4.7",
         "87510",
         "8.7M",
         "5000000.0",
         "Free",
         "0",
         "Everyone",
         "Art & Design",
         "August 1, 2018",
         "1.2.4",
         "4.0.3 and up",
         "8.7"
        ],
        [
         "3",
         "Sketch - Draw & Paint",
         "ART_AND_DESIGN",
         "4.5",
         "215644",
         "25M",
         "50000000.0",
         "Free",
         "0",
         "Teen",
         "Art & Design",
         "June 8, 2018",
         "Varies with device",
         "4.2 and up",
         "25.0"
        ],
        [
         "4",
         "Pixel Draw - Number Art Coloring Book",
         "ART_AND_DESIGN",
         "4.3",
         "967",
         "2.8M",
         "100000.0",
         "Free",
         "0",
         "Everyone",
         "Art & Design;Creativity",
         "June 20, 2018",
         "1.1",
         "4.4 and up",
         "2.8"
        ],
        [
         "5",
         "Paper flowers instructions",
         "ART_AND_DESIGN",
         "4.4",
         "167",
         "5.6M",
         "50000.0",
         "Free",
         "0",
         "Everyone",
         "Art & Design",
         "March 26, 2017",
         "1.0",
         "2.3 and up",
         "5.6"
        ],
        [
         "6",
         "Smoke Effect Photo Maker - Smoke Editor",
         "ART_AND_DESIGN",
         "3.8",
         "178",
         "19M",
         "50000.0",
         "Free",
         "0",
         "Everyone",
         "Art & Design",
         "April 26, 2018",
         "1.1",
         "4.0.3 and up",
         "19.0"
        ],
        [
         "7",
         "Infinite Painter",
         "ART_AND_DESIGN",
         "4.1",
         "36815",
         "29M",
         "1000000.0",
         "Free",
         "0",
         "Everyone",
         "Art & Design",
         "June 14, 2018",
         "6.1.61.1",
         "4.2 and up",
         "29.0"
        ],
        [
         "8",
         "Garden Coloring Book",
         "ART_AND_DESIGN",
         "4.4",
         "13791",
         "33M",
         "1000000.0",
         "Free",
         "0",
         "Everyone",
         "Art & Design",
         "September 20, 2017",
         "2.9.2",
         "3.0 and up",
         "33.0"
        ],
        [
         "9",
         "Kids Paint Free - Drawing Fun",
         "ART_AND_DESIGN",
         "4.7",
         "121",
         "3.1M",
         "10000.0",
         "Free",
         "0",
         "Everyone",
         "Art & Design;Creativity",
         "July 3, 2018",
         "2.8",
         "4.0.3 and up",
         "3.1"
        ],
        [
         "10",
         "Text on Photo - Fonteee",
         "ART_AND_DESIGN",
         "4.4",
         "13880",
         "28M",
         "1000000.0",
         "Free",
         "0",
         "Everyone",
         "Art & Design",
         "October 27, 2017",
         "1.0.4",
         "4.1 and up",
         "28.0"
        ],
        [
         "11",
         "Name Art Photo Editor - Focus n Filters",
         "ART_AND_DESIGN",
         "4.4",
         "8788",
         "12M",
         "1000000.0",
         "Free",
         "0",
         "Everyone",
         "Art & Design",
         "July 31, 2018",
         "1.0.15",
         "4.0 and up",
         "12.0"
        ],
        [
         "12",
         "Tattoo Name On My Photo Editor",
         "ART_AND_DESIGN",
         "4.2",
         "44829",
         "20M",
         "10000000.0",
         "Free",
         "0",
         "Teen",
         "Art & Design",
         "April 2, 2018",
         "3.8",
         "4.1 and up",
         "20.0"
        ],
        [
         "13",
         "Mandala Coloring Book",
         "ART_AND_DESIGN",
         "4.6",
         "4326",
         "21M",
         "100000.0",
         "Free",
         "0",
         "Everyone",
         "Art & Design",
         "June 26, 2018",
         "1.0.4",
         "4.4 and up",
         "21.0"
        ],
        [
         "14",
         "3D Color Pixel by Number - Sandbox Art Coloring",
         "ART_AND_DESIGN",
         "4.4",
         "1518",
         "37M",
         "100000.0",
         "Free",
         "0",
         "Everyone",
         "Art & Design",
         "August 3, 2018",
         "1.2.3",
         "2.3 and up",
         "37.0"
        ],
        [
         "15",
         "Learn To Draw Kawaii Characters",
         "ART_AND_DESIGN",
         "3.2",
         "55",
         "2.7M",
         "5000.0",
         "Free",
         "0",
         "Everyone",
         "Art & Design",
         "June 6, 2018",
         null,
         "4.2 and up",
         "2.7"
        ],
        [
         "16",
         "Photo Designer - Write your name with shapes",
         "ART_AND_DESIGN",
         "4.7",
         "3632",
         "5.5M",
         "500000.0",
         "Free",
         "0",
         "Everyone",
         "Art & Design",
         "July 31, 2018",
         "3.1",
         "4.1 and up",
         "5.5"
        ],
        [
         "17",
         "350 Diy Room Decor Ideas",
         "ART_AND_DESIGN",
         "4.5",
         "27",
         "17M",
         "10000.0",
         "Free",
         "0",
         "Everyone",
         "Art & Design",
         "November 7, 2017",
         "1.0",
         "2.3 and up",
         "17.0"
        ],
        [
         "18",
         "FlipaClip - Cartoon animation",
         "ART_AND_DESIGN",
         "4.3",
         "194216",
         "39M",
         "5000000.0",
         "Free",
         "0",
         "Everyone",
         "Art & Design",
         "August 3, 2018",
         "2.2.5",
         "4.0.3 and up",
         "39.0"
        ],
        [
         "19",
         "ibis Paint X",
         "ART_AND_DESIGN",
         "4.6",
         "224399",
         "31M",
         "10000000.0",
         "Free",
         "0",
         "Everyone",
         "Art & Design",
         "July 30, 2018",
         "5.5.4",
         "4.1 and up",
         "31.0"
        ],
        [
         "20",
         "Logo Maker - Small Business",
         "ART_AND_DESIGN",
         "4.0",
         "450",
         "14M",
         "100000.0",
         "Free",
         "0",
         "Everyone",
         "Art & Design",
         "April 20, 2018",
         "4.0",
         "4.1 and up",
         "14.0"
        ],
        [
         "21",
         "Boys Photo Editor - Six Pack & Men's Suit",
         "ART_AND_DESIGN",
         "4.1",
         "654",
         "12M",
         "100000.0",
         "Free",
         "0",
         "Everyone",
         "Art & Design",
         "March 20, 2018",
         "1.1",
         "4.0.3 and up",
         "12.0"
        ],
        [
         "22",
         "Superheroes Wallpapers | 4K Backgrounds",
         "ART_AND_DESIGN",
         "4.7",
         "7699",
         "4.2M",
         "500000.0",
         "Free",
         "0",
         "Everyone 10+",
         "Art & Design",
         "July 12, 2018",
         "2.2.6.2",
         "4.0.3 and up",
         "4.2"
        ],
        [
         "23",
         "Mcqueen Coloring pages",
         "ART_AND_DESIGN",
         null,
         "61",
         "7.0M",
         "100000.0",
         "Free",
         "0",
         "Everyone",
         "Art & Design;Action & Adventure",
         "March 7, 2018",
         "1.0.0",
         "4.1 and up",
         "7.0"
        ],
        [
         "24",
         "HD Mickey Minnie Wallpapers",
         "ART_AND_DESIGN",
         "4.7",
         "118",
         "23M",
         "50000.0",
         "Free",
         "0",
         "Everyone",
         "Art & Design",
         "July 7, 2018",
         "1.1.3",
         "4.1 and up",
         "23.0"
        ],
        [
         "25",
         "Harley Quinn wallpapers HD",
         "ART_AND_DESIGN",
         "4.8",
         "192",
         "6.0M",
         "10000.0",
         "Free",
         "0",
         "Everyone",
         "Art & Design",
         "April 25, 2018",
         "1.5",
         "3.0 and up",
         "6.0"
        ],
        [
         "26",
         "Colorfit - Drawing & Coloring",
         "ART_AND_DESIGN",
         "4.7",
         "20260",
         "25M",
         "500000.0",
         "Free",
         "0",
         "Everyone",
         "Art & Design;Creativity",
         "October 11, 2017",
         "1.0.8",
         "4.0.3 and up",
         "25.0"
        ],
        [
         "27",
         "Animated Photo Editor",
         "ART_AND_DESIGN",
         "4.1",
         "203",
         "6.1M",
         "100000.0",
         "Free",
         "0",
         "Everyone",
         "Art & Design",
         "March 21, 2018",
         "1.03",
         "4.0.3 and up",
         "6.1"
        ],
        [
         "28",
         "Pencil Sketch Drawing",
         "ART_AND_DESIGN",
         "3.9",
         "136",
         "4.6M",
         "10000.0",
         "Free",
         "0",
         "Everyone",
         "Art & Design",
         "July 12, 2018",
         "6.0",
         "2.3 and up",
         "4.6"
        ],
        [
         "29",
         "Easy Realistic Drawing Tutorial",
         "ART_AND_DESIGN",
         "4.1",
         "223",
         "4.2M",
         "100000.0",
         "Free",
         "0",
         "Everyone",
         "Art & Design",
         "August 22, 2017",
         "1.0",
         "2.3 and up",
         "4.2"
        ],
        [
         "30",
         "Pink Silver Bow Keyboard Theme",
         "ART_AND_DESIGN",
         "4.2",
         "1120",
         "9.2M",
         "100000.0",
         "Free",
         "0",
         "Everyone",
         "Art & Design",
         "July 12, 2018",
         "6.7.12.2018",
         "4.0.3 and up",
         "9.2"
        ],
        [
         "31",
         "Art Drawing Ideas",
         "ART_AND_DESIGN",
         "4.1",
         "227",
         "5.2M",
         "50000.0",
         "Free",
         "0",
         "Everyone",
         "Art & Design",
         "May 31, 2018",
         "1.2",
         "2.3 and up",
         "5.2"
        ],
        [
         "32",
         "Anime Manga Coloring Book",
         "ART_AND_DESIGN",
         "4.5",
         "5035",
         "11M",
         "100000.0",
         "Free",
         "0",
         "Everyone",
         "Art & Design",
         "July 19, 2018",
         "2.20",
         "4.0 and up",
         "11.0"
        ],
        [
         "33",
         "Easy Origami Ideas",
         "ART_AND_DESIGN",
         "4.2",
         "1015",
         "11M",
         "100000.0",
         "Free",
         "0",
         "Everyone",
         "Art & Design",
         "January 6, 2018",
         "1.1.0",
         "4.1 and up",
         "11.0"
        ],
        [
         "34",
         "I Creative Idea",
         "ART_AND_DESIGN",
         "4.7",
         "353",
         "4.2M",
         "10000.0",
         "Free",
         "0",
         "Teen",
         "Art & Design",
         "April 27, 2018",
         "1.6",
         "4.1 and up",
         "4.2"
        ],
        [
         "35",
         "How to draw Ladybug and Cat Noir",
         "ART_AND_DESIGN",
         "3.8",
         "564",
         "9.2M",
         "100000.0",
         "Free",
         "0",
         "Everyone",
         "Art & Design",
         "July 11, 2018",
         "2.1",
         "4.1 and up",
         "9.2"
        ],
        [
         "36",
         "UNICORN - Color By Number & Pixel Art Coloring",
         "ART_AND_DESIGN",
         "4.7",
         "8145",
         "24M",
         "500000.0",
         "Free",
         "0",
         "Everyone",
         "Art & Design;Creativity",
         "August 2, 2018",
         "1.0.9",
         "4.4 and up",
         "24.0"
        ],
        [
         "37",
         "Floor Plan Creator",
         "ART_AND_DESIGN",
         "4.1",
         "36639",
         "Varies with device",
         "5000000.0",
         "Free",
         "0",
         "Everyone",
         "Art & Design",
         "July 14, 2018",
         "Varies with device",
         "2.3.3 and up",
         null
        ],
        [
         "38",
         "PIP Camera - PIP Collage Maker",
         "ART_AND_DESIGN",
         "4.7",
         "158",
         "11M",
         "10000.0",
         "Free",
         "0",
         "Everyone",
         "Art & Design",
         "November 29, 2017",
         "1.3",
         "4.0.3 and up",
         "11.0"
        ],
        [
         "39",
         "How To Color Disney Princess - Coloring Pages",
         "ART_AND_DESIGN",
         "4.0",
         "591",
         "9.4M",
         "500000.0",
         "Free",
         "0",
         "Everyone",
         "Art & Design",
         "March 31, 2018",
         "1",
         "4.0 and up",
         "9.4"
        ],
        [
         "40",
         "Drawing Clothes Fashion Ideas",
         "ART_AND_DESIGN",
         "4.2",
         "117",
         "15M",
         "10000.0",
         "Free",
         "0",
         "Everyone",
         "Art & Design",
         "July 20, 2018",
         "2.0.1",
         "4.0.3 and up",
         "15.0"
        ],
        [
         "41",
         "Sad Poetry Photo Frames 2018",
         "ART_AND_DESIGN",
         "4.5",
         "176",
         "10M",
         "100000.0",
         "Free",
         "0",
         "Everyone",
         "Art & Design",
         "April 2, 2018",
         "1.0",
         "4.0.3 and up",
         "10.0"
        ],
        [
         "42",
         "Textgram - write on photos",
         "ART_AND_DESIGN",
         "4.4",
         "295221",
         "Varies with device",
         "10000000.0",
         "Free",
         "0",
         "Everyone",
         "Art & Design",
         "July 30, 2018",
         "Varies with device",
         "Varies with device",
         null
        ],
        [
         "43",
         "Paint Splash!",
         "ART_AND_DESIGN",
         "3.8",
         "2206",
         "1.2M",
         "100000.0",
         "Free",
         "0",
         "Everyone",
         "Art & Design;Creativity",
         "April 15, 2018",
         "1.46",
         "4.1 and up",
         "1.2"
        ],
        [
         "44",
         "Popsicle Sticks and Similar DIY Craft Ideas",
         "ART_AND_DESIGN",
         "4.2",
         "26",
         "12M",
         "10000.0",
         "Free",
         "0",
         "Everyone",
         "Art & Design",
         "January 3, 2018",
         "1.0.0",
         "4.1 and up",
         "12.0"
        ],
        [
         "45",
         "Canva: Poster, banner, card maker & graphic design",
         "ART_AND_DESIGN",
         "4.7",
         "174531",
         "24M",
         "10000000.0",
         "Free",
         "0",
         "Everyone",
         "Art & Design",
         "July 31, 2018",
         "1.6.1",
         "4.1 and up",
         "24.0"
        ],
        [
         "46",
         "Install images with music to make video without Net - 2018",
         "ART_AND_DESIGN",
         "4.6",
         "1070",
         "26M",
         "100000.0",
         "Free",
         "0",
         "Everyone",
         "Art & Design",
         "November 14, 2017",
         "1.6",
         "4.1 and up",
         "26.0"
        ],
        [
         "47",
         "Little Teddy Bear Colouring Book Game",
         "ART_AND_DESIGN",
         "4.2",
         "85",
         "8.0M",
         "100000.0",
         "Free",
         "0",
         "Everyone",
         "Art & Design",
         "December 17, 2017",
         "2.0.0",
         "4.1 and up",
         "8.0"
        ],
        [
         "48",
         "How To Draw Food",
         "ART_AND_DESIGN",
         "4.3",
         "845",
         "7.9M",
         "100000.0",
         "Free",
         "0",
         "Everyone",
         "Art & Design",
         "May 28, 2018",
         "1.0",
         "2.3 and up",
         "7.9"
        ],
        [
         "49",
         "Monster Truck Stunt 3D 2019",
         "AUTO_AND_VEHICLES",
         "4.2",
         "367",
         "25M",
         "100000.0",
         "Free",
         "0",
         "Everyone",
         "Auto & Vehicles",
         "May 10, 2018",
         "1.0",
         "4.0.3 and up",
         "25.0"
        ]
       ],
       "shape": {
        "columns": 14,
        "rows": 10841
       }
      },
      "text/html": [
       "<div>\n",
       "<style scoped>\n",
       "    .dataframe tbody tr th:only-of-type {\n",
       "        vertical-align: middle;\n",
       "    }\n",
       "\n",
       "    .dataframe tbody tr th {\n",
       "        vertical-align: top;\n",
       "    }\n",
       "\n",
       "    .dataframe thead th {\n",
       "        text-align: right;\n",
       "    }\n",
       "</style>\n",
       "<table border=\"1\" class=\"dataframe\">\n",
       "  <thead>\n",
       "    <tr style=\"text-align: right;\">\n",
       "      <th></th>\n",
       "      <th>App</th>\n",
       "      <th>Category</th>\n",
       "      <th>Rating</th>\n",
       "      <th>Reviews</th>\n",
       "      <th>Size</th>\n",
       "      <th>Installs</th>\n",
       "      <th>Type</th>\n",
       "      <th>Price</th>\n",
       "      <th>Content Rating</th>\n",
       "      <th>Genres</th>\n",
       "      <th>Last Updated</th>\n",
       "      <th>Current Ver</th>\n",
       "      <th>Android Ver</th>\n",
       "      <th>Size_MB</th>\n",
       "    </tr>\n",
       "  </thead>\n",
       "  <tbody>\n",
       "    <tr>\n",
       "      <th>0</th>\n",
       "      <td>Photo Editor &amp; Candy Camera &amp; Grid &amp; ScrapBook</td>\n",
       "      <td>ART_AND_DESIGN</td>\n",
       "      <td>4.1</td>\n",
       "      <td>159</td>\n",
       "      <td>19M</td>\n",
       "      <td>10000.0</td>\n",
       "      <td>Free</td>\n",
       "      <td>0</td>\n",
       "      <td>Everyone</td>\n",
       "      <td>Art &amp; Design</td>\n",
       "      <td>January 7, 2018</td>\n",
       "      <td>1.0.0</td>\n",
       "      <td>4.0.3 and up</td>\n",
       "      <td>19.0</td>\n",
       "    </tr>\n",
       "    <tr>\n",
       "      <th>1</th>\n",
       "      <td>Coloring book moana</td>\n",
       "      <td>ART_AND_DESIGN</td>\n",
       "      <td>3.9</td>\n",
       "      <td>967</td>\n",
       "      <td>14M</td>\n",
       "      <td>500000.0</td>\n",
       "      <td>Free</td>\n",
       "      <td>0</td>\n",
       "      <td>Everyone</td>\n",
       "      <td>Art &amp; Design;Pretend Play</td>\n",
       "      <td>January 15, 2018</td>\n",
       "      <td>2.0.0</td>\n",
       "      <td>4.0.3 and up</td>\n",
       "      <td>14.0</td>\n",
       "    </tr>\n",
       "    <tr>\n",
       "      <th>2</th>\n",
       "      <td>U Launcher Lite – FREE Live Cool Themes, Hide ...</td>\n",
       "      <td>ART_AND_DESIGN</td>\n",
       "      <td>4.7</td>\n",
       "      <td>87510</td>\n",
       "      <td>8.7M</td>\n",
       "      <td>5000000.0</td>\n",
       "      <td>Free</td>\n",
       "      <td>0</td>\n",
       "      <td>Everyone</td>\n",
       "      <td>Art &amp; Design</td>\n",
       "      <td>August 1, 2018</td>\n",
       "      <td>1.2.4</td>\n",
       "      <td>4.0.3 and up</td>\n",
       "      <td>8.7</td>\n",
       "    </tr>\n",
       "    <tr>\n",
       "      <th>3</th>\n",
       "      <td>Sketch - Draw &amp; Paint</td>\n",
       "      <td>ART_AND_DESIGN</td>\n",
       "      <td>4.5</td>\n",
       "      <td>215644</td>\n",
       "      <td>25M</td>\n",
       "      <td>50000000.0</td>\n",
       "      <td>Free</td>\n",
       "      <td>0</td>\n",
       "      <td>Teen</td>\n",
       "      <td>Art &amp; Design</td>\n",
       "      <td>June 8, 2018</td>\n",
       "      <td>Varies with device</td>\n",
       "      <td>4.2 and up</td>\n",
       "      <td>25.0</td>\n",
       "    </tr>\n",
       "    <tr>\n",
       "      <th>4</th>\n",
       "      <td>Pixel Draw - Number Art Coloring Book</td>\n",
       "      <td>ART_AND_DESIGN</td>\n",
       "      <td>4.3</td>\n",
       "      <td>967</td>\n",
       "      <td>2.8M</td>\n",
       "      <td>100000.0</td>\n",
       "      <td>Free</td>\n",
       "      <td>0</td>\n",
       "      <td>Everyone</td>\n",
       "      <td>Art &amp; Design;Creativity</td>\n",
       "      <td>June 20, 2018</td>\n",
       "      <td>1.1</td>\n",
       "      <td>4.4 and up</td>\n",
       "      <td>2.8</td>\n",
       "    </tr>\n",
       "    <tr>\n",
       "      <th>...</th>\n",
       "      <td>...</td>\n",
       "      <td>...</td>\n",
       "      <td>...</td>\n",
       "      <td>...</td>\n",
       "      <td>...</td>\n",
       "      <td>...</td>\n",
       "      <td>...</td>\n",
       "      <td>...</td>\n",
       "      <td>...</td>\n",
       "      <td>...</td>\n",
       "      <td>...</td>\n",
       "      <td>...</td>\n",
       "      <td>...</td>\n",
       "      <td>...</td>\n",
       "    </tr>\n",
       "    <tr>\n",
       "      <th>10836</th>\n",
       "      <td>Sya9a Maroc - FR</td>\n",
       "      <td>FAMILY</td>\n",
       "      <td>4.5</td>\n",
       "      <td>38</td>\n",
       "      <td>53M</td>\n",
       "      <td>5000.0</td>\n",
       "      <td>Free</td>\n",
       "      <td>0</td>\n",
       "      <td>Everyone</td>\n",
       "      <td>Education</td>\n",
       "      <td>July 25, 2017</td>\n",
       "      <td>1.48</td>\n",
       "      <td>4.1 and up</td>\n",
       "      <td>53.0</td>\n",
       "    </tr>\n",
       "    <tr>\n",
       "      <th>10837</th>\n",
       "      <td>Fr. Mike Schmitz Audio Teachings</td>\n",
       "      <td>FAMILY</td>\n",
       "      <td>5.0</td>\n",
       "      <td>4</td>\n",
       "      <td>3.6M</td>\n",
       "      <td>100.0</td>\n",
       "      <td>Free</td>\n",
       "      <td>0</td>\n",
       "      <td>Everyone</td>\n",
       "      <td>Education</td>\n",
       "      <td>July 6, 2018</td>\n",
       "      <td>1.0</td>\n",
       "      <td>4.1 and up</td>\n",
       "      <td>3.6</td>\n",
       "    </tr>\n",
       "    <tr>\n",
       "      <th>10838</th>\n",
       "      <td>Parkinson Exercices FR</td>\n",
       "      <td>MEDICAL</td>\n",
       "      <td>NaN</td>\n",
       "      <td>3</td>\n",
       "      <td>9.5M</td>\n",
       "      <td>1000.0</td>\n",
       "      <td>Free</td>\n",
       "      <td>0</td>\n",
       "      <td>Everyone</td>\n",
       "      <td>Medical</td>\n",
       "      <td>January 20, 2017</td>\n",
       "      <td>1.0</td>\n",
       "      <td>2.2 and up</td>\n",
       "      <td>9.5</td>\n",
       "    </tr>\n",
       "    <tr>\n",
       "      <th>10839</th>\n",
       "      <td>The SCP Foundation DB fr nn5n</td>\n",
       "      <td>BOOKS_AND_REFERENCE</td>\n",
       "      <td>4.5</td>\n",
       "      <td>114</td>\n",
       "      <td>Varies with device</td>\n",
       "      <td>1000.0</td>\n",
       "      <td>Free</td>\n",
       "      <td>0</td>\n",
       "      <td>Mature 17+</td>\n",
       "      <td>Books &amp; Reference</td>\n",
       "      <td>January 19, 2015</td>\n",
       "      <td>Varies with device</td>\n",
       "      <td>Varies with device</td>\n",
       "      <td>NaN</td>\n",
       "    </tr>\n",
       "    <tr>\n",
       "      <th>10840</th>\n",
       "      <td>iHoroscope - 2018 Daily Horoscope &amp; Astrology</td>\n",
       "      <td>LIFESTYLE</td>\n",
       "      <td>4.5</td>\n",
       "      <td>398307</td>\n",
       "      <td>19M</td>\n",
       "      <td>10000000.0</td>\n",
       "      <td>Free</td>\n",
       "      <td>0</td>\n",
       "      <td>Everyone</td>\n",
       "      <td>Lifestyle</td>\n",
       "      <td>July 25, 2018</td>\n",
       "      <td>Varies with device</td>\n",
       "      <td>Varies with device</td>\n",
       "      <td>19.0</td>\n",
       "    </tr>\n",
       "  </tbody>\n",
       "</table>\n",
       "<p>10841 rows × 14 columns</p>\n",
       "</div>"
      ],
      "text/plain": [
       "                                                     App             Category  \\\n",
       "0         Photo Editor & Candy Camera & Grid & ScrapBook       ART_AND_DESIGN   \n",
       "1                                    Coloring book moana       ART_AND_DESIGN   \n",
       "2      U Launcher Lite – FREE Live Cool Themes, Hide ...       ART_AND_DESIGN   \n",
       "3                                  Sketch - Draw & Paint       ART_AND_DESIGN   \n",
       "4                  Pixel Draw - Number Art Coloring Book       ART_AND_DESIGN   \n",
       "...                                                  ...                  ...   \n",
       "10836                                   Sya9a Maroc - FR               FAMILY   \n",
       "10837                   Fr. Mike Schmitz Audio Teachings               FAMILY   \n",
       "10838                             Parkinson Exercices FR              MEDICAL   \n",
       "10839                      The SCP Foundation DB fr nn5n  BOOKS_AND_REFERENCE   \n",
       "10840      iHoroscope - 2018 Daily Horoscope & Astrology            LIFESTYLE   \n",
       "\n",
       "       Rating Reviews                Size    Installs  Type Price  \\\n",
       "0         4.1     159                 19M     10000.0  Free     0   \n",
       "1         3.9     967                 14M    500000.0  Free     0   \n",
       "2         4.7   87510                8.7M   5000000.0  Free     0   \n",
       "3         4.5  215644                 25M  50000000.0  Free     0   \n",
       "4         4.3     967                2.8M    100000.0  Free     0   \n",
       "...       ...     ...                 ...         ...   ...   ...   \n",
       "10836     4.5      38                 53M      5000.0  Free     0   \n",
       "10837     5.0       4                3.6M       100.0  Free     0   \n",
       "10838     NaN       3                9.5M      1000.0  Free     0   \n",
       "10839     4.5     114  Varies with device      1000.0  Free     0   \n",
       "10840     4.5  398307                 19M  10000000.0  Free     0   \n",
       "\n",
       "      Content Rating                     Genres      Last Updated  \\\n",
       "0           Everyone               Art & Design   January 7, 2018   \n",
       "1           Everyone  Art & Design;Pretend Play  January 15, 2018   \n",
       "2           Everyone               Art & Design    August 1, 2018   \n",
       "3               Teen               Art & Design      June 8, 2018   \n",
       "4           Everyone    Art & Design;Creativity     June 20, 2018   \n",
       "...              ...                        ...               ...   \n",
       "10836       Everyone                  Education     July 25, 2017   \n",
       "10837       Everyone                  Education      July 6, 2018   \n",
       "10838       Everyone                    Medical  January 20, 2017   \n",
       "10839     Mature 17+          Books & Reference  January 19, 2015   \n",
       "10840       Everyone                  Lifestyle     July 25, 2018   \n",
       "\n",
       "              Current Ver         Android Ver  Size_MB  \n",
       "0                   1.0.0        4.0.3 and up     19.0  \n",
       "1                   2.0.0        4.0.3 and up     14.0  \n",
       "2                   1.2.4        4.0.3 and up      8.7  \n",
       "3      Varies with device          4.2 and up     25.0  \n",
       "4                     1.1          4.4 and up      2.8  \n",
       "...                   ...                 ...      ...  \n",
       "10836                1.48          4.1 and up     53.0  \n",
       "10837                 1.0          4.1 and up      3.6  \n",
       "10838                 1.0          2.2 and up      9.5  \n",
       "10839  Varies with device  Varies with device      NaN  \n",
       "10840  Varies with device  Varies with device     19.0  \n",
       "\n",
       "[10841 rows x 14 columns]"
      ]
     },
     "execution_count": 33,
     "metadata": {},
     "output_type": "execute_result"
    }
   ],
   "source": [
    "dataset"
   ]
  },
  {
   "cell_type": "code",
   "execution_count": 34,
   "id": "7a4aa09f",
   "metadata": {},
   "outputs": [
    {
     "data": {
      "application/vnd.microsoft.datawrangler.viewer.v0+json": {
       "columns": [
        {
         "name": "index",
         "rawType": "int64",
         "type": "integer"
        },
        {
         "name": "Reviews",
         "rawType": "float64",
         "type": "float"
        }
       ],
       "ref": "8c95e829-e583-475a-87e8-019b7ac5493a",
       "rows": [
        [
         "0",
         "159.0"
        ],
        [
         "1",
         "967.0"
        ],
        [
         "2",
         "87510.0"
        ],
        [
         "3",
         "215644.0"
        ],
        [
         "4",
         "967.0"
        ],
        [
         "5",
         "167.0"
        ],
        [
         "6",
         "178.0"
        ],
        [
         "7",
         "36815.0"
        ],
        [
         "8",
         "13791.0"
        ],
        [
         "9",
         "121.0"
        ],
        [
         "10",
         "13880.0"
        ],
        [
         "11",
         "8788.0"
        ],
        [
         "12",
         "44829.0"
        ],
        [
         "13",
         "4326.0"
        ],
        [
         "14",
         "1518.0"
        ],
        [
         "15",
         "55.0"
        ],
        [
         "16",
         "3632.0"
        ],
        [
         "17",
         "27.0"
        ],
        [
         "18",
         "194216.0"
        ],
        [
         "19",
         "224399.0"
        ],
        [
         "20",
         "450.0"
        ],
        [
         "21",
         "654.0"
        ],
        [
         "22",
         "7699.0"
        ],
        [
         "23",
         "61.0"
        ],
        [
         "24",
         "118.0"
        ],
        [
         "25",
         "192.0"
        ],
        [
         "26",
         "20260.0"
        ],
        [
         "27",
         "203.0"
        ],
        [
         "28",
         "136.0"
        ],
        [
         "29",
         "223.0"
        ],
        [
         "30",
         "1120.0"
        ],
        [
         "31",
         "227.0"
        ],
        [
         "32",
         "5035.0"
        ],
        [
         "33",
         "1015.0"
        ],
        [
         "34",
         "353.0"
        ],
        [
         "35",
         "564.0"
        ],
        [
         "36",
         "8145.0"
        ],
        [
         "37",
         "36639.0"
        ],
        [
         "38",
         "158.0"
        ],
        [
         "39",
         "591.0"
        ],
        [
         "40",
         "117.0"
        ],
        [
         "41",
         "176.0"
        ],
        [
         "42",
         "295221.0"
        ],
        [
         "43",
         "2206.0"
        ],
        [
         "44",
         "26.0"
        ],
        [
         "45",
         "174531.0"
        ],
        [
         "46",
         "1070.0"
        ],
        [
         "47",
         "85.0"
        ],
        [
         "48",
         "845.0"
        ],
        [
         "49",
         "367.0"
        ]
       ],
       "shape": {
        "columns": 1,
        "rows": 10841
       }
      },
      "text/plain": [
       "0           159.0\n",
       "1           967.0\n",
       "2         87510.0\n",
       "3        215644.0\n",
       "4           967.0\n",
       "           ...   \n",
       "10836        38.0\n",
       "10837         4.0\n",
       "10838         3.0\n",
       "10839       114.0\n",
       "10840    398307.0\n",
       "Name: Reviews, Length: 10841, dtype: float64"
      ]
     },
     "execution_count": 34,
     "metadata": {},
     "output_type": "execute_result"
    }
   ],
   "source": [
    "dataset[\"Reviews\"] = pd.to_numeric(dataset[\"Reviews\"], errors=\"coerce\") # Convert Reviews to numeric\n",
    "dataset[\"Reviews\"]"
   ]
  },
  {
   "cell_type": "code",
   "execution_count": 35,
   "id": "f2f6e3c0",
   "metadata": {},
   "outputs": [
    {
     "data": {
      "application/vnd.microsoft.datawrangler.viewer.v0+json": {
       "columns": [
        {
         "name": "index",
         "rawType": "int64",
         "type": "integer"
        },
        {
         "name": "Rating",
         "rawType": "float64",
         "type": "float"
        }
       ],
       "ref": "173acb61-34ba-4b01-8d67-bf3c578e4286",
       "rows": [
        [
         "0",
         "4.1"
        ],
        [
         "1",
         "3.9"
        ],
        [
         "2",
         "4.7"
        ],
        [
         "3",
         "4.5"
        ],
        [
         "4",
         "4.3"
        ],
        [
         "5",
         "4.4"
        ],
        [
         "6",
         "3.8"
        ],
        [
         "7",
         "4.1"
        ],
        [
         "8",
         "4.4"
        ],
        [
         "9",
         "4.7"
        ],
        [
         "10",
         "4.4"
        ],
        [
         "11",
         "4.4"
        ],
        [
         "12",
         "4.2"
        ],
        [
         "13",
         "4.6"
        ],
        [
         "14",
         "4.4"
        ],
        [
         "15",
         "3.2"
        ],
        [
         "16",
         "4.7"
        ],
        [
         "17",
         "4.5"
        ],
        [
         "18",
         "4.3"
        ],
        [
         "19",
         "4.6"
        ],
        [
         "20",
         "4.0"
        ],
        [
         "21",
         "4.1"
        ],
        [
         "22",
         "4.7"
        ],
        [
         "23",
         null
        ],
        [
         "24",
         "4.7"
        ],
        [
         "25",
         "4.8"
        ],
        [
         "26",
         "4.7"
        ],
        [
         "27",
         "4.1"
        ],
        [
         "28",
         "3.9"
        ],
        [
         "29",
         "4.1"
        ],
        [
         "30",
         "4.2"
        ],
        [
         "31",
         "4.1"
        ],
        [
         "32",
         "4.5"
        ],
        [
         "33",
         "4.2"
        ],
        [
         "34",
         "4.7"
        ],
        [
         "35",
         "3.8"
        ],
        [
         "36",
         "4.7"
        ],
        [
         "37",
         "4.1"
        ],
        [
         "38",
         "4.7"
        ],
        [
         "39",
         "4.0"
        ],
        [
         "40",
         "4.2"
        ],
        [
         "41",
         "4.5"
        ],
        [
         "42",
         "4.4"
        ],
        [
         "43",
         "3.8"
        ],
        [
         "44",
         "4.2"
        ],
        [
         "45",
         "4.7"
        ],
        [
         "46",
         "4.6"
        ],
        [
         "47",
         "4.2"
        ],
        [
         "48",
         "4.3"
        ],
        [
         "49",
         "4.2"
        ]
       ],
       "shape": {
        "columns": 1,
        "rows": 10841
       }
      },
      "text/plain": [
       "0        4.1\n",
       "1        3.9\n",
       "2        4.7\n",
       "3        4.5\n",
       "4        4.3\n",
       "        ... \n",
       "10836    4.5\n",
       "10837    5.0\n",
       "10838    NaN\n",
       "10839    4.5\n",
       "10840    4.5\n",
       "Name: Rating, Length: 10841, dtype: float64"
      ]
     },
     "execution_count": 35,
     "metadata": {},
     "output_type": "execute_result"
    }
   ],
   "source": [
    "dataset[\"Rating\"] = pd.to_numeric(dataset[\"Rating\"], errors=\"coerce\") # Convert Rating to numeric\n",
    "dataset[\"Rating\"]"
   ]
  },
  {
   "cell_type": "code",
   "execution_count": 36,
   "id": "caea6bd6",
   "metadata": {},
   "outputs": [
    {
     "data": {
      "application/vnd.microsoft.datawrangler.viewer.v0+json": {
       "columns": [
        {
         "name": "index",
         "rawType": "int64",
         "type": "integer"
        },
        {
         "name": "Last Updated",
         "rawType": "datetime64[ns]",
         "type": "datetime"
        }
       ],
       "ref": "5fc34658-d97a-4325-ad9e-78f78dd87c57",
       "rows": [
        [
         "0",
         "2018-01-07 00:00:00"
        ],
        [
         "1",
         "2018-01-15 00:00:00"
        ],
        [
         "2",
         "2018-08-01 00:00:00"
        ],
        [
         "3",
         "2018-06-08 00:00:00"
        ],
        [
         "4",
         "2018-06-20 00:00:00"
        ],
        [
         "5",
         "2017-03-26 00:00:00"
        ],
        [
         "6",
         "2018-04-26 00:00:00"
        ],
        [
         "7",
         "2018-06-14 00:00:00"
        ],
        [
         "8",
         "2017-09-20 00:00:00"
        ],
        [
         "9",
         "2018-07-03 00:00:00"
        ],
        [
         "10",
         "2017-10-27 00:00:00"
        ],
        [
         "11",
         "2018-07-31 00:00:00"
        ],
        [
         "12",
         "2018-04-02 00:00:00"
        ],
        [
         "13",
         "2018-06-26 00:00:00"
        ],
        [
         "14",
         "2018-08-03 00:00:00"
        ],
        [
         "15",
         "2018-06-06 00:00:00"
        ],
        [
         "16",
         "2018-07-31 00:00:00"
        ],
        [
         "17",
         "2017-11-07 00:00:00"
        ],
        [
         "18",
         "2018-08-03 00:00:00"
        ],
        [
         "19",
         "2018-07-30 00:00:00"
        ],
        [
         "20",
         "2018-04-20 00:00:00"
        ],
        [
         "21",
         "2018-03-20 00:00:00"
        ],
        [
         "22",
         "2018-07-12 00:00:00"
        ],
        [
         "23",
         "2018-03-07 00:00:00"
        ],
        [
         "24",
         "2018-07-07 00:00:00"
        ],
        [
         "25",
         "2018-04-25 00:00:00"
        ],
        [
         "26",
         "2017-10-11 00:00:00"
        ],
        [
         "27",
         "2018-03-21 00:00:00"
        ],
        [
         "28",
         "2018-07-12 00:00:00"
        ],
        [
         "29",
         "2017-08-22 00:00:00"
        ],
        [
         "30",
         "2018-07-12 00:00:00"
        ],
        [
         "31",
         "2018-05-31 00:00:00"
        ],
        [
         "32",
         "2018-07-19 00:00:00"
        ],
        [
         "33",
         "2018-01-06 00:00:00"
        ],
        [
         "34",
         "2018-04-27 00:00:00"
        ],
        [
         "35",
         "2018-07-11 00:00:00"
        ],
        [
         "36",
         "2018-08-02 00:00:00"
        ],
        [
         "37",
         "2018-07-14 00:00:00"
        ],
        [
         "38",
         "2017-11-29 00:00:00"
        ],
        [
         "39",
         "2018-03-31 00:00:00"
        ],
        [
         "40",
         "2018-07-20 00:00:00"
        ],
        [
         "41",
         "2018-04-02 00:00:00"
        ],
        [
         "42",
         "2018-07-30 00:00:00"
        ],
        [
         "43",
         "2018-04-15 00:00:00"
        ],
        [
         "44",
         "2018-01-03 00:00:00"
        ],
        [
         "45",
         "2018-07-31 00:00:00"
        ],
        [
         "46",
         "2017-11-14 00:00:00"
        ],
        [
         "47",
         "2017-12-17 00:00:00"
        ],
        [
         "48",
         "2018-05-28 00:00:00"
        ],
        [
         "49",
         "2018-05-10 00:00:00"
        ]
       ],
       "shape": {
        "columns": 1,
        "rows": 10841
       }
      },
      "text/plain": [
       "0       2018-01-07\n",
       "1       2018-01-15\n",
       "2       2018-08-01\n",
       "3       2018-06-08\n",
       "4       2018-06-20\n",
       "           ...    \n",
       "10836   2017-07-25\n",
       "10837   2018-07-06\n",
       "10838   2017-01-20\n",
       "10839   2015-01-19\n",
       "10840   2018-07-25\n",
       "Name: Last Updated, Length: 10841, dtype: datetime64[ns]"
      ]
     },
     "execution_count": 36,
     "metadata": {},
     "output_type": "execute_result"
    }
   ],
   "source": [
    "dataset[\"Last Updated\"] = pd.to_datetime(dataset[\"Last Updated\"], errors=\"coerce\") # Convert Last Updated to datetime\n",
    "dataset[\"Last Updated\"]"
   ]
  },
  {
   "cell_type": "code",
   "execution_count": 41,
   "id": "d42a97d4",
   "metadata": {},
   "outputs": [],
   "source": [
    "# In this, I filtered the dataset to include only apps with a rating of 4.0 or higher, minimum size of 10 MB, and last updated in January.\n",
    "dataset_filtered = dataset[\n",
    "    (dataset['Rating'] >= 4.0) &\n",
    "    (dataset['Size_MB'] >= 10) &\n",
    "    (dataset['Last Updated'].dt.month == 1)\n",
    "]\n",
    "data = dataset_filtered"
   ]
  },
  {
   "cell_type": "code",
   "execution_count": 42,
   "id": "2bb0308b",
   "metadata": {},
   "outputs": [
    {
     "data": {
      "application/vnd.microsoft.datawrangler.viewer.v0+json": {
       "columns": [
        {
         "name": "index",
         "rawType": "int64",
         "type": "integer"
        },
        {
         "name": "App",
         "rawType": "object",
         "type": "string"
        },
        {
         "name": "Category",
         "rawType": "object",
         "type": "string"
        },
        {
         "name": "Rating",
         "rawType": "float64",
         "type": "float"
        },
        {
         "name": "Reviews",
         "rawType": "float64",
         "type": "float"
        },
        {
         "name": "Size",
         "rawType": "object",
         "type": "string"
        },
        {
         "name": "Installs",
         "rawType": "float64",
         "type": "float"
        },
        {
         "name": "Type",
         "rawType": "object",
         "type": "string"
        },
        {
         "name": "Price",
         "rawType": "object",
         "type": "string"
        },
        {
         "name": "Content Rating",
         "rawType": "object",
         "type": "string"
        },
        {
         "name": "Genres",
         "rawType": "object",
         "type": "string"
        },
        {
         "name": "Last Updated",
         "rawType": "datetime64[ns]",
         "type": "datetime"
        },
        {
         "name": "Current Ver",
         "rawType": "object",
         "type": "string"
        },
        {
         "name": "Android Ver",
         "rawType": "object",
         "type": "string"
        },
        {
         "name": "Size_MB",
         "rawType": "float64",
         "type": "float"
        }
       ],
       "ref": "2811a47b-e461-419a-8fcf-55167c25f929",
       "rows": [
        [
         "0",
         "Photo Editor & Candy Camera & Grid & ScrapBook",
         "ART_AND_DESIGN",
         "4.1",
         "159.0",
         "19M",
         "10000.0",
         "Free",
         "0",
         "Everyone",
         "Art & Design",
         "2018-01-07 00:00:00",
         "1.0.0",
         "4.0.3 and up",
         "19.0"
        ],
        [
         "33",
         "Easy Origami Ideas",
         "ART_AND_DESIGN",
         "4.2",
         "1015.0",
         "11M",
         "100000.0",
         "Free",
         "0",
         "Everyone",
         "Art & Design",
         "2018-01-06 00:00:00",
         "1.1.0",
         "4.1 and up",
         "11.0"
        ],
        [
         "44",
         "Popsicle Sticks and Similar DIY Craft Ideas",
         "ART_AND_DESIGN",
         "4.2",
         "26.0",
         "12M",
         "10000.0",
         "Free",
         "0",
         "Everyone",
         "Art & Design",
         "2018-01-03 00:00:00",
         "1.0.0",
         "4.1 and up",
         "12.0"
        ],
        [
         "446",
         "Video Caller Id",
         "COMMUNICATION",
         "4.2",
         "15287.0",
         "17M",
         "1000000.0",
         "Free",
         "0",
         "Everyone",
         "Communication",
         "2018-01-24 00:00:00",
         "2.2.245",
         "4.0.3 and up",
         "17.0"
        ],
        [
         "719",
         "Monster Truck Driver & Racing",
         "EDUCATION",
         "4.4",
         "748.0",
         "51M",
         "1000000.0",
         "Free",
         "0",
         "Everyone",
         "Education;Action & Adventure",
         "2017-01-19 00:00:00",
         "1.0.9",
         "2.3 and up",
         "51.0"
        ],
        [
         "748",
         "Memorado - Brain Games",
         "EDUCATION",
         "4.4",
         "56897.0",
         "97M",
         "1000000.0",
         "Free",
         "0",
         "Everyone",
         "Education;Brain Games",
         "2017-01-16 00:00:00",
         "1.10.0",
         "4.1 and up",
         "97.0"
        ],
        [
         "917",
         "Nick",
         "ENTERTAINMENT",
         "4.2",
         "123279.0",
         "25M",
         "10000000.0",
         "Free",
         "0",
         "Everyone 10+",
         "Entertainment;Music & Video",
         "2018-01-24 00:00:00",
         "2.0.8",
         "4.4 and up",
         "25.0"
        ],
        [
         "937",
         "Nick",
         "ENTERTAINMENT",
         "4.2",
         "123279.0",
         "25M",
         "10000000.0",
         "Free",
         "0",
         "Everyone 10+",
         "Entertainment;Music & Video",
         "2018-01-24 00:00:00",
         "2.0.8",
         "4.4 and up",
         "25.0"
        ],
        [
         "945",
         "WWE",
         "ENTERTAINMENT",
         "4.5",
         "736864.0",
         "20M",
         "10000000.0",
         "Free",
         "0",
         "Teen",
         "Entertainment",
         "2018-01-19 00:00:00",
         "3.17.2",
         "4.1 and up",
         "20.0"
        ],
        [
         "963",
         "Nick",
         "ENTERTAINMENT",
         "4.2",
         "123279.0",
         "25M",
         "10000000.0",
         "Free",
         "0",
         "Everyone 10+",
         "Entertainment;Music & Video",
         "2018-01-24 00:00:00",
         "2.0.8",
         "4.4 and up",
         "25.0"
        ],
        [
         "986",
         "Nick Jr. - Shows & Games",
         "ENTERTAINMENT",
         "4.2",
         "8968.0",
         "35M",
         "1000000.0",
         "Free",
         "0",
         "Everyone",
         "Entertainment;Music & Video",
         "2018-01-23 00:00:00",
         "1.0.20",
         "4.4 and up",
         "35.0"
        ],
        [
         "992",
         "Nick",
         "ENTERTAINMENT",
         "4.2",
         "123279.0",
         "25M",
         "10000000.0",
         "Free",
         "0",
         "Everyone 10+",
         "Entertainment;Music & Video",
         "2018-01-24 00:00:00",
         "2.0.8",
         "4.4 and up",
         "25.0"
        ],
        [
         "1215",
         "Om Waleed Sweets",
         "FOOD_AND_DRINK",
         "4.6",
         "556.0",
         "23M",
         "100000.0",
         "Free",
         "0",
         "Teen",
         "Food & Drink",
         "2018-01-25 00:00:00",
         "2.0",
         "4.0 and up",
         "23.0"
        ],
        [
         "1945",
         "Power Rangers Dino Charge",
         "GAME",
         "4.3",
         "194969.0",
         "30M",
         "10000000.0",
         "Free",
         "0",
         "Everyone 10+",
         "Action",
         "2018-01-29 00:00:00",
         "1.4.0",
         "4.1 and up",
         "30.0"
        ],
        [
         "1951",
         "Once Upon a Tower",
         "GAME",
         "4.7",
         "37139.0",
         "49M",
         "1000000.0",
         "Free",
         "0",
         "Everyone 10+",
         "Action",
         "2018-01-24 00:00:00",
         "8",
         "4.1 and up",
         "49.0"
        ],
        [
         "2041",
         "Bubble Shooter",
         "FAMILY",
         "4.4",
         "59843.0",
         "20M",
         "5000000.0",
         "Free",
         "0",
         "Everyone",
         "Puzzle;Brain Games",
         "2018-01-09 00:00:00",
         "2.3.3122",
         "2.3 and up",
         "20.0"
        ],
        [
         "2104",
         "LEGO® Juniors Create & Cruise",
         "FAMILY",
         "4.1",
         "673203.0",
         "73M",
         "50000000.0",
         "Free",
         "0",
         "Everyone",
         "Educational;Action & Adventure",
         "2018-01-19 00:00:00",
         "6.7.5222",
         "4.1 and up",
         "73.0"
        ],
        [
         "2113",
         "Monster Truck Driver & Racing",
         "FAMILY",
         "4.4",
         "765.0",
         "51M",
         "1000000.0",
         "Free",
         "0",
         "Everyone",
         "Education;Action & Adventure",
         "2017-01-19 00:00:00",
         "1.0.9",
         "2.3 and up",
         "51.0"
        ],
        [
         "2147",
         "Nancy Drew Codes and Clues",
         "FAMILY",
         "4.1",
         "154.0",
         "16M",
         "10000.0",
         "Free",
         "0",
         "Everyone",
         "Educational;Education",
         "2017-01-13 00:00:00",
         "2.0.0",
         "4.1 and up",
         "16.0"
        ],
        [
         "2166",
         "Pino chess",
         "FAMILY",
         "4.8",
         "61.0",
         "25M",
         "1000.0",
         "Free",
         "0",
         "Everyone",
         "Casual;Brain Games",
         "2017-01-26 00:00:00",
         "0.1.0",
         "4.0 and up",
         "25.0"
        ],
        [
         "2226",
         "Nick",
         "FAMILY",
         "4.2",
         "123322.0",
         "25M",
         "10000000.0",
         "Free",
         "0",
         "Everyone 10+",
         "Entertainment;Music & Video",
         "2018-01-24 00:00:00",
         "2.0.8",
         "4.4 and up",
         "25.0"
        ],
        [
         "2299",
         "Navi Radiography Pro",
         "MEDICAL",
         "4.7",
         "11.0",
         "100M",
         "500.0",
         "Paid",
         "$15.99",
         "Everyone",
         "Medical",
         "2018-01-14 00:00:00",
         "1.2.0",
         "4.0.3 and up",
         "100.0"
        ],
        [
         "2496",
         "BURST Professionals",
         "MEDICAL",
         "4.5",
         "11.0",
         "25M",
         "1000.0",
         "Free",
         "0",
         "Everyone",
         "Medical",
         "2018-01-17 00:00:00",
         "1.0.7",
         "4.2 and up",
         "25.0"
        ],
        [
         "2705",
         "SnipSnap Coupon App",
         "SHOPPING",
         "4.2",
         "9975.0",
         "18M",
         "1000000.0",
         "Free",
         "0",
         "Everyone",
         "Shopping",
         "2018-01-22 00:00:00",
         "1.4",
         "4.3 and up",
         "18.0"
        ],
        [
         "2723",
         "SnipSnap Coupon App",
         "SHOPPING",
         "4.2",
         "9975.0",
         "18M",
         "1000000.0",
         "Free",
         "0",
         "Everyone",
         "Shopping",
         "2018-01-22 00:00:00",
         "1.4",
         "4.3 and up",
         "18.0"
        ],
        [
         "2804",
         "Groovebook Photo Books & Gifts",
         "PHOTOGRAPHY",
         "4.0",
         "21159.0",
         "36M",
         "500000.0",
         "Free",
         "0",
         "Everyone",
         "Photography",
         "2018-01-31 00:00:00",
         "2.1.9",
         "4.0.3 and up",
         "36.0"
        ],
        [
         "2956",
         "Photo Collage - InstaMag",
         "PHOTOGRAPHY",
         "4.3",
         "542561.0",
         "46M",
         "10000000.0",
         "Free",
         "0",
         "Everyone",
         "Photography",
         "2018-01-02 00:00:00",
         "4.7.0",
         "4.0 and up",
         "46.0"
        ],
        [
         "3150",
         "Navigation Plus",
         "TRAVEL_AND_LOCAL",
         "4.1",
         "928.0",
         "14M",
         "1000000.0",
         "Free",
         "0",
         "Everyone",
         "Travel & Local",
         "2018-01-09 00:00:00",
         "11.0.269 (m)",
         "4.1 and up",
         "14.0"
        ],
        [
         "3399",
         "Ringtones & Wallpapers for Me",
         "PERSONALIZATION",
         "4.2",
         "89342.0",
         "29M",
         "10000000.0",
         "Free",
         "0",
         "Everyone",
         "Personalization",
         "2018-01-30 00:00:00",
         "1.13",
         "4.1 and up",
         "29.0"
        ],
        [
         "3902",
         "LEGO® Juniors Create & Cruise",
         "FAMILY",
         "4.1",
         "672089.0",
         "73M",
         "50000000.0",
         "Free",
         "0",
         "Everyone",
         "Educational;Action & Adventure",
         "2018-01-19 00:00:00",
         "6.7.5222",
         "4.1 and up",
         "73.0"
        ],
        [
         "4054",
         "3D Bowling",
         "SPORTS",
         "4.1",
         "1076243.0",
         "13M",
         "100000000.0",
         "Free",
         "0",
         "Everyone",
         "Sports",
         "2018-01-18 00:00:00",
         "3.1",
         "2.0.1 and up",
         "13.0"
        ],
        [
         "4076",
         "WWE",
         "FAMILY",
         "4.5",
         "736824.0",
         "20M",
         "10000000.0",
         "Free",
         "0",
         "Teen",
         "Entertainment",
         "2018-01-19 00:00:00",
         "3.17.2",
         "4.1 and up",
         "20.0"
        ],
        [
         "4223",
         "I am Nose Doctor -Save my Nose",
         "FAMILY",
         "4.2",
         "3133.0",
         "34M",
         "500000.0",
         "Free",
         "0",
         "Everyone",
         "Casual",
         "2016-01-04 00:00:00",
         "1.1.1",
         "3.1 and up",
         "34.0"
        ],
        [
         "4299",
         "Math Games for Pre-K - Grade 4",
         "FAMILY",
         "4.6",
         "28.0",
         "23M",
         "1000.0",
         "Paid",
         "$1.99",
         "Everyone",
         "Education;Education",
         "2014-01-13 00:00:00",
         "1.02",
         "2.2 and up",
         "23.0"
        ],
        [
         "4316",
         "Anna.K Tarot",
         "FAMILY",
         "4.8",
         "17.0",
         "23M",
         "100.0",
         "Paid",
         "$3.99",
         "Mature 17+",
         "Entertainment",
         "2017-01-16 00:00:00",
         "1.4.4",
         "4.0.3 and up",
         "23.0"
        ],
        [
         "4377",
         "Rope'n'Fly 4",
         "GAME",
         "4.1",
         "234606.0",
         "59M",
         "10000000.0",
         "Free",
         "0",
         "Everyone",
         "Action",
         "2018-01-29 00:00:00",
         "3.1",
         "2.3 and up",
         "59.0"
        ],
        [
         "4387",
         "Rope'n'Fly 3 - Dusk Till Dawn",
         "GAME",
         "4.0",
         "166033.0",
         "23M",
         "10000000.0",
         "Free",
         "0",
         "Everyone 10+",
         "Arcade",
         "2018-01-31 00:00:00",
         "3.6",
         "2.3 and up",
         "23.0"
        ],
        [
         "4390",
         "Drag'n'Boom",
         "GAME",
         "4.8",
         "133180.0",
         "54M",
         "1000000.0",
         "Free",
         "0",
         "Everyone 10+",
         "Arcade",
         "2018-01-12 00:00:00",
         "1.1.1",
         "4.4 and up",
         "54.0"
        ],
        [
         "4419",
         "Oddworld: New 'n' Tasty",
         "GAME",
         "4.6",
         "1475.0",
         "34M",
         "10000.0",
         "Paid",
         "$4.99",
         "Teen",
         "Action",
         "2018-01-02 00:00:00",
         "1.0.4",
         "5.0 and up",
         "34.0"
        ],
        [
         "4557",
         "Join R, Community Engagement",
         "SOCIAL",
         "4.7",
         "144.0",
         "12M",
         "1000.0",
         "Free",
         "0",
         "Teen",
         "Social",
         "2017-01-31 00:00:00",
         "1.0.12",
         "4.0.3 and up",
         "12.0"
        ],
        [
         "4604",
         "T-Mobile Content Transfer",
         "PRODUCTIVITY",
         "4.1",
         "370.0",
         "29M",
         "500000.0",
         "Free",
         "0",
         "Everyone",
         "Productivity",
         "2018-01-25 00:00:00",
         "2.1.5",
         "4.0 and up",
         "29.0"
        ],
        [
         "4691",
         "San Andreas: Gang Crime V",
         "GAME",
         "4.1",
         "2399.0",
         "42M",
         "100000.0",
         "Free",
         "0",
         "Mature 17+",
         "Action",
         "2018-01-28 00:00:00",
         "1.0.1",
         "2.3 and up",
         "42.0"
        ],
        [
         "4783",
         "Robocar X Ray",
         "GAME",
         "4.5",
         "3432.0",
         "99M",
         "1000000.0",
         "Free",
         "0",
         "Mature 17+",
         "Action",
         "2017-01-23 00:00:00",
         "1.0",
         "2.3 and up",
         "99.0"
        ],
        [
         "4833",
         "Z City",
         "FAMILY",
         "4.3",
         "3976.0",
         "98M",
         "100000.0",
         "Free",
         "0",
         "Teen",
         "Strategy",
         "2018-01-29 00:00:00",
         "1.1.6",
         "4.0 and up",
         "98.0"
        ],
        [
         "5004",
         "Mupen64+AE FREE (N64 Emulator)",
         "GAME",
         "4.0",
         "41759.0",
         "12M",
         "1000000.0",
         "Free",
         "0",
         "Everyone",
         "Arcade",
         "2014-01-19 00:00:00",
         "2.4.4",
         "2.0 and up",
         "12.0"
        ],
        [
         "5005",
         "Mupen64Plus AE (N64 Emulator)",
         "GAME",
         "4.2",
         "4569.0",
         "12M",
         "100000.0",
         "Paid",
         "$0.99",
         "Everyone",
         "Arcade",
         "2014-01-19 00:00:00",
         "2.4.4",
         "2.0 and up",
         "12.0"
        ],
        [
         "5008",
         "AE Solitaire",
         "GAME",
         "4.3",
         "1776.0",
         "26M",
         "50000.0",
         "Free",
         "0",
         "Everyone",
         "Card",
         "2018-01-04 00:00:00",
         "2.3.4",
         "4.0.3 and up",
         "26.0"
        ],
        [
         "5021",
         "AE Angry Chef",
         "GAME",
         "4.1",
         "533.0",
         "39M",
         "10000.0",
         "Free",
         "0",
         "Everyone 10+",
         "Action",
         "2014-01-24 00:00:00",
         "1.0",
         "2.1 and up",
         "39.0"
        ],
        [
         "5272",
         "How it works: AK-74N",
         "FAMILY",
         "4.4",
         "1031.0",
         "48M",
         "100000.0",
         "Free",
         "0",
         "Everyone",
         "Entertainment",
         "2018-01-09 00:00:00",
         "2.1.9f0",
         "4.0.3 and up",
         "48.0"
        ],
        [
         "5344",
         "12 Step Meditations & Sober Prayers AA NA AL-ANON",
         "LIFESTYLE",
         "4.7",
         "759.0",
         "15M",
         "50000.0",
         "Free",
         "0",
         "Everyone 10+",
         "Lifestyle",
         "2018-01-22 00:00:00",
         "1.4.5",
         "4.1 and up",
         "15.0"
        ]
       ],
       "shape": {
        "columns": 14,
        "rows": 131
       }
      },
      "text/html": [
       "<div>\n",
       "<style scoped>\n",
       "    .dataframe tbody tr th:only-of-type {\n",
       "        vertical-align: middle;\n",
       "    }\n",
       "\n",
       "    .dataframe tbody tr th {\n",
       "        vertical-align: top;\n",
       "    }\n",
       "\n",
       "    .dataframe thead th {\n",
       "        text-align: right;\n",
       "    }\n",
       "</style>\n",
       "<table border=\"1\" class=\"dataframe\">\n",
       "  <thead>\n",
       "    <tr style=\"text-align: right;\">\n",
       "      <th></th>\n",
       "      <th>App</th>\n",
       "      <th>Category</th>\n",
       "      <th>Rating</th>\n",
       "      <th>Reviews</th>\n",
       "      <th>Size</th>\n",
       "      <th>Installs</th>\n",
       "      <th>Type</th>\n",
       "      <th>Price</th>\n",
       "      <th>Content Rating</th>\n",
       "      <th>Genres</th>\n",
       "      <th>Last Updated</th>\n",
       "      <th>Current Ver</th>\n",
       "      <th>Android Ver</th>\n",
       "      <th>Size_MB</th>\n",
       "    </tr>\n",
       "  </thead>\n",
       "  <tbody>\n",
       "    <tr>\n",
       "      <th>0</th>\n",
       "      <td>Photo Editor &amp; Candy Camera &amp; Grid &amp; ScrapBook</td>\n",
       "      <td>ART_AND_DESIGN</td>\n",
       "      <td>4.1</td>\n",
       "      <td>159.0</td>\n",
       "      <td>19M</td>\n",
       "      <td>10000.0</td>\n",
       "      <td>Free</td>\n",
       "      <td>0</td>\n",
       "      <td>Everyone</td>\n",
       "      <td>Art &amp; Design</td>\n",
       "      <td>2018-01-07</td>\n",
       "      <td>1.0.0</td>\n",
       "      <td>4.0.3 and up</td>\n",
       "      <td>19.0</td>\n",
       "    </tr>\n",
       "    <tr>\n",
       "      <th>33</th>\n",
       "      <td>Easy Origami Ideas</td>\n",
       "      <td>ART_AND_DESIGN</td>\n",
       "      <td>4.2</td>\n",
       "      <td>1015.0</td>\n",
       "      <td>11M</td>\n",
       "      <td>100000.0</td>\n",
       "      <td>Free</td>\n",
       "      <td>0</td>\n",
       "      <td>Everyone</td>\n",
       "      <td>Art &amp; Design</td>\n",
       "      <td>2018-01-06</td>\n",
       "      <td>1.1.0</td>\n",
       "      <td>4.1 and up</td>\n",
       "      <td>11.0</td>\n",
       "    </tr>\n",
       "    <tr>\n",
       "      <th>44</th>\n",
       "      <td>Popsicle Sticks and Similar DIY Craft Ideas</td>\n",
       "      <td>ART_AND_DESIGN</td>\n",
       "      <td>4.2</td>\n",
       "      <td>26.0</td>\n",
       "      <td>12M</td>\n",
       "      <td>10000.0</td>\n",
       "      <td>Free</td>\n",
       "      <td>0</td>\n",
       "      <td>Everyone</td>\n",
       "      <td>Art &amp; Design</td>\n",
       "      <td>2018-01-03</td>\n",
       "      <td>1.0.0</td>\n",
       "      <td>4.1 and up</td>\n",
       "      <td>12.0</td>\n",
       "    </tr>\n",
       "    <tr>\n",
       "      <th>446</th>\n",
       "      <td>Video Caller Id</td>\n",
       "      <td>COMMUNICATION</td>\n",
       "      <td>4.2</td>\n",
       "      <td>15287.0</td>\n",
       "      <td>17M</td>\n",
       "      <td>1000000.0</td>\n",
       "      <td>Free</td>\n",
       "      <td>0</td>\n",
       "      <td>Everyone</td>\n",
       "      <td>Communication</td>\n",
       "      <td>2018-01-24</td>\n",
       "      <td>2.2.245</td>\n",
       "      <td>4.0.3 and up</td>\n",
       "      <td>17.0</td>\n",
       "    </tr>\n",
       "    <tr>\n",
       "      <th>719</th>\n",
       "      <td>Monster Truck Driver &amp; Racing</td>\n",
       "      <td>EDUCATION</td>\n",
       "      <td>4.4</td>\n",
       "      <td>748.0</td>\n",
       "      <td>51M</td>\n",
       "      <td>1000000.0</td>\n",
       "      <td>Free</td>\n",
       "      <td>0</td>\n",
       "      <td>Everyone</td>\n",
       "      <td>Education;Action &amp; Adventure</td>\n",
       "      <td>2017-01-19</td>\n",
       "      <td>1.0.9</td>\n",
       "      <td>2.3 and up</td>\n",
       "      <td>51.0</td>\n",
       "    </tr>\n",
       "    <tr>\n",
       "      <th>...</th>\n",
       "      <td>...</td>\n",
       "      <td>...</td>\n",
       "      <td>...</td>\n",
       "      <td>...</td>\n",
       "      <td>...</td>\n",
       "      <td>...</td>\n",
       "      <td>...</td>\n",
       "      <td>...</td>\n",
       "      <td>...</td>\n",
       "      <td>...</td>\n",
       "      <td>...</td>\n",
       "      <td>...</td>\n",
       "      <td>...</td>\n",
       "      <td>...</td>\n",
       "    </tr>\n",
       "    <tr>\n",
       "      <th>10649</th>\n",
       "      <td>How it Works: FN SCAR assault rifle</td>\n",
       "      <td>FAMILY</td>\n",
       "      <td>4.6</td>\n",
       "      <td>44.0</td>\n",
       "      <td>45M</td>\n",
       "      <td>10000.0</td>\n",
       "      <td>Free</td>\n",
       "      <td>0</td>\n",
       "      <td>Everyone</td>\n",
       "      <td>Casual</td>\n",
       "      <td>2018-01-09</td>\n",
       "      <td>2.1.9f7</td>\n",
       "      <td>4.0.3 and up</td>\n",
       "      <td>45.0</td>\n",
       "    </tr>\n",
       "    <tr>\n",
       "      <th>10683</th>\n",
       "      <td>Hunting Safari 3D</td>\n",
       "      <td>SPORTS</td>\n",
       "      <td>4.2</td>\n",
       "      <td>36183.0</td>\n",
       "      <td>20M</td>\n",
       "      <td>5000000.0</td>\n",
       "      <td>Free</td>\n",
       "      <td>0</td>\n",
       "      <td>Teen</td>\n",
       "      <td>Sports</td>\n",
       "      <td>2018-01-20</td>\n",
       "      <td>1.4</td>\n",
       "      <td>2.1 and up</td>\n",
       "      <td>20.0</td>\n",
       "    </tr>\n",
       "    <tr>\n",
       "      <th>10686</th>\n",
       "      <td>Armed Cam Gun Pack</td>\n",
       "      <td>GAME</td>\n",
       "      <td>4.2</td>\n",
       "      <td>1012.0</td>\n",
       "      <td>50M</td>\n",
       "      <td>10000.0</td>\n",
       "      <td>Free</td>\n",
       "      <td>0</td>\n",
       "      <td>Teen</td>\n",
       "      <td>Action</td>\n",
       "      <td>2015-01-18</td>\n",
       "      <td>1.0.2</td>\n",
       "      <td>3.0 and up</td>\n",
       "      <td>50.0</td>\n",
       "    </tr>\n",
       "    <tr>\n",
       "      <th>10767</th>\n",
       "      <td>NFP 2018</td>\n",
       "      <td>EVENTS</td>\n",
       "      <td>4.8</td>\n",
       "      <td>8.0</td>\n",
       "      <td>16M</td>\n",
       "      <td>500.0</td>\n",
       "      <td>Free</td>\n",
       "      <td>0</td>\n",
       "      <td>Everyone</td>\n",
       "      <td>Events</td>\n",
       "      <td>2018-01-09</td>\n",
       "      <td>1.0.3</td>\n",
       "      <td>4.2 and up</td>\n",
       "      <td>16.0</td>\n",
       "    </tr>\n",
       "    <tr>\n",
       "      <th>10801</th>\n",
       "      <td>Fr Ignacio Outreach</td>\n",
       "      <td>FAMILY</td>\n",
       "      <td>4.9</td>\n",
       "      <td>52.0</td>\n",
       "      <td>19M</td>\n",
       "      <td>1000.0</td>\n",
       "      <td>Free</td>\n",
       "      <td>0</td>\n",
       "      <td>Everyone</td>\n",
       "      <td>Education</td>\n",
       "      <td>2018-01-19</td>\n",
       "      <td>1.0</td>\n",
       "      <td>4.4 and up</td>\n",
       "      <td>19.0</td>\n",
       "    </tr>\n",
       "  </tbody>\n",
       "</table>\n",
       "<p>131 rows × 14 columns</p>\n",
       "</div>"
      ],
      "text/plain": [
       "                                                  App        Category  Rating  \\\n",
       "0      Photo Editor & Candy Camera & Grid & ScrapBook  ART_AND_DESIGN     4.1   \n",
       "33                                 Easy Origami Ideas  ART_AND_DESIGN     4.2   \n",
       "44        Popsicle Sticks and Similar DIY Craft Ideas  ART_AND_DESIGN     4.2   \n",
       "446                                   Video Caller Id   COMMUNICATION     4.2   \n",
       "719                     Monster Truck Driver & Racing       EDUCATION     4.4   \n",
       "...                                               ...             ...     ...   \n",
       "10649             How it Works: FN SCAR assault rifle          FAMILY     4.6   \n",
       "10683                               Hunting Safari 3D          SPORTS     4.2   \n",
       "10686                              Armed Cam Gun Pack            GAME     4.2   \n",
       "10767                                        NFP 2018          EVENTS     4.8   \n",
       "10801                             Fr Ignacio Outreach          FAMILY     4.9   \n",
       "\n",
       "       Reviews Size   Installs  Type Price Content Rating  \\\n",
       "0        159.0  19M    10000.0  Free     0       Everyone   \n",
       "33      1015.0  11M   100000.0  Free     0       Everyone   \n",
       "44        26.0  12M    10000.0  Free     0       Everyone   \n",
       "446    15287.0  17M  1000000.0  Free     0       Everyone   \n",
       "719      748.0  51M  1000000.0  Free     0       Everyone   \n",
       "...        ...  ...        ...   ...   ...            ...   \n",
       "10649     44.0  45M    10000.0  Free     0       Everyone   \n",
       "10683  36183.0  20M  5000000.0  Free     0           Teen   \n",
       "10686   1012.0  50M    10000.0  Free     0           Teen   \n",
       "10767      8.0  16M      500.0  Free     0       Everyone   \n",
       "10801     52.0  19M     1000.0  Free     0       Everyone   \n",
       "\n",
       "                             Genres Last Updated Current Ver   Android Ver  \\\n",
       "0                      Art & Design   2018-01-07       1.0.0  4.0.3 and up   \n",
       "33                     Art & Design   2018-01-06       1.1.0    4.1 and up   \n",
       "44                     Art & Design   2018-01-03       1.0.0    4.1 and up   \n",
       "446                   Communication   2018-01-24     2.2.245  4.0.3 and up   \n",
       "719    Education;Action & Adventure   2017-01-19       1.0.9    2.3 and up   \n",
       "...                             ...          ...         ...           ...   \n",
       "10649                        Casual   2018-01-09     2.1.9f7  4.0.3 and up   \n",
       "10683                        Sports   2018-01-20         1.4    2.1 and up   \n",
       "10686                        Action   2015-01-18       1.0.2    3.0 and up   \n",
       "10767                        Events   2018-01-09       1.0.3    4.2 and up   \n",
       "10801                     Education   2018-01-19         1.0    4.4 and up   \n",
       "\n",
       "       Size_MB  \n",
       "0         19.0  \n",
       "33        11.0  \n",
       "44        12.0  \n",
       "446       17.0  \n",
       "719       51.0  \n",
       "...        ...  \n",
       "10649     45.0  \n",
       "10683     20.0  \n",
       "10686     50.0  \n",
       "10767     16.0  \n",
       "10801     19.0  \n",
       "\n",
       "[131 rows x 14 columns]"
      ]
     },
     "execution_count": 42,
     "metadata": {},
     "output_type": "execute_result"
    }
   ],
   "source": [
    "data"
   ]
  },
  {
   "cell_type": "code",
   "execution_count": 47,
   "id": "3079a879",
   "metadata": {},
   "outputs": [
    {
     "data": {
      "application/vnd.microsoft.datawrangler.viewer.v0+json": {
       "columns": [
        {
         "name": "index",
         "rawType": "int64",
         "type": "integer"
        },
        {
         "name": "App",
         "rawType": "object",
         "type": "string"
        },
        {
         "name": "Category",
         "rawType": "object",
         "type": "string"
        },
        {
         "name": "Rating",
         "rawType": "float64",
         "type": "float"
        },
        {
         "name": "Reviews",
         "rawType": "float64",
         "type": "float"
        },
        {
         "name": "Size",
         "rawType": "object",
         "type": "string"
        },
        {
         "name": "Installs",
         "rawType": "float64",
         "type": "float"
        },
        {
         "name": "Type",
         "rawType": "object",
         "type": "string"
        },
        {
         "name": "Price",
         "rawType": "object",
         "type": "string"
        },
        {
         "name": "Content Rating",
         "rawType": "object",
         "type": "string"
        },
        {
         "name": "Genres",
         "rawType": "object",
         "type": "string"
        },
        {
         "name": "Last Updated",
         "rawType": "datetime64[ns]",
         "type": "datetime"
        },
        {
         "name": "Current Ver",
         "rawType": "object",
         "type": "string"
        },
        {
         "name": "Android Ver",
         "rawType": "object",
         "type": "string"
        },
        {
         "name": "Size_MB",
         "rawType": "float64",
         "type": "float"
        }
       ],
       "ref": "fae6932a-2c70-432a-9ae5-b5c2d95d146c",
       "rows": [
        [
         "719",
         "Monster Truck Driver & Racing",
         "EDUCATION",
         "4.4",
         "748.0",
         "51M",
         "1000000.0",
         "Free",
         "0",
         "Everyone",
         "Education;Action & Adventure",
         "2017-01-19 00:00:00",
         "1.0.9",
         "2.3 and up",
         "51.0"
        ],
        [
         "748",
         "Memorado - Brain Games",
         "EDUCATION",
         "4.4",
         "56897.0",
         "97M",
         "1000000.0",
         "Free",
         "0",
         "Everyone",
         "Education;Brain Games",
         "2017-01-16 00:00:00",
         "1.10.0",
         "4.1 and up",
         "97.0"
        ],
        [
         "917",
         "Nick",
         "ENTERTAINMENT",
         "4.2",
         "123279.0",
         "25M",
         "10000000.0",
         "Free",
         "0",
         "Everyone 10+",
         "Entertainment;Music & Video",
         "2018-01-24 00:00:00",
         "2.0.8",
         "4.4 and up",
         "25.0"
        ],
        [
         "937",
         "Nick",
         "ENTERTAINMENT",
         "4.2",
         "123279.0",
         "25M",
         "10000000.0",
         "Free",
         "0",
         "Everyone 10+",
         "Entertainment;Music & Video",
         "2018-01-24 00:00:00",
         "2.0.8",
         "4.4 and up",
         "25.0"
        ],
        [
         "945",
         "WWE",
         "ENTERTAINMENT",
         "4.5",
         "736864.0",
         "20M",
         "10000000.0",
         "Free",
         "0",
         "Teen",
         "Entertainment",
         "2018-01-19 00:00:00",
         "3.17.2",
         "4.1 and up",
         "20.0"
        ],
        [
         "963",
         "Nick",
         "ENTERTAINMENT",
         "4.2",
         "123279.0",
         "25M",
         "10000000.0",
         "Free",
         "0",
         "Everyone 10+",
         "Entertainment;Music & Video",
         "2018-01-24 00:00:00",
         "2.0.8",
         "4.4 and up",
         "25.0"
        ],
        [
         "986",
         "Nick Jr. - Shows & Games",
         "ENTERTAINMENT",
         "4.2",
         "8968.0",
         "35M",
         "1000000.0",
         "Free",
         "0",
         "Everyone",
         "Entertainment;Music & Video",
         "2018-01-23 00:00:00",
         "1.0.20",
         "4.4 and up",
         "35.0"
        ],
        [
         "992",
         "Nick",
         "ENTERTAINMENT",
         "4.2",
         "123279.0",
         "25M",
         "10000000.0",
         "Free",
         "0",
         "Everyone 10+",
         "Entertainment;Music & Video",
         "2018-01-24 00:00:00",
         "2.0.8",
         "4.4 and up",
         "25.0"
        ],
        [
         "1945",
         "Power Rangers Dino Charge",
         "GAME",
         "4.3",
         "194969.0",
         "30M",
         "10000000.0",
         "Free",
         "0",
         "Everyone 10+",
         "Action",
         "2018-01-29 00:00:00",
         "1.4.0",
         "4.1 and up",
         "30.0"
        ],
        [
         "1951",
         "Once Upon a Tower",
         "GAME",
         "4.7",
         "37139.0",
         "49M",
         "1000000.0",
         "Free",
         "0",
         "Everyone 10+",
         "Action",
         "2018-01-24 00:00:00",
         "8",
         "4.1 and up",
         "49.0"
        ],
        [
         "2041",
         "Bubble Shooter",
         "FAMILY",
         "4.4",
         "59843.0",
         "20M",
         "5000000.0",
         "Free",
         "0",
         "Everyone",
         "Puzzle;Brain Games",
         "2018-01-09 00:00:00",
         "2.3.3122",
         "2.3 and up",
         "20.0"
        ],
        [
         "2104",
         "LEGO® Juniors Create & Cruise",
         "FAMILY",
         "4.1",
         "673203.0",
         "73M",
         "50000000.0",
         "Free",
         "0",
         "Everyone",
         "Educational;Action & Adventure",
         "2018-01-19 00:00:00",
         "6.7.5222",
         "4.1 and up",
         "73.0"
        ],
        [
         "2113",
         "Monster Truck Driver & Racing",
         "FAMILY",
         "4.4",
         "765.0",
         "51M",
         "1000000.0",
         "Free",
         "0",
         "Everyone",
         "Education;Action & Adventure",
         "2017-01-19 00:00:00",
         "1.0.9",
         "2.3 and up",
         "51.0"
        ],
        [
         "2147",
         "Nancy Drew Codes and Clues",
         "FAMILY",
         "4.1",
         "154.0",
         "16M",
         "10000.0",
         "Free",
         "0",
         "Everyone",
         "Educational;Education",
         "2017-01-13 00:00:00",
         "2.0.0",
         "4.1 and up",
         "16.0"
        ],
        [
         "2166",
         "Pino chess",
         "FAMILY",
         "4.8",
         "61.0",
         "25M",
         "1000.0",
         "Free",
         "0",
         "Everyone",
         "Casual;Brain Games",
         "2017-01-26 00:00:00",
         "0.1.0",
         "4.0 and up",
         "25.0"
        ],
        [
         "2226",
         "Nick",
         "FAMILY",
         "4.2",
         "123322.0",
         "25M",
         "10000000.0",
         "Free",
         "0",
         "Everyone 10+",
         "Entertainment;Music & Video",
         "2018-01-24 00:00:00",
         "2.0.8",
         "4.4 and up",
         "25.0"
        ],
        [
         "2705",
         "SnipSnap Coupon App",
         "SHOPPING",
         "4.2",
         "9975.0",
         "18M",
         "1000000.0",
         "Free",
         "0",
         "Everyone",
         "Shopping",
         "2018-01-22 00:00:00",
         "1.4",
         "4.3 and up",
         "18.0"
        ],
        [
         "2723",
         "SnipSnap Coupon App",
         "SHOPPING",
         "4.2",
         "9975.0",
         "18M",
         "1000000.0",
         "Free",
         "0",
         "Everyone",
         "Shopping",
         "2018-01-22 00:00:00",
         "1.4",
         "4.3 and up",
         "18.0"
        ],
        [
         "2804",
         "Groovebook Photo Books & Gifts",
         "PHOTOGRAPHY",
         "4.0",
         "21159.0",
         "36M",
         "500000.0",
         "Free",
         "0",
         "Everyone",
         "Photography",
         "2018-01-31 00:00:00",
         "2.1.9",
         "4.0.3 and up",
         "36.0"
        ],
        [
         "2956",
         "Photo Collage - InstaMag",
         "PHOTOGRAPHY",
         "4.3",
         "542561.0",
         "46M",
         "10000000.0",
         "Free",
         "0",
         "Everyone",
         "Photography",
         "2018-01-02 00:00:00",
         "4.7.0",
         "4.0 and up",
         "46.0"
        ],
        [
         "3399",
         "Ringtones & Wallpapers for Me",
         "PERSONALIZATION",
         "4.2",
         "89342.0",
         "29M",
         "10000000.0",
         "Free",
         "0",
         "Everyone",
         "Personalization",
         "2018-01-30 00:00:00",
         "1.13",
         "4.1 and up",
         "29.0"
        ],
        [
         "3902",
         "LEGO® Juniors Create & Cruise",
         "FAMILY",
         "4.1",
         "672089.0",
         "73M",
         "50000000.0",
         "Free",
         "0",
         "Everyone",
         "Educational;Action & Adventure",
         "2018-01-19 00:00:00",
         "6.7.5222",
         "4.1 and up",
         "73.0"
        ],
        [
         "4054",
         "3D Bowling",
         "SPORTS",
         "4.1",
         "1076243.0",
         "13M",
         "100000000.0",
         "Free",
         "0",
         "Everyone",
         "Sports",
         "2018-01-18 00:00:00",
         "3.1",
         "2.0.1 and up",
         "13.0"
        ],
        [
         "4076",
         "WWE",
         "FAMILY",
         "4.5",
         "736824.0",
         "20M",
         "10000000.0",
         "Free",
         "0",
         "Teen",
         "Entertainment",
         "2018-01-19 00:00:00",
         "3.17.2",
         "4.1 and up",
         "20.0"
        ],
        [
         "4223",
         "I am Nose Doctor -Save my Nose",
         "FAMILY",
         "4.2",
         "3133.0",
         "34M",
         "500000.0",
         "Free",
         "0",
         "Everyone",
         "Casual",
         "2016-01-04 00:00:00",
         "1.1.1",
         "3.1 and up",
         "34.0"
        ],
        [
         "4299",
         "Math Games for Pre-K - Grade 4",
         "FAMILY",
         "4.6",
         "28.0",
         "23M",
         "1000.0",
         "Paid",
         "$1.99",
         "Everyone",
         "Education;Education",
         "2014-01-13 00:00:00",
         "1.02",
         "2.2 and up",
         "23.0"
        ],
        [
         "4316",
         "Anna.K Tarot",
         "FAMILY",
         "4.8",
         "17.0",
         "23M",
         "100.0",
         "Paid",
         "$3.99",
         "Mature 17+",
         "Entertainment",
         "2017-01-16 00:00:00",
         "1.4.4",
         "4.0.3 and up",
         "23.0"
        ],
        [
         "4377",
         "Rope'n'Fly 4",
         "GAME",
         "4.1",
         "234606.0",
         "59M",
         "10000000.0",
         "Free",
         "0",
         "Everyone",
         "Action",
         "2018-01-29 00:00:00",
         "3.1",
         "2.3 and up",
         "59.0"
        ],
        [
         "4387",
         "Rope'n'Fly 3 - Dusk Till Dawn",
         "GAME",
         "4.0",
         "166033.0",
         "23M",
         "10000000.0",
         "Free",
         "0",
         "Everyone 10+",
         "Arcade",
         "2018-01-31 00:00:00",
         "3.6",
         "2.3 and up",
         "23.0"
        ],
        [
         "4390",
         "Drag'n'Boom",
         "GAME",
         "4.8",
         "133180.0",
         "54M",
         "1000000.0",
         "Free",
         "0",
         "Everyone 10+",
         "Arcade",
         "2018-01-12 00:00:00",
         "1.1.1",
         "4.4 and up",
         "54.0"
        ],
        [
         "4419",
         "Oddworld: New 'n' Tasty",
         "GAME",
         "4.6",
         "1475.0",
         "34M",
         "10000.0",
         "Paid",
         "$4.99",
         "Teen",
         "Action",
         "2018-01-02 00:00:00",
         "1.0.4",
         "5.0 and up",
         "34.0"
        ],
        [
         "4691",
         "San Andreas: Gang Crime V",
         "GAME",
         "4.1",
         "2399.0",
         "42M",
         "100000.0",
         "Free",
         "0",
         "Mature 17+",
         "Action",
         "2018-01-28 00:00:00",
         "1.0.1",
         "2.3 and up",
         "42.0"
        ],
        [
         "4783",
         "Robocar X Ray",
         "GAME",
         "4.5",
         "3432.0",
         "99M",
         "1000000.0",
         "Free",
         "0",
         "Mature 17+",
         "Action",
         "2017-01-23 00:00:00",
         "1.0",
         "2.3 and up",
         "99.0"
        ],
        [
         "4833",
         "Z City",
         "FAMILY",
         "4.3",
         "3976.0",
         "98M",
         "100000.0",
         "Free",
         "0",
         "Teen",
         "Strategy",
         "2018-01-29 00:00:00",
         "1.1.6",
         "4.0 and up",
         "98.0"
        ],
        [
         "5004",
         "Mupen64+AE FREE (N64 Emulator)",
         "GAME",
         "4.0",
         "41759.0",
         "12M",
         "1000000.0",
         "Free",
         "0",
         "Everyone",
         "Arcade",
         "2014-01-19 00:00:00",
         "2.4.4",
         "2.0 and up",
         "12.0"
        ],
        [
         "5005",
         "Mupen64Plus AE (N64 Emulator)",
         "GAME",
         "4.2",
         "4569.0",
         "12M",
         "100000.0",
         "Paid",
         "$0.99",
         "Everyone",
         "Arcade",
         "2014-01-19 00:00:00",
         "2.4.4",
         "2.0 and up",
         "12.0"
        ],
        [
         "5008",
         "AE Solitaire",
         "GAME",
         "4.3",
         "1776.0",
         "26M",
         "50000.0",
         "Free",
         "0",
         "Everyone",
         "Card",
         "2018-01-04 00:00:00",
         "2.3.4",
         "4.0.3 and up",
         "26.0"
        ],
        [
         "5021",
         "AE Angry Chef",
         "GAME",
         "4.1",
         "533.0",
         "39M",
         "10000.0",
         "Free",
         "0",
         "Everyone 10+",
         "Action",
         "2014-01-24 00:00:00",
         "1.0",
         "2.1 and up",
         "39.0"
        ],
        [
         "5272",
         "How it works: AK-74N",
         "FAMILY",
         "4.4",
         "1031.0",
         "48M",
         "100000.0",
         "Free",
         "0",
         "Everyone",
         "Entertainment",
         "2018-01-09 00:00:00",
         "2.1.9f0",
         "4.0.3 and up",
         "48.0"
        ],
        [
         "5344",
         "12 Step Meditations & Sober Prayers AA NA AL-ANON",
         "LIFESTYLE",
         "4.7",
         "759.0",
         "15M",
         "50000.0",
         "Free",
         "0",
         "Everyone 10+",
         "Lifestyle",
         "2018-01-22 00:00:00",
         "1.4.5",
         "4.1 and up",
         "15.0"
        ],
        [
         "5444",
         "Weaphones™ Gun Sim Free Vol 1",
         "FAMILY",
         "4.3",
         "598975.0",
         "39M",
         "10000000.0",
         "Free",
         "0",
         "Everyone",
         "Simulation",
         "2018-01-17 00:00:00",
         "2.4.0",
         "4.0 and up",
         "39.0"
        ],
        [
         "5489",
         "AP Art History Flashcards",
         "FAMILY",
         "5.0",
         "1.0",
         "96M",
         "10.0",
         "Paid",
         "$29.99",
         "Mature 17+",
         "Education",
         "2016-01-19 00:00:00",
         "3.30",
         "4.0 and up",
         "96.0"
        ],
        [
         "5501",
         "Adventure Quest World Mobile Quiz",
         "FAMILY",
         "4.6",
         "28.0",
         "26M",
         "500.0",
         "Free",
         "0",
         "Everyone",
         "Puzzle",
         "2018-01-16 00:00:00",
         "3.1.6z",
         "4.0.3 and up",
         "26.0"
        ],
        [
         "5639",
         "Five Nights at Neighbor House",
         "GAME",
         "4.2",
         "2180.0",
         "55M",
         "100000.0",
         "Free",
         "0",
         "Everyone 10+",
         "Action",
         "2018-01-26 00:00:00",
         "1.1.0",
         "4.2 and up",
         "55.0"
        ],
        [
         "5820",
         "Ax 3 Domaines",
         "SPORTS",
         "4.5",
         "12.0",
         "23M",
         "1000.0",
         "Free",
         "0",
         "Everyone",
         "Sports",
         "2018-01-26 00:00:00",
         "5.0.3",
         "4.2 and up",
         "23.0"
        ],
        [
         "5931",
         "Sufara.ba",
         "FAMILY",
         "4.9",
         "285.0",
         "25M",
         "10000.0",
         "Free",
         "0",
         "Everyone",
         "Education",
         "2018-01-05 00:00:00",
         "1.0.5",
         "4.4 and up",
         "25.0"
        ],
        [
         "5993",
         "AP Calculus BC Practice Test",
         "FAMILY",
         "4.2",
         "4.0",
         "29M",
         "500.0",
         "Free",
         "0",
         "Everyone",
         "Education",
         "2018-01-25 00:00:00",
         "6.0.2",
         "4.4 and up",
         "29.0"
        ],
        [
         "6083",
         "OK K.O.! Lakewood Plaza Turbo",
         "FAMILY",
         "4.5",
         "76608.0",
         "24M",
         "1000000.0",
         "Free",
         "0",
         "Everyone 10+",
         "Action;Action & Adventure",
         "2017-01-05 00:00:00",
         "1.3.1",
         "4.0 and up",
         "24.0"
        ],
        [
         "6086",
         "Nick",
         "FAMILY",
         "4.2",
         "123309.0",
         "25M",
         "10000000.0",
         "Free",
         "0",
         "Everyone 10+",
         "Entertainment;Music & Video",
         "2018-01-24 00:00:00",
         "2.0.8",
         "4.4 and up",
         "25.0"
        ],
        [
         "6355",
         "BURGER KING® App",
         "LIFESTYLE",
         "4.0",
         "41747.0",
         "39M",
         "5000000.0",
         "Free",
         "0",
         "Everyone",
         "Lifestyle",
         "2017-01-12 00:00:00",
         "3.7.1",
         "4.1 and up",
         "39.0"
        ]
       ],
       "shape": {
        "columns": 14,
        "rows": 104
       }
      },
      "text/html": [
       "<div>\n",
       "<style scoped>\n",
       "    .dataframe tbody tr th:only-of-type {\n",
       "        vertical-align: middle;\n",
       "    }\n",
       "\n",
       "    .dataframe tbody tr th {\n",
       "        vertical-align: top;\n",
       "    }\n",
       "\n",
       "    .dataframe thead th {\n",
       "        text-align: right;\n",
       "    }\n",
       "</style>\n",
       "<table border=\"1\" class=\"dataframe\">\n",
       "  <thead>\n",
       "    <tr style=\"text-align: right;\">\n",
       "      <th></th>\n",
       "      <th>App</th>\n",
       "      <th>Category</th>\n",
       "      <th>Rating</th>\n",
       "      <th>Reviews</th>\n",
       "      <th>Size</th>\n",
       "      <th>Installs</th>\n",
       "      <th>Type</th>\n",
       "      <th>Price</th>\n",
       "      <th>Content Rating</th>\n",
       "      <th>Genres</th>\n",
       "      <th>Last Updated</th>\n",
       "      <th>Current Ver</th>\n",
       "      <th>Android Ver</th>\n",
       "      <th>Size_MB</th>\n",
       "    </tr>\n",
       "  </thead>\n",
       "  <tbody>\n",
       "    <tr>\n",
       "      <th>719</th>\n",
       "      <td>Monster Truck Driver &amp; Racing</td>\n",
       "      <td>EDUCATION</td>\n",
       "      <td>4.4</td>\n",
       "      <td>748.0</td>\n",
       "      <td>51M</td>\n",
       "      <td>1000000.0</td>\n",
       "      <td>Free</td>\n",
       "      <td>0</td>\n",
       "      <td>Everyone</td>\n",
       "      <td>Education;Action &amp; Adventure</td>\n",
       "      <td>2017-01-19</td>\n",
       "      <td>1.0.9</td>\n",
       "      <td>2.3 and up</td>\n",
       "      <td>51.0</td>\n",
       "    </tr>\n",
       "    <tr>\n",
       "      <th>748</th>\n",
       "      <td>Memorado - Brain Games</td>\n",
       "      <td>EDUCATION</td>\n",
       "      <td>4.4</td>\n",
       "      <td>56897.0</td>\n",
       "      <td>97M</td>\n",
       "      <td>1000000.0</td>\n",
       "      <td>Free</td>\n",
       "      <td>0</td>\n",
       "      <td>Everyone</td>\n",
       "      <td>Education;Brain Games</td>\n",
       "      <td>2017-01-16</td>\n",
       "      <td>1.10.0</td>\n",
       "      <td>4.1 and up</td>\n",
       "      <td>97.0</td>\n",
       "    </tr>\n",
       "    <tr>\n",
       "      <th>917</th>\n",
       "      <td>Nick</td>\n",
       "      <td>ENTERTAINMENT</td>\n",
       "      <td>4.2</td>\n",
       "      <td>123279.0</td>\n",
       "      <td>25M</td>\n",
       "      <td>10000000.0</td>\n",
       "      <td>Free</td>\n",
       "      <td>0</td>\n",
       "      <td>Everyone 10+</td>\n",
       "      <td>Entertainment;Music &amp; Video</td>\n",
       "      <td>2018-01-24</td>\n",
       "      <td>2.0.8</td>\n",
       "      <td>4.4 and up</td>\n",
       "      <td>25.0</td>\n",
       "    </tr>\n",
       "    <tr>\n",
       "      <th>937</th>\n",
       "      <td>Nick</td>\n",
       "      <td>ENTERTAINMENT</td>\n",
       "      <td>4.2</td>\n",
       "      <td>123279.0</td>\n",
       "      <td>25M</td>\n",
       "      <td>10000000.0</td>\n",
       "      <td>Free</td>\n",
       "      <td>0</td>\n",
       "      <td>Everyone 10+</td>\n",
       "      <td>Entertainment;Music &amp; Video</td>\n",
       "      <td>2018-01-24</td>\n",
       "      <td>2.0.8</td>\n",
       "      <td>4.4 and up</td>\n",
       "      <td>25.0</td>\n",
       "    </tr>\n",
       "    <tr>\n",
       "      <th>945</th>\n",
       "      <td>WWE</td>\n",
       "      <td>ENTERTAINMENT</td>\n",
       "      <td>4.5</td>\n",
       "      <td>736864.0</td>\n",
       "      <td>20M</td>\n",
       "      <td>10000000.0</td>\n",
       "      <td>Free</td>\n",
       "      <td>0</td>\n",
       "      <td>Teen</td>\n",
       "      <td>Entertainment</td>\n",
       "      <td>2018-01-19</td>\n",
       "      <td>3.17.2</td>\n",
       "      <td>4.1 and up</td>\n",
       "      <td>20.0</td>\n",
       "    </tr>\n",
       "    <tr>\n",
       "      <th>...</th>\n",
       "      <td>...</td>\n",
       "      <td>...</td>\n",
       "      <td>...</td>\n",
       "      <td>...</td>\n",
       "      <td>...</td>\n",
       "      <td>...</td>\n",
       "      <td>...</td>\n",
       "      <td>...</td>\n",
       "      <td>...</td>\n",
       "      <td>...</td>\n",
       "      <td>...</td>\n",
       "      <td>...</td>\n",
       "      <td>...</td>\n",
       "      <td>...</td>\n",
       "    </tr>\n",
       "    <tr>\n",
       "      <th>10552</th>\n",
       "      <td>FK Crvena zvezda</td>\n",
       "      <td>SPORTS</td>\n",
       "      <td>4.9</td>\n",
       "      <td>1211.0</td>\n",
       "      <td>15M</td>\n",
       "      <td>10000.0</td>\n",
       "      <td>Free</td>\n",
       "      <td>0</td>\n",
       "      <td>Everyone</td>\n",
       "      <td>Sports</td>\n",
       "      <td>2018-01-22</td>\n",
       "      <td>1.0.1</td>\n",
       "      <td>4.4 and up</td>\n",
       "      <td>15.0</td>\n",
       "    </tr>\n",
       "    <tr>\n",
       "      <th>10649</th>\n",
       "      <td>How it Works: FN SCAR assault rifle</td>\n",
       "      <td>FAMILY</td>\n",
       "      <td>4.6</td>\n",
       "      <td>44.0</td>\n",
       "      <td>45M</td>\n",
       "      <td>10000.0</td>\n",
       "      <td>Free</td>\n",
       "      <td>0</td>\n",
       "      <td>Everyone</td>\n",
       "      <td>Casual</td>\n",
       "      <td>2018-01-09</td>\n",
       "      <td>2.1.9f7</td>\n",
       "      <td>4.0.3 and up</td>\n",
       "      <td>45.0</td>\n",
       "    </tr>\n",
       "    <tr>\n",
       "      <th>10683</th>\n",
       "      <td>Hunting Safari 3D</td>\n",
       "      <td>SPORTS</td>\n",
       "      <td>4.2</td>\n",
       "      <td>36183.0</td>\n",
       "      <td>20M</td>\n",
       "      <td>5000000.0</td>\n",
       "      <td>Free</td>\n",
       "      <td>0</td>\n",
       "      <td>Teen</td>\n",
       "      <td>Sports</td>\n",
       "      <td>2018-01-20</td>\n",
       "      <td>1.4</td>\n",
       "      <td>2.1 and up</td>\n",
       "      <td>20.0</td>\n",
       "    </tr>\n",
       "    <tr>\n",
       "      <th>10686</th>\n",
       "      <td>Armed Cam Gun Pack</td>\n",
       "      <td>GAME</td>\n",
       "      <td>4.2</td>\n",
       "      <td>1012.0</td>\n",
       "      <td>50M</td>\n",
       "      <td>10000.0</td>\n",
       "      <td>Free</td>\n",
       "      <td>0</td>\n",
       "      <td>Teen</td>\n",
       "      <td>Action</td>\n",
       "      <td>2015-01-18</td>\n",
       "      <td>1.0.2</td>\n",
       "      <td>3.0 and up</td>\n",
       "      <td>50.0</td>\n",
       "    </tr>\n",
       "    <tr>\n",
       "      <th>10801</th>\n",
       "      <td>Fr Ignacio Outreach</td>\n",
       "      <td>FAMILY</td>\n",
       "      <td>4.9</td>\n",
       "      <td>52.0</td>\n",
       "      <td>19M</td>\n",
       "      <td>1000.0</td>\n",
       "      <td>Free</td>\n",
       "      <td>0</td>\n",
       "      <td>Everyone</td>\n",
       "      <td>Education</td>\n",
       "      <td>2018-01-19</td>\n",
       "      <td>1.0</td>\n",
       "      <td>4.4 and up</td>\n",
       "      <td>19.0</td>\n",
       "    </tr>\n",
       "  </tbody>\n",
       "</table>\n",
       "<p>104 rows × 14 columns</p>\n",
       "</div>"
      ],
      "text/plain": [
       "                                       App       Category  Rating   Reviews  \\\n",
       "719          Monster Truck Driver & Racing      EDUCATION     4.4     748.0   \n",
       "748                 Memorado - Brain Games      EDUCATION     4.4   56897.0   \n",
       "917                                   Nick  ENTERTAINMENT     4.2  123279.0   \n",
       "937                                   Nick  ENTERTAINMENT     4.2  123279.0   \n",
       "945                                    WWE  ENTERTAINMENT     4.5  736864.0   \n",
       "...                                    ...            ...     ...       ...   \n",
       "10552                     FK Crvena zvezda         SPORTS     4.9    1211.0   \n",
       "10649  How it Works: FN SCAR assault rifle         FAMILY     4.6      44.0   \n",
       "10683                    Hunting Safari 3D         SPORTS     4.2   36183.0   \n",
       "10686                   Armed Cam Gun Pack           GAME     4.2    1012.0   \n",
       "10801                  Fr Ignacio Outreach         FAMILY     4.9      52.0   \n",
       "\n",
       "      Size    Installs  Type Price Content Rating  \\\n",
       "719    51M   1000000.0  Free     0       Everyone   \n",
       "748    97M   1000000.0  Free     0       Everyone   \n",
       "917    25M  10000000.0  Free     0   Everyone 10+   \n",
       "937    25M  10000000.0  Free     0   Everyone 10+   \n",
       "945    20M  10000000.0  Free     0           Teen   \n",
       "...    ...         ...   ...   ...            ...   \n",
       "10552  15M     10000.0  Free     0       Everyone   \n",
       "10649  45M     10000.0  Free     0       Everyone   \n",
       "10683  20M   5000000.0  Free     0           Teen   \n",
       "10686  50M     10000.0  Free     0           Teen   \n",
       "10801  19M      1000.0  Free     0       Everyone   \n",
       "\n",
       "                             Genres Last Updated Current Ver   Android Ver  \\\n",
       "719    Education;Action & Adventure   2017-01-19       1.0.9    2.3 and up   \n",
       "748           Education;Brain Games   2017-01-16      1.10.0    4.1 and up   \n",
       "917     Entertainment;Music & Video   2018-01-24       2.0.8    4.4 and up   \n",
       "937     Entertainment;Music & Video   2018-01-24       2.0.8    4.4 and up   \n",
       "945                   Entertainment   2018-01-19      3.17.2    4.1 and up   \n",
       "...                             ...          ...         ...           ...   \n",
       "10552                        Sports   2018-01-22       1.0.1    4.4 and up   \n",
       "10649                        Casual   2018-01-09     2.1.9f7  4.0.3 and up   \n",
       "10683                        Sports   2018-01-20         1.4    2.1 and up   \n",
       "10686                        Action   2015-01-18       1.0.2    3.0 and up   \n",
       "10801                     Education   2018-01-19         1.0    4.4 and up   \n",
       "\n",
       "       Size_MB  \n",
       "719       51.0  \n",
       "748       97.0  \n",
       "917       25.0  \n",
       "937       25.0  \n",
       "945       20.0  \n",
       "...        ...  \n",
       "10552     15.0  \n",
       "10649     45.0  \n",
       "10683     20.0  \n",
       "10686     50.0  \n",
       "10801     19.0  \n",
       "\n",
       "[104 rows x 14 columns]"
      ]
     },
     "execution_count": 47,
     "metadata": {},
     "output_type": "execute_result"
    }
   ],
   "source": [
    "top_categories = (\n",
    "    data.groupby('Category')['Installs'].sum() # Group by Category and sum Installs\n",
    "    .nlargest(10)\n",
    "    .index\n",
    ")\n",
    "\n",
    "data_top = data[data['Category'].isin(top_categories)] # Filter data for top categories\n",
    "data_top"
   ]
  },
  {
   "cell_type": "code",
   "execution_count": null,
   "id": "01c0bf59",
   "metadata": {},
   "outputs": [],
   "source": [
    "grouped = data_top.groupby('Category').agg({\n",
    "    'Rating': 'mean',\n",
    "    'Reviews': 'sum'\n",
    "}).reset_index()\n",
    "\n",
    "grouped.columns = ['Category', 'Average Rating', 'Total Reviews'] # Rename columns for clarity"
   ]
  },
  {
   "cell_type": "code",
   "execution_count": 62,
   "id": "3218254a",
   "metadata": {},
   "outputs": [
    {
     "data": {
      "application/vnd.plotly.v1+json": {
       "config": {
        "plotlyServerURL": "https://plot.ly"
       },
       "data": [
        {
         "alignmentgroup": "True",
         "hovertemplate": "Metric=Average Rating<br>Category=%{x}<br>Value=%{text}<extra></extra>",
         "legendgroup": "Average Rating",
         "marker": {
          "color": "#636efa",
          "pattern": {
           "shape": ""
          }
         },
         "name": "Average Rating",
         "offsetgroup": "Average Rating",
         "orientation": "v",
         "showlegend": true,
         "text": {
          "bdata": "mpmZmZmZEUAAAAAAAAARQJUgTwnylBFAQacNdNpAEUCF61G4HoURQGZmZmZm5hFAmpmZmZmZEEDNzMzMzMwQQPEVX/EVXxFAzczMzMzMEEA=",
          "dtype": "f8"
         },
         "textposition": "auto",
         "type": "bar",
         "x": [
          "EDUCATION",
          "ENTERTAINMENT",
          "FAMILY",
          "GAME",
          "LIFESTYLE",
          "PERSONALIZATION",
          "PHOTOGRAPHY",
          "SHOPPING",
          "SPORTS",
          "TOOLS"
         ],
         "xaxis": "x",
         "y": {
          "bdata": "mpmZmZmZEUAAAAAAAAARQJUgTwnylBFAQacNdNpAEUCF61G4HoURQGZmZmZm5hFAmpmZmZmZEEDNzMzMzMwQQPEVX/EVXxFAzczMzMzMEEA=",
          "dtype": "f8"
         },
         "yaxis": "y"
        },
        {
         "alignmentgroup": "True",
         "hovertemplate": "Metric=Total Reviews<br>Category=%{x}<br>Value=%{text}<extra></extra>",
         "legendgroup": "Total Reviews",
         "marker": {
          "color": "#EF553B",
          "pattern": {
           "shape": ""
          }
         },
         "name": "Total Reviews",
         "offsetgroup": "Total Reviews",
         "orientation": "v",
         "showlegend": true,
         "text": {
          "bdata": "AAAAAKAl7EAAAAAApOcyQQAAAMAbVlFBAAAAgMpKQkEAAAAAIOfkQAAAAADgCgNBAAAAABA0IUEAAAAAgHvTQAAAAABBPj5BAAAAAABKv0A=",
          "dtype": "f8"
         },
         "textposition": "auto",
         "type": "bar",
         "x": [
          "EDUCATION",
          "ENTERTAINMENT",
          "FAMILY",
          "GAME",
          "LIFESTYLE",
          "PERSONALIZATION",
          "PHOTOGRAPHY",
          "SHOPPING",
          "SPORTS",
          "TOOLS"
         ],
         "xaxis": "x",
         "y": {
          "bdata": "AAAAAKAl7EAAAAAApOcyQQAAAMAbVlFBAAAAgMpKQkEAAAAAIOfkQAAAAADgCgNBAAAAABA0IUEAAAAAgHvTQAAAAABBPj5BAAAAAABKv0A=",
          "dtype": "f8"
         },
         "yaxis": "y"
        }
       ],
       "layout": {
        "barmode": "group",
        "height": 500,
        "legend": {
         "title": {
          "text": "Metric"
         },
         "tracegroupgap": 0
        },
        "template": {
         "data": {
          "bar": [
           {
            "error_x": {
             "color": "#2a3f5f"
            },
            "error_y": {
             "color": "#2a3f5f"
            },
            "marker": {
             "line": {
              "color": "#E5ECF6",
              "width": 0.5
             },
             "pattern": {
              "fillmode": "overlay",
              "size": 10,
              "solidity": 0.2
             }
            },
            "type": "bar"
           }
          ],
          "barpolar": [
           {
            "marker": {
             "line": {
              "color": "#E5ECF6",
              "width": 0.5
             },
             "pattern": {
              "fillmode": "overlay",
              "size": 10,
              "solidity": 0.2
             }
            },
            "type": "barpolar"
           }
          ],
          "carpet": [
           {
            "aaxis": {
             "endlinecolor": "#2a3f5f",
             "gridcolor": "white",
             "linecolor": "white",
             "minorgridcolor": "white",
             "startlinecolor": "#2a3f5f"
            },
            "baxis": {
             "endlinecolor": "#2a3f5f",
             "gridcolor": "white",
             "linecolor": "white",
             "minorgridcolor": "white",
             "startlinecolor": "#2a3f5f"
            },
            "type": "carpet"
           }
          ],
          "choropleth": [
           {
            "colorbar": {
             "outlinewidth": 0,
             "ticks": ""
            },
            "type": "choropleth"
           }
          ],
          "contour": [
           {
            "colorbar": {
             "outlinewidth": 0,
             "ticks": ""
            },
            "colorscale": [
             [
              0,
              "#0d0887"
             ],
             [
              0.1111111111111111,
              "#46039f"
             ],
             [
              0.2222222222222222,
              "#7201a8"
             ],
             [
              0.3333333333333333,
              "#9c179e"
             ],
             [
              0.4444444444444444,
              "#bd3786"
             ],
             [
              0.5555555555555556,
              "#d8576b"
             ],
             [
              0.6666666666666666,
              "#ed7953"
             ],
             [
              0.7777777777777778,
              "#fb9f3a"
             ],
             [
              0.8888888888888888,
              "#fdca26"
             ],
             [
              1,
              "#f0f921"
             ]
            ],
            "type": "contour"
           }
          ],
          "contourcarpet": [
           {
            "colorbar": {
             "outlinewidth": 0,
             "ticks": ""
            },
            "type": "contourcarpet"
           }
          ],
          "heatmap": [
           {
            "colorbar": {
             "outlinewidth": 0,
             "ticks": ""
            },
            "colorscale": [
             [
              0,
              "#0d0887"
             ],
             [
              0.1111111111111111,
              "#46039f"
             ],
             [
              0.2222222222222222,
              "#7201a8"
             ],
             [
              0.3333333333333333,
              "#9c179e"
             ],
             [
              0.4444444444444444,
              "#bd3786"
             ],
             [
              0.5555555555555556,
              "#d8576b"
             ],
             [
              0.6666666666666666,
              "#ed7953"
             ],
             [
              0.7777777777777778,
              "#fb9f3a"
             ],
             [
              0.8888888888888888,
              "#fdca26"
             ],
             [
              1,
              "#f0f921"
             ]
            ],
            "type": "heatmap"
           }
          ],
          "histogram": [
           {
            "marker": {
             "pattern": {
              "fillmode": "overlay",
              "size": 10,
              "solidity": 0.2
             }
            },
            "type": "histogram"
           }
          ],
          "histogram2d": [
           {
            "colorbar": {
             "outlinewidth": 0,
             "ticks": ""
            },
            "colorscale": [
             [
              0,
              "#0d0887"
             ],
             [
              0.1111111111111111,
              "#46039f"
             ],
             [
              0.2222222222222222,
              "#7201a8"
             ],
             [
              0.3333333333333333,
              "#9c179e"
             ],
             [
              0.4444444444444444,
              "#bd3786"
             ],
             [
              0.5555555555555556,
              "#d8576b"
             ],
             [
              0.6666666666666666,
              "#ed7953"
             ],
             [
              0.7777777777777778,
              "#fb9f3a"
             ],
             [
              0.8888888888888888,
              "#fdca26"
             ],
             [
              1,
              "#f0f921"
             ]
            ],
            "type": "histogram2d"
           }
          ],
          "histogram2dcontour": [
           {
            "colorbar": {
             "outlinewidth": 0,
             "ticks": ""
            },
            "colorscale": [
             [
              0,
              "#0d0887"
             ],
             [
              0.1111111111111111,
              "#46039f"
             ],
             [
              0.2222222222222222,
              "#7201a8"
             ],
             [
              0.3333333333333333,
              "#9c179e"
             ],
             [
              0.4444444444444444,
              "#bd3786"
             ],
             [
              0.5555555555555556,
              "#d8576b"
             ],
             [
              0.6666666666666666,
              "#ed7953"
             ],
             [
              0.7777777777777778,
              "#fb9f3a"
             ],
             [
              0.8888888888888888,
              "#fdca26"
             ],
             [
              1,
              "#f0f921"
             ]
            ],
            "type": "histogram2dcontour"
           }
          ],
          "mesh3d": [
           {
            "colorbar": {
             "outlinewidth": 0,
             "ticks": ""
            },
            "type": "mesh3d"
           }
          ],
          "parcoords": [
           {
            "line": {
             "colorbar": {
              "outlinewidth": 0,
              "ticks": ""
             }
            },
            "type": "parcoords"
           }
          ],
          "pie": [
           {
            "automargin": true,
            "type": "pie"
           }
          ],
          "scatter": [
           {
            "fillpattern": {
             "fillmode": "overlay",
             "size": 10,
             "solidity": 0.2
            },
            "type": "scatter"
           }
          ],
          "scatter3d": [
           {
            "line": {
             "colorbar": {
              "outlinewidth": 0,
              "ticks": ""
             }
            },
            "marker": {
             "colorbar": {
              "outlinewidth": 0,
              "ticks": ""
             }
            },
            "type": "scatter3d"
           }
          ],
          "scattercarpet": [
           {
            "marker": {
             "colorbar": {
              "outlinewidth": 0,
              "ticks": ""
             }
            },
            "type": "scattercarpet"
           }
          ],
          "scattergeo": [
           {
            "marker": {
             "colorbar": {
              "outlinewidth": 0,
              "ticks": ""
             }
            },
            "type": "scattergeo"
           }
          ],
          "scattergl": [
           {
            "marker": {
             "colorbar": {
              "outlinewidth": 0,
              "ticks": ""
             }
            },
            "type": "scattergl"
           }
          ],
          "scattermap": [
           {
            "marker": {
             "colorbar": {
              "outlinewidth": 0,
              "ticks": ""
             }
            },
            "type": "scattermap"
           }
          ],
          "scattermapbox": [
           {
            "marker": {
             "colorbar": {
              "outlinewidth": 0,
              "ticks": ""
             }
            },
            "type": "scattermapbox"
           }
          ],
          "scatterpolar": [
           {
            "marker": {
             "colorbar": {
              "outlinewidth": 0,
              "ticks": ""
             }
            },
            "type": "scatterpolar"
           }
          ],
          "scatterpolargl": [
           {
            "marker": {
             "colorbar": {
              "outlinewidth": 0,
              "ticks": ""
             }
            },
            "type": "scatterpolargl"
           }
          ],
          "scatterternary": [
           {
            "marker": {
             "colorbar": {
              "outlinewidth": 0,
              "ticks": ""
             }
            },
            "type": "scatterternary"
           }
          ],
          "surface": [
           {
            "colorbar": {
             "outlinewidth": 0,
             "ticks": ""
            },
            "colorscale": [
             [
              0,
              "#0d0887"
             ],
             [
              0.1111111111111111,
              "#46039f"
             ],
             [
              0.2222222222222222,
              "#7201a8"
             ],
             [
              0.3333333333333333,
              "#9c179e"
             ],
             [
              0.4444444444444444,
              "#bd3786"
             ],
             [
              0.5555555555555556,
              "#d8576b"
             ],
             [
              0.6666666666666666,
              "#ed7953"
             ],
             [
              0.7777777777777778,
              "#fb9f3a"
             ],
             [
              0.8888888888888888,
              "#fdca26"
             ],
             [
              1,
              "#f0f921"
             ]
            ],
            "type": "surface"
           }
          ],
          "table": [
           {
            "cells": {
             "fill": {
              "color": "#EBF0F8"
             },
             "line": {
              "color": "white"
             }
            },
            "header": {
             "fill": {
              "color": "#C8D4E3"
             },
             "line": {
              "color": "white"
             }
            },
            "type": "table"
           }
          ]
         },
         "layout": {
          "annotationdefaults": {
           "arrowcolor": "#2a3f5f",
           "arrowhead": 0,
           "arrowwidth": 1
          },
          "autotypenumbers": "strict",
          "coloraxis": {
           "colorbar": {
            "outlinewidth": 0,
            "ticks": ""
           }
          },
          "colorscale": {
           "diverging": [
            [
             0,
             "#8e0152"
            ],
            [
             0.1,
             "#c51b7d"
            ],
            [
             0.2,
             "#de77ae"
            ],
            [
             0.3,
             "#f1b6da"
            ],
            [
             0.4,
             "#fde0ef"
            ],
            [
             0.5,
             "#f7f7f7"
            ],
            [
             0.6,
             "#e6f5d0"
            ],
            [
             0.7,
             "#b8e186"
            ],
            [
             0.8,
             "#7fbc41"
            ],
            [
             0.9,
             "#4d9221"
            ],
            [
             1,
             "#276419"
            ]
           ],
           "sequential": [
            [
             0,
             "#0d0887"
            ],
            [
             0.1111111111111111,
             "#46039f"
            ],
            [
             0.2222222222222222,
             "#7201a8"
            ],
            [
             0.3333333333333333,
             "#9c179e"
            ],
            [
             0.4444444444444444,
             "#bd3786"
            ],
            [
             0.5555555555555556,
             "#d8576b"
            ],
            [
             0.6666666666666666,
             "#ed7953"
            ],
            [
             0.7777777777777778,
             "#fb9f3a"
            ],
            [
             0.8888888888888888,
             "#fdca26"
            ],
            [
             1,
             "#f0f921"
            ]
           ],
           "sequentialminus": [
            [
             0,
             "#0d0887"
            ],
            [
             0.1111111111111111,
             "#46039f"
            ],
            [
             0.2222222222222222,
             "#7201a8"
            ],
            [
             0.3333333333333333,
             "#9c179e"
            ],
            [
             0.4444444444444444,
             "#bd3786"
            ],
            [
             0.5555555555555556,
             "#d8576b"
            ],
            [
             0.6666666666666666,
             "#ed7953"
            ],
            [
             0.7777777777777778,
             "#fb9f3a"
            ],
            [
             0.8888888888888888,
             "#fdca26"
            ],
            [
             1,
             "#f0f921"
            ]
           ]
          },
          "colorway": [
           "#636efa",
           "#EF553B",
           "#00cc96",
           "#ab63fa",
           "#FFA15A",
           "#19d3f3",
           "#FF6692",
           "#B6E880",
           "#FF97FF",
           "#FECB52"
          ],
          "font": {
           "color": "#2a3f5f"
          },
          "geo": {
           "bgcolor": "white",
           "lakecolor": "white",
           "landcolor": "#E5ECF6",
           "showlakes": true,
           "showland": true,
           "subunitcolor": "white"
          },
          "hoverlabel": {
           "align": "left"
          },
          "hovermode": "closest",
          "mapbox": {
           "style": "light"
          },
          "paper_bgcolor": "white",
          "plot_bgcolor": "#E5ECF6",
          "polar": {
           "angularaxis": {
            "gridcolor": "white",
            "linecolor": "white",
            "ticks": ""
           },
           "bgcolor": "#E5ECF6",
           "radialaxis": {
            "gridcolor": "white",
            "linecolor": "white",
            "ticks": ""
           }
          },
          "scene": {
           "xaxis": {
            "backgroundcolor": "#E5ECF6",
            "gridcolor": "white",
            "gridwidth": 2,
            "linecolor": "white",
            "showbackground": true,
            "ticks": "",
            "zerolinecolor": "white"
           },
           "yaxis": {
            "backgroundcolor": "#E5ECF6",
            "gridcolor": "white",
            "gridwidth": 2,
            "linecolor": "white",
            "showbackground": true,
            "ticks": "",
            "zerolinecolor": "white"
           },
           "zaxis": {
            "backgroundcolor": "#E5ECF6",
            "gridcolor": "white",
            "gridwidth": 2,
            "linecolor": "white",
            "showbackground": true,
            "ticks": "",
            "zerolinecolor": "white"
           }
          },
          "shapedefaults": {
           "line": {
            "color": "#2a3f5f"
           }
          },
          "ternary": {
           "aaxis": {
            "gridcolor": "white",
            "linecolor": "white",
            "ticks": ""
           },
           "baxis": {
            "gridcolor": "white",
            "linecolor": "white",
            "ticks": ""
           },
           "bgcolor": "#E5ECF6",
           "caxis": {
            "gridcolor": "white",
            "linecolor": "white",
            "ticks": ""
           }
          },
          "title": {
           "x": 0.05
          },
          "xaxis": {
           "automargin": true,
           "gridcolor": "white",
           "linecolor": "white",
           "ticks": "",
           "title": {
            "standoff": 15
           },
           "zerolinecolor": "white",
           "zerolinewidth": 2
          },
          "yaxis": {
           "automargin": true,
           "gridcolor": "white",
           "linecolor": "white",
           "ticks": "",
           "title": {
            "standoff": 15
           },
           "zerolinecolor": "white",
           "zerolinewidth": 2
          }
         }
        },
        "title": {
         "text": "Average Rating vs Total Reviews for Top 10 Categories"
        },
        "width": 1000,
        "xaxis": {
         "anchor": "y",
         "domain": [
          0,
          1
         ],
         "title": {
          "text": "Category"
         }
        },
        "yaxis": {
         "anchor": "x",
         "domain": [
          0,
          1
         ],
         "title": {
          "text": "Value"
         }
        }
       }
      }
     },
     "metadata": {},
     "output_type": "display_data"
    }
   ],
   "source": [
    "from datetime import datetime\n",
    "import pytz\n",
    "\n",
    "# Get current time in IST\n",
    "now = datetime.now(pytz.timezone('Asia/Kolkata'))\n",
    "\n",
    "# Check if it's between 3 PM and 5 PM\n",
    "if 15 <= now.hour < 17:\n",
    "    melted = grouped.melt(id_vars='Category', var_name='Metric', value_name='Value')\n",
    "\n",
    "    fig = px.bar(\n",
    "        melted,\n",
    "        x='Category',\n",
    "        y='Value',\n",
    "        color='Metric',\n",
    "        barmode='group',\n",
    "        title='Average Rating vs Total Reviews for Top 10 Categories',\n",
    "        text='Value'\n",
    "    )\n",
    "\n",
    "    fig.update_layout(width=1000, height=500)\n",
    "    fig.show()\n",
    "else:\n",
    "    print(\"⏱️ This chart is only available between 3 PM and 5 PM IST.\")\n"
   ]
  },
  {
   "cell_type": "code",
   "execution_count": 60,
   "id": "cac1ad0e",
   "metadata": {},
   "outputs": [
    {
     "data": {
      "application/vnd.plotly.v1+json": {
       "config": {
        "plotlyServerURL": "https://plot.ly"
       },
       "data": [
        {
         "coloraxis": "coloraxis",
         "histfunc": "sum",
         "hovertemplate": "Category=%{x}<br>Metric=%{y}<br>sum of Value=%{z}<extra></extra>",
         "name": "",
         "type": "histogram2d",
         "x": [
          "EDUCATION",
          "ENTERTAINMENT",
          "FAMILY",
          "GAME",
          "LIFESTYLE",
          "PERSONALIZATION",
          "PHOTOGRAPHY",
          "SHOPPING",
          "SPORTS",
          "TOOLS",
          "EDUCATION",
          "ENTERTAINMENT",
          "FAMILY",
          "GAME",
          "LIFESTYLE",
          "PERSONALIZATION",
          "PHOTOGRAPHY",
          "SHOPPING",
          "SPORTS",
          "TOOLS"
         ],
         "xaxis": "x",
         "xbingroup": "x",
         "y": [
          "Average Rating",
          "Average Rating",
          "Average Rating",
          "Average Rating",
          "Average Rating",
          "Average Rating",
          "Average Rating",
          "Average Rating",
          "Average Rating",
          "Average Rating",
          "Total Reviews",
          "Total Reviews",
          "Total Reviews",
          "Total Reviews",
          "Total Reviews",
          "Total Reviews",
          "Total Reviews",
          "Total Reviews",
          "Total Reviews",
          "Total Reviews"
         ],
         "yaxis": "y",
         "ybingroup": "y",
         "z": {
          "bdata": "mpmZmZmZEUAAAAAAAAARQJUgTwnylBFAQacNdNpAEUCF61G4HoURQGZmZmZm5hFAmpmZmZmZEEDNzMzMzMwQQPEVX/EVXxFAzczMzMzMEEAAAAAAoCXsQAAAAACk5zJBAAAAwBtWUUEAAACAykpCQQAAAAAg5+RAAAAAAOAKA0EAAAAAEDQhQQAAAACAe9NAAAAAAEE+PkEAAAAAAEq/QA==",
          "dtype": "f8"
         }
        }
       ],
       "layout": {
        "coloraxis": {
         "colorbar": {
          "title": {
           "text": "sum of Value"
          }
         },
         "colorscale": [
          [
           0,
           "rgb(0,0,0)"
          ],
          [
           0.3333333333333333,
           "rgb(230,0,0)"
          ],
          [
           0.6666666666666666,
           "rgb(255,210,0)"
          ],
          [
           1,
           "rgb(255,255,255)"
          ]
         ]
        },
        "height": 500,
        "legend": {
         "tracegroupgap": 0
        },
        "template": {
         "data": {
          "bar": [
           {
            "error_x": {
             "color": "#2a3f5f"
            },
            "error_y": {
             "color": "#2a3f5f"
            },
            "marker": {
             "line": {
              "color": "#E5ECF6",
              "width": 0.5
             },
             "pattern": {
              "fillmode": "overlay",
              "size": 10,
              "solidity": 0.2
             }
            },
            "type": "bar"
           }
          ],
          "barpolar": [
           {
            "marker": {
             "line": {
              "color": "#E5ECF6",
              "width": 0.5
             },
             "pattern": {
              "fillmode": "overlay",
              "size": 10,
              "solidity": 0.2
             }
            },
            "type": "barpolar"
           }
          ],
          "carpet": [
           {
            "aaxis": {
             "endlinecolor": "#2a3f5f",
             "gridcolor": "white",
             "linecolor": "white",
             "minorgridcolor": "white",
             "startlinecolor": "#2a3f5f"
            },
            "baxis": {
             "endlinecolor": "#2a3f5f",
             "gridcolor": "white",
             "linecolor": "white",
             "minorgridcolor": "white",
             "startlinecolor": "#2a3f5f"
            },
            "type": "carpet"
           }
          ],
          "choropleth": [
           {
            "colorbar": {
             "outlinewidth": 0,
             "ticks": ""
            },
            "type": "choropleth"
           }
          ],
          "contour": [
           {
            "colorbar": {
             "outlinewidth": 0,
             "ticks": ""
            },
            "colorscale": [
             [
              0,
              "#0d0887"
             ],
             [
              0.1111111111111111,
              "#46039f"
             ],
             [
              0.2222222222222222,
              "#7201a8"
             ],
             [
              0.3333333333333333,
              "#9c179e"
             ],
             [
              0.4444444444444444,
              "#bd3786"
             ],
             [
              0.5555555555555556,
              "#d8576b"
             ],
             [
              0.6666666666666666,
              "#ed7953"
             ],
             [
              0.7777777777777778,
              "#fb9f3a"
             ],
             [
              0.8888888888888888,
              "#fdca26"
             ],
             [
              1,
              "#f0f921"
             ]
            ],
            "type": "contour"
           }
          ],
          "contourcarpet": [
           {
            "colorbar": {
             "outlinewidth": 0,
             "ticks": ""
            },
            "type": "contourcarpet"
           }
          ],
          "heatmap": [
           {
            "colorbar": {
             "outlinewidth": 0,
             "ticks": ""
            },
            "colorscale": [
             [
              0,
              "#0d0887"
             ],
             [
              0.1111111111111111,
              "#46039f"
             ],
             [
              0.2222222222222222,
              "#7201a8"
             ],
             [
              0.3333333333333333,
              "#9c179e"
             ],
             [
              0.4444444444444444,
              "#bd3786"
             ],
             [
              0.5555555555555556,
              "#d8576b"
             ],
             [
              0.6666666666666666,
              "#ed7953"
             ],
             [
              0.7777777777777778,
              "#fb9f3a"
             ],
             [
              0.8888888888888888,
              "#fdca26"
             ],
             [
              1,
              "#f0f921"
             ]
            ],
            "type": "heatmap"
           }
          ],
          "histogram": [
           {
            "marker": {
             "pattern": {
              "fillmode": "overlay",
              "size": 10,
              "solidity": 0.2
             }
            },
            "type": "histogram"
           }
          ],
          "histogram2d": [
           {
            "colorbar": {
             "outlinewidth": 0,
             "ticks": ""
            },
            "colorscale": [
             [
              0,
              "#0d0887"
             ],
             [
              0.1111111111111111,
              "#46039f"
             ],
             [
              0.2222222222222222,
              "#7201a8"
             ],
             [
              0.3333333333333333,
              "#9c179e"
             ],
             [
              0.4444444444444444,
              "#bd3786"
             ],
             [
              0.5555555555555556,
              "#d8576b"
             ],
             [
              0.6666666666666666,
              "#ed7953"
             ],
             [
              0.7777777777777778,
              "#fb9f3a"
             ],
             [
              0.8888888888888888,
              "#fdca26"
             ],
             [
              1,
              "#f0f921"
             ]
            ],
            "type": "histogram2d"
           }
          ],
          "histogram2dcontour": [
           {
            "colorbar": {
             "outlinewidth": 0,
             "ticks": ""
            },
            "colorscale": [
             [
              0,
              "#0d0887"
             ],
             [
              0.1111111111111111,
              "#46039f"
             ],
             [
              0.2222222222222222,
              "#7201a8"
             ],
             [
              0.3333333333333333,
              "#9c179e"
             ],
             [
              0.4444444444444444,
              "#bd3786"
             ],
             [
              0.5555555555555556,
              "#d8576b"
             ],
             [
              0.6666666666666666,
              "#ed7953"
             ],
             [
              0.7777777777777778,
              "#fb9f3a"
             ],
             [
              0.8888888888888888,
              "#fdca26"
             ],
             [
              1,
              "#f0f921"
             ]
            ],
            "type": "histogram2dcontour"
           }
          ],
          "mesh3d": [
           {
            "colorbar": {
             "outlinewidth": 0,
             "ticks": ""
            },
            "type": "mesh3d"
           }
          ],
          "parcoords": [
           {
            "line": {
             "colorbar": {
              "outlinewidth": 0,
              "ticks": ""
             }
            },
            "type": "parcoords"
           }
          ],
          "pie": [
           {
            "automargin": true,
            "type": "pie"
           }
          ],
          "scatter": [
           {
            "fillpattern": {
             "fillmode": "overlay",
             "size": 10,
             "solidity": 0.2
            },
            "type": "scatter"
           }
          ],
          "scatter3d": [
           {
            "line": {
             "colorbar": {
              "outlinewidth": 0,
              "ticks": ""
             }
            },
            "marker": {
             "colorbar": {
              "outlinewidth": 0,
              "ticks": ""
             }
            },
            "type": "scatter3d"
           }
          ],
          "scattercarpet": [
           {
            "marker": {
             "colorbar": {
              "outlinewidth": 0,
              "ticks": ""
             }
            },
            "type": "scattercarpet"
           }
          ],
          "scattergeo": [
           {
            "marker": {
             "colorbar": {
              "outlinewidth": 0,
              "ticks": ""
             }
            },
            "type": "scattergeo"
           }
          ],
          "scattergl": [
           {
            "marker": {
             "colorbar": {
              "outlinewidth": 0,
              "ticks": ""
             }
            },
            "type": "scattergl"
           }
          ],
          "scattermap": [
           {
            "marker": {
             "colorbar": {
              "outlinewidth": 0,
              "ticks": ""
             }
            },
            "type": "scattermap"
           }
          ],
          "scattermapbox": [
           {
            "marker": {
             "colorbar": {
              "outlinewidth": 0,
              "ticks": ""
             }
            },
            "type": "scattermapbox"
           }
          ],
          "scatterpolar": [
           {
            "marker": {
             "colorbar": {
              "outlinewidth": 0,
              "ticks": ""
             }
            },
            "type": "scatterpolar"
           }
          ],
          "scatterpolargl": [
           {
            "marker": {
             "colorbar": {
              "outlinewidth": 0,
              "ticks": ""
             }
            },
            "type": "scatterpolargl"
           }
          ],
          "scatterternary": [
           {
            "marker": {
             "colorbar": {
              "outlinewidth": 0,
              "ticks": ""
             }
            },
            "type": "scatterternary"
           }
          ],
          "surface": [
           {
            "colorbar": {
             "outlinewidth": 0,
             "ticks": ""
            },
            "colorscale": [
             [
              0,
              "#0d0887"
             ],
             [
              0.1111111111111111,
              "#46039f"
             ],
             [
              0.2222222222222222,
              "#7201a8"
             ],
             [
              0.3333333333333333,
              "#9c179e"
             ],
             [
              0.4444444444444444,
              "#bd3786"
             ],
             [
              0.5555555555555556,
              "#d8576b"
             ],
             [
              0.6666666666666666,
              "#ed7953"
             ],
             [
              0.7777777777777778,
              "#fb9f3a"
             ],
             [
              0.8888888888888888,
              "#fdca26"
             ],
             [
              1,
              "#f0f921"
             ]
            ],
            "type": "surface"
           }
          ],
          "table": [
           {
            "cells": {
             "fill": {
              "color": "#EBF0F8"
             },
             "line": {
              "color": "white"
             }
            },
            "header": {
             "fill": {
              "color": "#C8D4E3"
             },
             "line": {
              "color": "white"
             }
            },
            "type": "table"
           }
          ]
         },
         "layout": {
          "annotationdefaults": {
           "arrowcolor": "#2a3f5f",
           "arrowhead": 0,
           "arrowwidth": 1
          },
          "autotypenumbers": "strict",
          "coloraxis": {
           "colorbar": {
            "outlinewidth": 0,
            "ticks": ""
           }
          },
          "colorscale": {
           "diverging": [
            [
             0,
             "#8e0152"
            ],
            [
             0.1,
             "#c51b7d"
            ],
            [
             0.2,
             "#de77ae"
            ],
            [
             0.3,
             "#f1b6da"
            ],
            [
             0.4,
             "#fde0ef"
            ],
            [
             0.5,
             "#f7f7f7"
            ],
            [
             0.6,
             "#e6f5d0"
            ],
            [
             0.7,
             "#b8e186"
            ],
            [
             0.8,
             "#7fbc41"
            ],
            [
             0.9,
             "#4d9221"
            ],
            [
             1,
             "#276419"
            ]
           ],
           "sequential": [
            [
             0,
             "#0d0887"
            ],
            [
             0.1111111111111111,
             "#46039f"
            ],
            [
             0.2222222222222222,
             "#7201a8"
            ],
            [
             0.3333333333333333,
             "#9c179e"
            ],
            [
             0.4444444444444444,
             "#bd3786"
            ],
            [
             0.5555555555555556,
             "#d8576b"
            ],
            [
             0.6666666666666666,
             "#ed7953"
            ],
            [
             0.7777777777777778,
             "#fb9f3a"
            ],
            [
             0.8888888888888888,
             "#fdca26"
            ],
            [
             1,
             "#f0f921"
            ]
           ],
           "sequentialminus": [
            [
             0,
             "#0d0887"
            ],
            [
             0.1111111111111111,
             "#46039f"
            ],
            [
             0.2222222222222222,
             "#7201a8"
            ],
            [
             0.3333333333333333,
             "#9c179e"
            ],
            [
             0.4444444444444444,
             "#bd3786"
            ],
            [
             0.5555555555555556,
             "#d8576b"
            ],
            [
             0.6666666666666666,
             "#ed7953"
            ],
            [
             0.7777777777777778,
             "#fb9f3a"
            ],
            [
             0.8888888888888888,
             "#fdca26"
            ],
            [
             1,
             "#f0f921"
            ]
           ]
          },
          "colorway": [
           "#636efa",
           "#EF553B",
           "#00cc96",
           "#ab63fa",
           "#FFA15A",
           "#19d3f3",
           "#FF6692",
           "#B6E880",
           "#FF97FF",
           "#FECB52"
          ],
          "font": {
           "color": "#2a3f5f"
          },
          "geo": {
           "bgcolor": "white",
           "lakecolor": "white",
           "landcolor": "#E5ECF6",
           "showlakes": true,
           "showland": true,
           "subunitcolor": "white"
          },
          "hoverlabel": {
           "align": "left"
          },
          "hovermode": "closest",
          "mapbox": {
           "style": "light"
          },
          "paper_bgcolor": "white",
          "plot_bgcolor": "#E5ECF6",
          "polar": {
           "angularaxis": {
            "gridcolor": "white",
            "linecolor": "white",
            "ticks": ""
           },
           "bgcolor": "#E5ECF6",
           "radialaxis": {
            "gridcolor": "white",
            "linecolor": "white",
            "ticks": ""
           }
          },
          "scene": {
           "xaxis": {
            "backgroundcolor": "#E5ECF6",
            "gridcolor": "white",
            "gridwidth": 2,
            "linecolor": "white",
            "showbackground": true,
            "ticks": "",
            "zerolinecolor": "white"
           },
           "yaxis": {
            "backgroundcolor": "#E5ECF6",
            "gridcolor": "white",
            "gridwidth": 2,
            "linecolor": "white",
            "showbackground": true,
            "ticks": "",
            "zerolinecolor": "white"
           },
           "zaxis": {
            "backgroundcolor": "#E5ECF6",
            "gridcolor": "white",
            "gridwidth": 2,
            "linecolor": "white",
            "showbackground": true,
            "ticks": "",
            "zerolinecolor": "white"
           }
          },
          "shapedefaults": {
           "line": {
            "color": "#2a3f5f"
           }
          },
          "ternary": {
           "aaxis": {
            "gridcolor": "white",
            "linecolor": "white",
            "ticks": ""
           },
           "baxis": {
            "gridcolor": "white",
            "linecolor": "white",
            "ticks": ""
           },
           "bgcolor": "#E5ECF6",
           "caxis": {
            "gridcolor": "white",
            "linecolor": "white",
            "ticks": ""
           }
          },
          "title": {
           "x": 0.05
          },
          "xaxis": {
           "automargin": true,
           "gridcolor": "white",
           "linecolor": "white",
           "ticks": "",
           "title": {
            "standoff": 15
           },
           "zerolinecolor": "white",
           "zerolinewidth": 2
          },
          "yaxis": {
           "automargin": true,
           "gridcolor": "white",
           "linecolor": "white",
           "ticks": "",
           "title": {
            "standoff": 15
           },
           "zerolinecolor": "white",
           "zerolinewidth": 2
          }
         }
        },
        "title": {
         "text": "Heatmap of Ratings and Reviews Across Top 10 App Categories"
        },
        "width": 1000,
        "xaxis": {
         "anchor": "y",
         "domain": [
          0,
          1
         ],
         "title": {
          "text": "Category"
         }
        },
        "yaxis": {
         "anchor": "x",
         "domain": [
          0,
          1
         ],
         "title": {
          "text": "Metric"
         }
        }
       }
      }
     },
     "metadata": {},
     "output_type": "display_data"
    }
   ],
   "source": [
    "# Show heatmap only between 3 PM and 5 PM IST\n",
    "if 15 <= now.hour < 17:\n",
    "    fig = px.density_heatmap(\n",
    "        melted,\n",
    "        x='Category',\n",
    "        y='Metric',\n",
    "        z='Value',\n",
    "        color_continuous_scale='Hot',  # You can change to 'Hot', 'Blues', etc.\n",
    "        title='Heatmap of Ratings and Reviews Across Top 10 App Categories'\n",
    "    )\n",
    "\n",
    "    fig.update_layout(width=1000, height=500)\n",
    "    fig.show()\n",
    "else:\n",
    "    print(\"⏱️ Heatmap is only available between 3 PM and 5 PM IST.\")"
   ]
  },
  {
   "cell_type": "code",
   "execution_count": 63,
   "id": "9e76048c",
   "metadata": {},
   "outputs": [
    {
     "data": {
      "application/vnd.plotly.v1+json": {
       "config": {
        "plotlyServerURL": "https://plot.ly"
       },
       "data": [
        {
         "hovertemplate": "<b>%{hovertext}</b><br><br>Category=EDUCATION<br>Rating=%{x}<br>Reviews=%{y}<br>Installs=%{marker.size}<extra></extra>",
         "hovertext": [
          "Monster Truck Driver & Racing",
          "Memorado - Brain Games"
         ],
         "legendgroup": "EDUCATION",
         "marker": {
          "color": "#636efa",
          "size": {
           "bdata": "AAAAAICELkEAAAAAgIQuQQ==",
           "dtype": "f8"
          },
          "sizemode": "area",
          "sizeref": 27777.777777777777,
          "symbol": "circle"
         },
         "mode": "markers",
         "name": "EDUCATION",
         "orientation": "v",
         "showlegend": true,
         "type": "scatter",
         "x": {
          "bdata": "mpmZmZmZEUCamZmZmZkRQA==",
          "dtype": "f8"
         },
         "xaxis": "x",
         "y": {
          "bdata": "AAAAAABgh0AAAAAAIMjrQA==",
          "dtype": "f8"
         },
         "yaxis": "y"
        },
        {
         "hovertemplate": "<b>%{hovertext}</b><br><br>Category=ENTERTAINMENT<br>Rating=%{x}<br>Reviews=%{y}<br>Installs=%{marker.size}<extra></extra>",
         "hovertext": [
          "Nick",
          "Nick",
          "WWE",
          "Nick",
          "Nick Jr. - Shows & Games",
          "Nick"
         ],
         "legendgroup": "ENTERTAINMENT",
         "marker": {
          "color": "#EF553B",
          "size": {
           "bdata": "AAAAANASY0EAAAAA0BJjQQAAAADQEmNBAAAAANASY0EAAAAAgIQuQQAAAADQEmNB",
           "dtype": "f8"
          },
          "sizemode": "area",
          "sizeref": 27777.777777777777,
          "symbol": "circle"
         },
         "mode": "markers",
         "name": "ENTERTAINMENT",
         "orientation": "v",
         "showlegend": true,
         "type": "scatter",
         "x": {
          "bdata": "zczMzMzMEEDNzMzMzMwQQAAAAAAAABJAzczMzMzMEEDNzMzMzMwQQM3MzMzMzBBA",
          "dtype": "f8"
         },
         "xaxis": "x",
         "y": {
          "bdata": "AAAAAPAY/kAAAAAA8Bj+QAAAAADAfCZBAAAAAPAY/kAAAAAAAITBQAAAAADwGP5A",
          "dtype": "f8"
         },
         "yaxis": "y"
        },
        {
         "hovertemplate": "<b>%{hovertext}</b><br><br>Category=GAME<br>Rating=%{x}<br>Reviews=%{y}<br>Installs=%{marker.size}<extra></extra>",
         "hovertext": [
          "Power Rangers Dino Charge",
          "Once Upon a Tower",
          "Rope'n'Fly 4",
          "Rope'n'Fly 3 - Dusk Till Dawn",
          "Drag'n'Boom",
          "Oddworld: New 'n' Tasty",
          "San Andreas: Gang Crime V",
          "Robocar X Ray",
          "Mupen64+AE FREE (N64 Emulator)",
          "Mupen64Plus AE (N64 Emulator)",
          "AE Solitaire",
          "AE Angry Chef",
          "Five Nights at Neighbor House",
          "Teen Patti by BL Games",
          "Just A Regular Arcade",
          "RIDE ZERO",
          "The Visitor",
          "Bike Racing 3D",
          "Truck Driver Cargo",
          "Destroy Gunners Σ",
          "Dr. Parker : Parking Simulator",
          "Retro City Rampage DX",
          "Mad Skills Motocross",
          "Train Racing Games 3D 2 Player",
          "The Visitor: Ep.2 - Sleepover Slaughter",
          "Superbrothers Sword & Sworcery",
          "The Visitor: Ep.1 - Kitty Cat Carnage",
          "EP Gem Hunter",
          "Ez Mirror Match",
          "Armed Cam Gun Pack"
         ],
         "legendgroup": "GAME",
         "marker": {
          "color": "#00cc96",
          "size": {
           "bdata": "AAAAANASY0EAAAAAgIQuQQAAAADQEmNBAAAAANASY0EAAAAAgIQuQQAAAAAAiMNAAAAAAABq+EAAAAAAgIQuQQAAAACAhC5BAAAAAABq+EAAAAAAAGroQAAAAAAAiMNAAAAAAABq+EAAAAAAAGr4QAAAAACAhC5BAAAAAABq+EAAAAAA0BJTQQAAAACE14dBAAAAANASY0EAAAAAgIQuQQAAAACAhC5BAAAAAACIw0AAAAAAgIQuQQAAAADQEmNBAAAAAICELkEAAAAAAGr4QAAAAACAhB5BAAAAAABAj0AAAAAAgIQeQQAAAAAAiMNA",
           "dtype": "f8"
          },
          "sizemode": "area",
          "sizeref": 27777.777777777777,
          "symbol": "circle"
         },
         "mode": "markers",
         "name": "GAME",
         "orientation": "v",
         "showlegend": true,
         "type": "scatter",
         "x": {
          "bdata": "MzMzMzMzEUDNzMzMzMwSQGZmZmZmZhBAAAAAAAAAEEAzMzMzMzMTQGZmZmZmZhJAZmZmZmZmEEAAAAAAAAASQAAAAAAAABBAzczMzMzMEEAzMzMzMzMRQGZmZmZmZhBAzczMzMzMEEBmZmZmZmYQQM3MzMzMzBBAZmZmZmZmEkBmZmZmZmYQQM3MzMzMzBBAZmZmZmZmEECamZmZmZkRQAAAAAAAABJAzczMzMzMEkAAAAAAAAAQQDMzMzMzMxFAMzMzMzMzEUCamZmZmZkRQJqZmZmZmRFAZmZmZmZmEkCamZmZmZkRQM3MzMzMzBBA",
          "dtype": "f8"
         },
         "xaxis": "x",
         "y": {
          "bdata": "AAAAAMjMB0EAAAAAYCLiQAAAAABwowxBAAAAAIhEBEEAAAAA4EEAQQAAAAAADJdAAAAAAAC+okAAAAAAANCqQAAAAADgY+RAAAAAAADZsUAAAAAAAMCbQAAAAAAAqIBAAAAAAAAIoUAAAAAAAAB/QAAAAADg8eNAAAAAAAAlwUAAAAAA4HrjQAAAAAAWCS1BAAAAANhvD0EAAAAAABHFQAAAAACA1stAAAAAAAAAekAAAAAAgMLfQAAAAACwewdBAAAAAABjtkAAAAAAgIfFQAAAAAAAkqdAAAAAAADAU0AAAAAAACCqQAAAAAAAoI9A",
          "dtype": "f8"
         },
         "yaxis": "y"
        },
        {
         "hovertemplate": "<b>%{hovertext}</b><br><br>Category=FAMILY<br>Rating=%{x}<br>Reviews=%{y}<br>Installs=%{marker.size}<extra></extra>",
         "hovertext": [
          "Bubble Shooter",
          "LEGO® Juniors Create & Cruise",
          "Monster Truck Driver & Racing",
          "Nancy Drew Codes and Clues",
          "Pino chess",
          "Nick",
          "LEGO® Juniors Create & Cruise",
          "WWE",
          "I am Nose Doctor -Save my Nose",
          "Math Games for Pre-K - Grade 4",
          "Anna.K Tarot",
          "Z City",
          "How it works: AK-74N",
          "Weaphones™ Gun Sim Free Vol 1",
          "AP Art History Flashcards",
          "Adventure Quest World Mobile Quiz",
          "Sufara.ba",
          "AP Calculus BC Practice Test",
          "OK K.O.! Lakewood Plaza Turbo",
          "Nick",
          "Audio Murli Glossary For BK",
          "Chess of Blades (BL/Yaoi Game) (No VA)",
          "Chess of Blades (Demo)",
          "Br. Parking - Busy road Parking 3D 2018",
          "Dragon BZ Super Wallpapers",
          "Beast of Lycan Isle CE",
          "Card Wars Kingdom",
          "MagiMobile – Mighty Magiswords",
          "Clash Soundboard For CR & COC",
          "CX-OF",
          "LEGO® DC Mighty Micros",
          "Castle Defense 2",
          "DJ Mix Effects Simulator",
          "DS",
          "Doomsday Preppers™",
          "Shabad Gurubani Punjabi mp3 free - Ek Onkar Satnam",
          "Out There Chronicles - Ep. 2",
          "REV Robotic Enhance Vehicles",
          "Home Decoration Game",
          "XCOM: TBG",
          "Airplane Fly Hawaii",
          "FJ 4x4 Cruiser Offroad Driving",
          "How it Works: FN SCAR assault rifle",
          "Fr Ignacio Outreach"
         ],
         "legendgroup": "FAMILY",
         "marker": {
          "color": "#ab63fa",
          "size": {
           "bdata": "AAAAANASU0EAAAAAhNeHQQAAAACAhC5BAAAAAACIw0AAAAAAAECPQAAAAADQEmNBAAAAAITXh0EAAAAA0BJjQQAAAACAhB5BAAAAAABAj0AAAAAAAABZQAAAAAAAavhAAAAAAABq+EAAAAAA0BJjQQAAAAAAACRAAAAAAABAf0AAAAAAAIjDQAAAAAAAQH9AAAAAAICELkEAAAAA0BJjQQAAAAAAQI9AAAAAAAAAJEAAAAAAAECPQAAAAAAAiLNAAAAAAABAj0AAAAAAAGroQAAAAADQEmNBAAAAANASU0EAAAAAAEB/QAAAAAAAQI9AAAAAANASY0EAAAAAgIQuQQAAAACAhC5BAAAAAAAAWUAAAAAAgIQuQQAAAAAAAFlAAAAAAABAj0AAAAAAAGr4QAAAAADQElNBAAAAAABq+EAAAAAAgIQuQQAAAACAhB5BAAAAAACIw0AAAAAAAECPQA==",
           "dtype": "f8"
          },
          "sizemode": "area",
          "sizeref": 27777.777777777777,
          "symbol": "circle"
         },
         "mode": "markers",
         "name": "FAMILY",
         "orientation": "v",
         "showlegend": true,
         "type": "scatter",
         "x": {
          "bdata": "mpmZmZmZEUBmZmZmZmYQQJqZmZmZmRFAZmZmZmZmEEAzMzMzMzMTQM3MzMzMzBBAZmZmZmZmEEAAAAAAAAASQM3MzMzMzBBAZmZmZmZmEkAzMzMzMzMTQDMzMzMzMxFAmpmZmZmZEUAzMzMzMzMRQAAAAAAAABRAZmZmZmZmEkCamZmZmZkTQM3MzMzMzBBAAAAAAAAAEkDNzMzMzMwQQM3MzMzMzBJAMzMzMzMzE0DNzMzMzMwQQAAAAAAAABJAzczMzMzMEEBmZmZmZmYQQDMzMzMzMxFAzczMzMzMEEAzMzMzMzMRQM3MzMzMzBBAMzMzMzMzEUDNzMzMzMwQQGZmZmZmZhBAmpmZmZmZE0DNzMzMzMwQQAAAAAAAABRAAAAAAAAAEkCamZmZmZkRQAAAAAAAABBAAAAAAAAAEEBmZmZmZmYQQGZmZmZmZhBAZmZmZmZmEkCamZmZmZkTQA==",
          "dtype": "f8"
         },
         "xaxis": "x",
         "y": {
          "bdata": "AAAAAGA47UAAAAAAZoskQQAAAAAA6IdAAAAAAABAY0AAAAAAAIBOQAAAAACgG/5AAAAAALKCJEEAAAAAcHwmQQAAAAAAeqhAAAAAAAAAPEAAAAAAAAAxQAAAAAAAEK9AAAAAAAAckEAAAAAAfkciQQAAAAAAAPA/AAAAAAAAPEAAAAAAANBxQAAAAAAAABBAAAAAAAC08kAAAAAA0Br+QAAAAAAAgENAAAAAAAAAEEAAAAAAAIBGQAAAAAAAgERAAAAAAAAAKEAAAAAAAPakQAAAAAD2FyxBAAAAADBO/UAAAAAAAAAqQAAAAAAAADJAAAAAAMgIAUEAAAAAgCzhQAAAAAAAbbdAAAAAAAAALkAAAAAAeL4AQQAAAAAAABRAAAAAAAAAYkAAAAAAAPyjQAAAAADAIdFAAAAAAADsoUAAAAAAMF70QAAAAAAArqtAAAAAAAAARkAAAAAAAABKQA==",
          "dtype": "f8"
         },
         "yaxis": "y"
        },
        {
         "hovertemplate": "<b>%{hovertext}</b><br><br>Category=SHOPPING<br>Rating=%{x}<br>Reviews=%{y}<br>Installs=%{marker.size}<extra></extra>",
         "hovertext": [
          "SnipSnap Coupon App",
          "SnipSnap Coupon App"
         ],
         "legendgroup": "SHOPPING",
         "marker": {
          "color": "#FFA15A",
          "size": {
           "bdata": "AAAAAICELkEAAAAAgIQuQQ==",
           "dtype": "f8"
          },
          "sizemode": "area",
          "sizeref": 27777.777777777777,
          "symbol": "circle"
         },
         "mode": "markers",
         "name": "SHOPPING",
         "orientation": "v",
         "showlegend": true,
         "type": "scatter",
         "x": {
          "bdata": "zczMzMzMEEDNzMzMzMwQQA==",
          "dtype": "f8"
         },
         "xaxis": "x",
         "y": {
          "bdata": "AAAAAIB7w0AAAAAAgHvDQA==",
          "dtype": "f8"
         },
         "yaxis": "y"
        },
        {
         "hovertemplate": "<b>%{hovertext}</b><br><br>Category=PHOTOGRAPHY<br>Rating=%{x}<br>Reviews=%{y}<br>Installs=%{marker.size}<extra></extra>",
         "hovertext": [
          "Groovebook Photo Books & Gifts",
          "Photo Collage - InstaMag"
         ],
         "legendgroup": "PHOTOGRAPHY",
         "marker": {
          "color": "#19d3f3",
          "size": {
           "bdata": "AAAAAICEHkEAAAAA0BJjQQ==",
           "dtype": "f8"
          },
          "sizemode": "area",
          "sizeref": 27777.777777777777,
          "symbol": "circle"
         },
         "mode": "markers",
         "name": "PHOTOGRAPHY",
         "orientation": "v",
         "showlegend": true,
         "type": "scatter",
         "x": {
          "bdata": "AAAAAAAAEEAzMzMzMzMRQA==",
          "dtype": "f8"
         },
         "xaxis": "x",
         "y": {
          "bdata": "AAAAAMCp1EAAAAAAwo4gQQ==",
          "dtype": "f8"
         },
         "yaxis": "y"
        },
        {
         "hovertemplate": "<b>%{hovertext}</b><br><br>Category=PERSONALIZATION<br>Rating=%{x}<br>Reviews=%{y}<br>Installs=%{marker.size}<extra></extra>",
         "hovertext": [
          "Ringtones & Wallpapers for Me",
          "Swift Dark CM / CM13 Theme",
          "Day Night Live Wallpaper (All)",
          "CYANOGEN GO Launcher EX Theme"
         ],
         "legendgroup": "PERSONALIZATION",
         "marker": {
          "color": "#FF6692",
          "size": {
           "bdata": "AAAAANASY0EAAAAAAIjDQAAAAAAAauhAAAAAANASU0E=",
           "dtype": "f8"
          },
          "sizemode": "area",
          "sizeref": 27777.777777777777,
          "symbol": "circle"
         },
         "mode": "markers",
         "name": "PERSONALIZATION",
         "orientation": "v",
         "showlegend": true,
         "type": "scatter",
         "x": {
          "bdata": "zczMzMzMEEDNzMzMzMwSQM3MzMzMzBJAMzMzMzMzEUA=",
          "dtype": "f8"
         },
         "xaxis": "x",
         "y": {
          "bdata": "AAAAAODP9UAAAAAAAHCXQAAAAAAA+LJAAAAAAEBx7UA=",
          "dtype": "f8"
         },
         "yaxis": "y"
        },
        {
         "hovertemplate": "<b>%{hovertext}</b><br><br>Category=SPORTS<br>Rating=%{x}<br>Reviews=%{y}<br>Installs=%{marker.size}<extra></extra>",
         "hovertext": [
          "3D Bowling",
          "Ax 3 Domaines",
          "FIFA 16 Soccer",
          "Esporte Interativo - Notícias e Resultados Ao Vivo",
          "Beach Volleyball 3D",
          "FK Crvena zvezda",
          "Hunting Safari 3D"
         ],
         "legendgroup": "SPORTS",
         "marker": {
          "color": "#B6E880",
          "size": {
           "bdata": "AAAAAITXl0EAAAAAAECPQAAAAADQEmNBAAAAAICEHkEAAAAA0BJTQQAAAAAAiMNAAAAAANASU0E=",
           "dtype": "f8"
          },
          "sizemode": "area",
          "sizeref": 27777.777777777777,
          "symbol": "circle"
         },
         "mode": "markers",
         "name": "SPORTS",
         "orientation": "v",
         "showlegend": true,
         "type": "scatter",
         "x": {
          "bdata": "ZmZmZmZmEEAAAAAAAAASQGZmZmZmZhBAmpmZmZmZEUDNzMzMzMwQQJqZmZmZmRNAzczMzMzMEEA=",
          "dtype": "f8"
         },
         "xaxis": "x",
         "y": {
          "bdata": "AAAAABNsMEEAAAAAAAAoQAAAAADCCilBAAAAAAD4sUAAAAAA4BblQAAAAAAA7JJAAAAAAOCq4UA=",
          "dtype": "f8"
         },
         "yaxis": "y"
        },
        {
         "hovertemplate": "<b>%{hovertext}</b><br><br>Category=LIFESTYLE<br>Rating=%{x}<br>Reviews=%{y}<br>Installs=%{marker.size}<extra></extra>",
         "hovertext": [
          "12 Step Meditations & Sober Prayers AA NA AL-ANON",
          "BURGER KING® App",
          "sustainability@BU",
          "C.S. Lewis Daily Quotes",
          "EY Staff ENTERTAINER"
         ],
         "legendgroup": "LIFESTYLE",
         "marker": {
          "color": "#FF97FF",
          "size": {
           "bdata": "AAAAAABq6EAAAAAA0BJTQQAAAAAAQI9AAAAAAACIw0AAAAAAAIjDQA==",
           "dtype": "f8"
          },
          "sizemode": "area",
          "sizeref": 27777.777777777777,
          "symbol": "circle"
         },
         "mode": "markers",
         "name": "LIFESTYLE",
         "orientation": "v",
         "showlegend": true,
         "type": "scatter",
         "x": {
          "bdata": "zczMzMzMEkAAAAAAAAAQQDMzMzMzMxNAZmZmZmZmEEAzMzMzMzMRQA==",
          "dtype": "f8"
         },
         "xaxis": "x",
         "y": {
          "bdata": "AAAAAAC4h0AAAAAAYGLkQAAAAAAAACRAAAAAAADAUkAAAAAAAEBrQA==",
          "dtype": "f8"
         },
         "yaxis": "y"
        },
        {
         "hovertemplate": "<b>%{hovertext}</b><br><br>Category=TOOLS<br>Rating=%{x}<br>Reviews=%{y}<br>Installs=%{marker.size}<extra></extra>",
         "hovertext": [
          "gCMOB",
          "CV maker for Job Applications and Resume Maker"
         ],
         "legendgroup": "TOOLS",
         "marker": {
          "color": "#FECB52",
          "size": {
           "bdata": "AAAAAICELkEAAAAAAIjDQA==",
           "dtype": "f8"
          },
          "sizemode": "area",
          "sizeref": 27777.777777777777,
          "symbol": "circle"
         },
         "mode": "markers",
         "name": "TOOLS",
         "orientation": "v",
         "showlegend": true,
         "type": "scatter",
         "x": {
          "bdata": "zczMzMzMEEDNzMzMzMwQQA==",
          "dtype": "f8"
         },
         "xaxis": "x",
         "y": {
          "bdata": "AAAAAAD/vkAAAAAAAMBSQA==",
          "dtype": "f8"
         },
         "yaxis": "y"
        }
       ],
       "layout": {
        "height": 500,
        "legend": {
         "itemsizing": "constant",
         "title": {
          "text": "Category"
         },
         "tracegroupgap": 0
        },
        "template": {
         "data": {
          "bar": [
           {
            "error_x": {
             "color": "#2a3f5f"
            },
            "error_y": {
             "color": "#2a3f5f"
            },
            "marker": {
             "line": {
              "color": "#E5ECF6",
              "width": 0.5
             },
             "pattern": {
              "fillmode": "overlay",
              "size": 10,
              "solidity": 0.2
             }
            },
            "type": "bar"
           }
          ],
          "barpolar": [
           {
            "marker": {
             "line": {
              "color": "#E5ECF6",
              "width": 0.5
             },
             "pattern": {
              "fillmode": "overlay",
              "size": 10,
              "solidity": 0.2
             }
            },
            "type": "barpolar"
           }
          ],
          "carpet": [
           {
            "aaxis": {
             "endlinecolor": "#2a3f5f",
             "gridcolor": "white",
             "linecolor": "white",
             "minorgridcolor": "white",
             "startlinecolor": "#2a3f5f"
            },
            "baxis": {
             "endlinecolor": "#2a3f5f",
             "gridcolor": "white",
             "linecolor": "white",
             "minorgridcolor": "white",
             "startlinecolor": "#2a3f5f"
            },
            "type": "carpet"
           }
          ],
          "choropleth": [
           {
            "colorbar": {
             "outlinewidth": 0,
             "ticks": ""
            },
            "type": "choropleth"
           }
          ],
          "contour": [
           {
            "colorbar": {
             "outlinewidth": 0,
             "ticks": ""
            },
            "colorscale": [
             [
              0,
              "#0d0887"
             ],
             [
              0.1111111111111111,
              "#46039f"
             ],
             [
              0.2222222222222222,
              "#7201a8"
             ],
             [
              0.3333333333333333,
              "#9c179e"
             ],
             [
              0.4444444444444444,
              "#bd3786"
             ],
             [
              0.5555555555555556,
              "#d8576b"
             ],
             [
              0.6666666666666666,
              "#ed7953"
             ],
             [
              0.7777777777777778,
              "#fb9f3a"
             ],
             [
              0.8888888888888888,
              "#fdca26"
             ],
             [
              1,
              "#f0f921"
             ]
            ],
            "type": "contour"
           }
          ],
          "contourcarpet": [
           {
            "colorbar": {
             "outlinewidth": 0,
             "ticks": ""
            },
            "type": "contourcarpet"
           }
          ],
          "heatmap": [
           {
            "colorbar": {
             "outlinewidth": 0,
             "ticks": ""
            },
            "colorscale": [
             [
              0,
              "#0d0887"
             ],
             [
              0.1111111111111111,
              "#46039f"
             ],
             [
              0.2222222222222222,
              "#7201a8"
             ],
             [
              0.3333333333333333,
              "#9c179e"
             ],
             [
              0.4444444444444444,
              "#bd3786"
             ],
             [
              0.5555555555555556,
              "#d8576b"
             ],
             [
              0.6666666666666666,
              "#ed7953"
             ],
             [
              0.7777777777777778,
              "#fb9f3a"
             ],
             [
              0.8888888888888888,
              "#fdca26"
             ],
             [
              1,
              "#f0f921"
             ]
            ],
            "type": "heatmap"
           }
          ],
          "histogram": [
           {
            "marker": {
             "pattern": {
              "fillmode": "overlay",
              "size": 10,
              "solidity": 0.2
             }
            },
            "type": "histogram"
           }
          ],
          "histogram2d": [
           {
            "colorbar": {
             "outlinewidth": 0,
             "ticks": ""
            },
            "colorscale": [
             [
              0,
              "#0d0887"
             ],
             [
              0.1111111111111111,
              "#46039f"
             ],
             [
              0.2222222222222222,
              "#7201a8"
             ],
             [
              0.3333333333333333,
              "#9c179e"
             ],
             [
              0.4444444444444444,
              "#bd3786"
             ],
             [
              0.5555555555555556,
              "#d8576b"
             ],
             [
              0.6666666666666666,
              "#ed7953"
             ],
             [
              0.7777777777777778,
              "#fb9f3a"
             ],
             [
              0.8888888888888888,
              "#fdca26"
             ],
             [
              1,
              "#f0f921"
             ]
            ],
            "type": "histogram2d"
           }
          ],
          "histogram2dcontour": [
           {
            "colorbar": {
             "outlinewidth": 0,
             "ticks": ""
            },
            "colorscale": [
             [
              0,
              "#0d0887"
             ],
             [
              0.1111111111111111,
              "#46039f"
             ],
             [
              0.2222222222222222,
              "#7201a8"
             ],
             [
              0.3333333333333333,
              "#9c179e"
             ],
             [
              0.4444444444444444,
              "#bd3786"
             ],
             [
              0.5555555555555556,
              "#d8576b"
             ],
             [
              0.6666666666666666,
              "#ed7953"
             ],
             [
              0.7777777777777778,
              "#fb9f3a"
             ],
             [
              0.8888888888888888,
              "#fdca26"
             ],
             [
              1,
              "#f0f921"
             ]
            ],
            "type": "histogram2dcontour"
           }
          ],
          "mesh3d": [
           {
            "colorbar": {
             "outlinewidth": 0,
             "ticks": ""
            },
            "type": "mesh3d"
           }
          ],
          "parcoords": [
           {
            "line": {
             "colorbar": {
              "outlinewidth": 0,
              "ticks": ""
             }
            },
            "type": "parcoords"
           }
          ],
          "pie": [
           {
            "automargin": true,
            "type": "pie"
           }
          ],
          "scatter": [
           {
            "fillpattern": {
             "fillmode": "overlay",
             "size": 10,
             "solidity": 0.2
            },
            "type": "scatter"
           }
          ],
          "scatter3d": [
           {
            "line": {
             "colorbar": {
              "outlinewidth": 0,
              "ticks": ""
             }
            },
            "marker": {
             "colorbar": {
              "outlinewidth": 0,
              "ticks": ""
             }
            },
            "type": "scatter3d"
           }
          ],
          "scattercarpet": [
           {
            "marker": {
             "colorbar": {
              "outlinewidth": 0,
              "ticks": ""
             }
            },
            "type": "scattercarpet"
           }
          ],
          "scattergeo": [
           {
            "marker": {
             "colorbar": {
              "outlinewidth": 0,
              "ticks": ""
             }
            },
            "type": "scattergeo"
           }
          ],
          "scattergl": [
           {
            "marker": {
             "colorbar": {
              "outlinewidth": 0,
              "ticks": ""
             }
            },
            "type": "scattergl"
           }
          ],
          "scattermap": [
           {
            "marker": {
             "colorbar": {
              "outlinewidth": 0,
              "ticks": ""
             }
            },
            "type": "scattermap"
           }
          ],
          "scattermapbox": [
           {
            "marker": {
             "colorbar": {
              "outlinewidth": 0,
              "ticks": ""
             }
            },
            "type": "scattermapbox"
           }
          ],
          "scatterpolar": [
           {
            "marker": {
             "colorbar": {
              "outlinewidth": 0,
              "ticks": ""
             }
            },
            "type": "scatterpolar"
           }
          ],
          "scatterpolargl": [
           {
            "marker": {
             "colorbar": {
              "outlinewidth": 0,
              "ticks": ""
             }
            },
            "type": "scatterpolargl"
           }
          ],
          "scatterternary": [
           {
            "marker": {
             "colorbar": {
              "outlinewidth": 0,
              "ticks": ""
             }
            },
            "type": "scatterternary"
           }
          ],
          "surface": [
           {
            "colorbar": {
             "outlinewidth": 0,
             "ticks": ""
            },
            "colorscale": [
             [
              0,
              "#0d0887"
             ],
             [
              0.1111111111111111,
              "#46039f"
             ],
             [
              0.2222222222222222,
              "#7201a8"
             ],
             [
              0.3333333333333333,
              "#9c179e"
             ],
             [
              0.4444444444444444,
              "#bd3786"
             ],
             [
              0.5555555555555556,
              "#d8576b"
             ],
             [
              0.6666666666666666,
              "#ed7953"
             ],
             [
              0.7777777777777778,
              "#fb9f3a"
             ],
             [
              0.8888888888888888,
              "#fdca26"
             ],
             [
              1,
              "#f0f921"
             ]
            ],
            "type": "surface"
           }
          ],
          "table": [
           {
            "cells": {
             "fill": {
              "color": "#EBF0F8"
             },
             "line": {
              "color": "white"
             }
            },
            "header": {
             "fill": {
              "color": "#C8D4E3"
             },
             "line": {
              "color": "white"
             }
            },
            "type": "table"
           }
          ]
         },
         "layout": {
          "annotationdefaults": {
           "arrowcolor": "#2a3f5f",
           "arrowhead": 0,
           "arrowwidth": 1
          },
          "autotypenumbers": "strict",
          "coloraxis": {
           "colorbar": {
            "outlinewidth": 0,
            "ticks": ""
           }
          },
          "colorscale": {
           "diverging": [
            [
             0,
             "#8e0152"
            ],
            [
             0.1,
             "#c51b7d"
            ],
            [
             0.2,
             "#de77ae"
            ],
            [
             0.3,
             "#f1b6da"
            ],
            [
             0.4,
             "#fde0ef"
            ],
            [
             0.5,
             "#f7f7f7"
            ],
            [
             0.6,
             "#e6f5d0"
            ],
            [
             0.7,
             "#b8e186"
            ],
            [
             0.8,
             "#7fbc41"
            ],
            [
             0.9,
             "#4d9221"
            ],
            [
             1,
             "#276419"
            ]
           ],
           "sequential": [
            [
             0,
             "#0d0887"
            ],
            [
             0.1111111111111111,
             "#46039f"
            ],
            [
             0.2222222222222222,
             "#7201a8"
            ],
            [
             0.3333333333333333,
             "#9c179e"
            ],
            [
             0.4444444444444444,
             "#bd3786"
            ],
            [
             0.5555555555555556,
             "#d8576b"
            ],
            [
             0.6666666666666666,
             "#ed7953"
            ],
            [
             0.7777777777777778,
             "#fb9f3a"
            ],
            [
             0.8888888888888888,
             "#fdca26"
            ],
            [
             1,
             "#f0f921"
            ]
           ],
           "sequentialminus": [
            [
             0,
             "#0d0887"
            ],
            [
             0.1111111111111111,
             "#46039f"
            ],
            [
             0.2222222222222222,
             "#7201a8"
            ],
            [
             0.3333333333333333,
             "#9c179e"
            ],
            [
             0.4444444444444444,
             "#bd3786"
            ],
            [
             0.5555555555555556,
             "#d8576b"
            ],
            [
             0.6666666666666666,
             "#ed7953"
            ],
            [
             0.7777777777777778,
             "#fb9f3a"
            ],
            [
             0.8888888888888888,
             "#fdca26"
            ],
            [
             1,
             "#f0f921"
            ]
           ]
          },
          "colorway": [
           "#636efa",
           "#EF553B",
           "#00cc96",
           "#ab63fa",
           "#FFA15A",
           "#19d3f3",
           "#FF6692",
           "#B6E880",
           "#FF97FF",
           "#FECB52"
          ],
          "font": {
           "color": "#2a3f5f"
          },
          "geo": {
           "bgcolor": "white",
           "lakecolor": "white",
           "landcolor": "#E5ECF6",
           "showlakes": true,
           "showland": true,
           "subunitcolor": "white"
          },
          "hoverlabel": {
           "align": "left"
          },
          "hovermode": "closest",
          "mapbox": {
           "style": "light"
          },
          "paper_bgcolor": "white",
          "plot_bgcolor": "#E5ECF6",
          "polar": {
           "angularaxis": {
            "gridcolor": "white",
            "linecolor": "white",
            "ticks": ""
           },
           "bgcolor": "#E5ECF6",
           "radialaxis": {
            "gridcolor": "white",
            "linecolor": "white",
            "ticks": ""
           }
          },
          "scene": {
           "xaxis": {
            "backgroundcolor": "#E5ECF6",
            "gridcolor": "white",
            "gridwidth": 2,
            "linecolor": "white",
            "showbackground": true,
            "ticks": "",
            "zerolinecolor": "white"
           },
           "yaxis": {
            "backgroundcolor": "#E5ECF6",
            "gridcolor": "white",
            "gridwidth": 2,
            "linecolor": "white",
            "showbackground": true,
            "ticks": "",
            "zerolinecolor": "white"
           },
           "zaxis": {
            "backgroundcolor": "#E5ECF6",
            "gridcolor": "white",
            "gridwidth": 2,
            "linecolor": "white",
            "showbackground": true,
            "ticks": "",
            "zerolinecolor": "white"
           }
          },
          "shapedefaults": {
           "line": {
            "color": "#2a3f5f"
           }
          },
          "ternary": {
           "aaxis": {
            "gridcolor": "white",
            "linecolor": "white",
            "ticks": ""
           },
           "baxis": {
            "gridcolor": "white",
            "linecolor": "white",
            "ticks": ""
           },
           "bgcolor": "#E5ECF6",
           "caxis": {
            "gridcolor": "white",
            "linecolor": "white",
            "ticks": ""
           }
          },
          "title": {
           "x": 0.05
          },
          "xaxis": {
           "automargin": true,
           "gridcolor": "white",
           "linecolor": "white",
           "ticks": "",
           "title": {
            "standoff": 15
           },
           "zerolinecolor": "white",
           "zerolinewidth": 2
          },
          "yaxis": {
           "automargin": true,
           "gridcolor": "white",
           "linecolor": "white",
           "ticks": "",
           "title": {
            "standoff": 15
           },
           "zerolinecolor": "white",
           "zerolinewidth": 2
          }
         }
        },
        "title": {
         "text": "Bubble Chart of Apps with Rating vs Reviews"
        },
        "width": 1000,
        "xaxis": {
         "anchor": "y",
         "domain": [
          0,
          1
         ],
         "title": {
          "text": "Rating"
         }
        },
        "yaxis": {
         "anchor": "x",
         "domain": [
          0,
          1
         ],
         "title": {
          "text": "Reviews"
         }
        }
       }
      }
     },
     "metadata": {},
     "output_type": "display_data"
    }
   ],
   "source": [
    "if 15 <= now.hour < 17:\n",
    "    fig = px.scatter(\n",
    "        data_top,\n",
    "        x='Rating',\n",
    "        y='Reviews',\n",
    "        size='Installs',\n",
    "        color='Category',\n",
    "        hover_name='App',\n",
    "        title='Bubble Chart of Apps with Rating vs Reviews',\n",
    "        size_max=60\n",
    "    )\n",
    "\n",
    "    fig.update_layout(width=1000, height=500)\n",
    "    fig.show()"
   ]
  }
 ],
 "metadata": {
  "kernelspec": {
   "display_name": "Python 3",
   "language": "python",
   "name": "python3"
  },
  "language_info": {
   "codemirror_mode": {
    "name": "ipython",
    "version": 3
   },
   "file_extension": ".py",
   "mimetype": "text/x-python",
   "name": "python",
   "nbconvert_exporter": "python",
   "pygments_lexer": "ipython3",
   "version": "3.13.3"
  }
 },
 "nbformat": 4,
 "nbformat_minor": 5
}
